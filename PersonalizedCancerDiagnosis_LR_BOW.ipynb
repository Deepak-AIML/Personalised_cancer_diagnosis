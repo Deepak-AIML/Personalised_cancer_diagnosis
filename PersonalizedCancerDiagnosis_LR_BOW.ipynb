{
 "cells": [
  {
   "cell_type": "markdown",
   "metadata": {},
   "source": [
    "<p style=\"font-size:36px;text-align:center\"> <b>Personalized cancer diagnosis</b> </p>"
   ]
  },
  {
   "cell_type": "markdown",
   "metadata": {},
   "source": [
    "<h1>1. Business Problem</h1>"
   ]
  },
  {
   "cell_type": "markdown",
   "metadata": {},
   "source": [
    "<h2>1.1. Description</h2>"
   ]
  },
  {
   "cell_type": "markdown",
   "metadata": {},
   "source": [
    "<p> Source: https://www.kaggle.com/c/msk-redefining-cancer-treatment/ </p>\n",
    "<p> Data: Memorial Sloan Kettering Cancer Center (MSKCC)</p>\n",
    "<p> Download training_variants.zip and training_text.zip from Kaggle.</p> \n",
    "\n",
    "<h6> Context:</h6>\n",
    "<p> Source: https://www.kaggle.com/c/msk-redefining-cancer-treatment/discussion/35336#198462</p>\n",
    "\n",
    "<h6> Problem statement : </h6>\n",
    "<p> Classify the given genetic variations/mutations based on evidence from text-based clinical literature. </p>"
   ]
  },
  {
   "cell_type": "markdown",
   "metadata": {},
   "source": [
    "<h2>1.2. Source/Useful Links</h2>"
   ]
  },
  {
   "cell_type": "markdown",
   "metadata": {},
   "source": [
    " Some articles and reference blogs about the problem statement"
   ]
  },
  {
   "cell_type": "markdown",
   "metadata": {},
   "source": [
    "1. https://www.forbes.com/sites/matthewherper/2017/06/03/a-new-cancer-drug-helped-almost-everyone-who-took-it-almost-heres-what-it-teaches-us/#2a44ee2f6b25\n",
    "2. https://www.youtube.com/watch?v=UwbuW7oK8rk \n",
    "3. https://www.youtube.com/watch?v=qxXRKVompI8"
   ]
  },
  {
   "cell_type": "markdown",
   "metadata": {},
   "source": [
    "<h2>1.3. Real-world/Business objectives and constraints.</h2>"
   ]
  },
  {
   "cell_type": "markdown",
   "metadata": {},
   "source": [
    "* No low-latency requirement.\n",
    "* Interpretability is important.\n",
    "* Errors can be very costly.\n",
    "* Probability of a data-point belonging to each class is needed."
   ]
  },
  {
   "cell_type": "markdown",
   "metadata": {},
   "source": [
    "<h1>2. Machine Learning Problem Formulation</h1>"
   ]
  },
  {
   "cell_type": "markdown",
   "metadata": {},
   "source": [
    "<h2>2.1. Data</h2>"
   ]
  },
  {
   "cell_type": "markdown",
   "metadata": {},
   "source": [
    "<h3>2.1.1. Data Overview</h3>"
   ]
  },
  {
   "cell_type": "markdown",
   "metadata": {},
   "source": [
    "- Source: https://www.kaggle.com/c/msk-redefining-cancer-treatment/data\n",
    "- We have two data files: one conatins the information about the genetic mutations and the other contains the clinical evidence (text) that  human experts/pathologists use to classify the genetic mutations. \n",
    "- Both these data files are have a common column called ID\n",
    "- <p> \n",
    "    Data file's information:\n",
    "    <ul> \n",
    "        <li>\n",
    "        training_variants (ID , Gene, Variations, Class)\n",
    "        </li>\n",
    "        <li>\n",
    "        training_text (ID, Text)\n",
    "        </li>\n",
    "    </ul>\n",
    "</p>"
   ]
  },
  {
   "cell_type": "markdown",
   "metadata": {},
   "source": [
    "<h3>2.1.2. Example Data Point</h3>"
   ]
  },
  {
   "cell_type": "markdown",
   "metadata": {},
   "source": [
    "<h6>training_variants</h6>\n",
    "<hr>\n",
    "ID,Gene,Variation,Class<br>\n",
    "0,FAM58A,Truncating Mutations,1 <br>\n",
    "1,CBL,W802*,2 <br>\n",
    "2,CBL,Q249E,2 <br>\n",
    "...\n",
    "\n",
    "<h6> training_text</h6>\n",
    "<hr>\n",
    "ID,Text <br>\n",
    "0||Cyclin-dependent kinases (CDKs) regulate a variety of fundamental cellular processes. CDK10 stands out as one of the last orphan CDKs for which no activating cyclin has been identified and no kinase activity revealed. Previous work has shown that CDK10 silencing increases ETS2 (v-ets erythroblastosis virus E26 oncogene homolog 2)-driven activation of the MAPK pathway, which confers tamoxifen resistance to breast cancer cells. The precise mechanisms by which CDK10 modulates ETS2 activity, and more generally the functions of CDK10, remain elusive. Here we demonstrate that CDK10 is a cyclin-dependent kinase by identifying cyclin M as an activating cyclin. Cyclin M, an orphan cyclin, is the product of FAM58A, whose mutations cause STAR syndrome, a human developmental anomaly whose features include toe syndactyly, telecanthus, and anogenital and renal malformations. We show that STAR syndrome-associated cyclin M mutants are unable to interact with CDK10. Cyclin M silencing phenocopies CDK10 silencing in increasing c-Raf and in conferring tamoxifen resistance to breast cancer cells. CDK10/cyclin M phosphorylates ETS2 in vitro, and in cells it positively controls ETS2 degradation by the proteasome. ETS2 protein levels are increased in cells derived from a STAR patient, and this increase is attributable to decreased cyclin M levels. Altogether, our results reveal an additional regulatory mechanism for ETS2, which plays key roles in cancer and development. They also shed light on the molecular mechanisms underlying STAR syndrome.Cyclin-dependent kinases (CDKs) play a pivotal role in the control of a number of fundamental cellular processes (1). The human genome contains 21 genes encoding proteins that can be considered as members of the CDK family owing to their sequence similarity with bona fide CDKs, those known to be activated by cyclins (2). Although discovered almost 20 y ago (3, 4), CDK10 remains one of the two CDKs without an identified cyclin partner. This knowledge gap has largely impeded the exploration of its biological functions. CDK10 can act as a positive cell cycle regulator in some cells (5, 6) or as a tumor suppressor in others (7, 8). CDK10 interacts with the ETS2 (v-ets erythroblastosis virus E26 oncogene homolog 2) transcription factor and inhibits its transcriptional activity through an unknown mechanism (9). CDK10 knockdown derepresses ETS2, which increases the expression of the c-Raf protein kinase, activates the MAPK pathway, and induces resistance of MCF7 cells to tamoxifen (6). ... "
   ]
  },
  {
   "cell_type": "markdown",
   "metadata": {},
   "source": [
    "<h2>2.2. Mapping the real-world problem to an ML problem</h2>"
   ]
  },
  {
   "cell_type": "markdown",
   "metadata": {},
   "source": [
    "<h3>2.2.1. Type of Machine Learning Problem</h3>"
   ]
  },
  {
   "cell_type": "markdown",
   "metadata": {},
   "source": [
    "<p>\n",
    "    \n",
    "            There are nine different classes a genetic mutation can be classified into => Multi class classification problem\n",
    "   \n",
    "      \n",
    "    \n",
    "</p>"
   ]
  },
  {
   "cell_type": "markdown",
   "metadata": {},
   "source": [
    "<h3>2.2.2. Performance Metric</h3>"
   ]
  },
  {
   "cell_type": "markdown",
   "metadata": {},
   "source": [
    "Source: https://www.kaggle.com/c/msk-redefining-cancer-treatment#evaluation\n",
    "\n",
    "Metric(s): \n",
    "* Multi class log-loss \n",
    "* Confusion matrix \n"
   ]
  },
  {
   "cell_type": "markdown",
   "metadata": {},
   "source": [
    "<h3>2.2.3. Machine Learing Objectives and Constraints</h3>"
   ]
  },
  {
   "cell_type": "markdown",
   "metadata": {},
   "source": [
    "<p> Objective: Predict the probability of each data-point belonging to each of the nine classes.\n",
    "</p>\n",
    "<p> Constraints:\n",
    "</p>\n",
    "* Interpretability\n",
    "* Class probabilities are needed.\n",
    "* Penalize the errors in class probabilites => Metric is Log-loss.\n",
    "* No Latency constraints."
   ]
  },
  {
   "cell_type": "markdown",
   "metadata": {},
   "source": [
    "<h2>2.3. Train, CV and Test Datasets</h2>"
   ]
  },
  {
   "cell_type": "markdown",
   "metadata": {},
   "source": [
    " Split the dataset randomly into three parts train, cross validation and test with 64%,16%, 20% of data respectively"
   ]
  },
  {
   "cell_type": "markdown",
   "metadata": {},
   "source": [
    "<h1>3. Exploratory Data Analysis</h1>"
   ]
  },
  {
   "cell_type": "code",
   "execution_count": 1,
   "metadata": {},
   "outputs": [],
   "source": [
    "import pandas as pd\n",
    "import matplotlib.pyplot as plt\n",
    "import re\n",
    "import time\n",
    "import warnings\n",
    "import numpy as np\n",
    "from nltk.corpus import stopwords\n",
    "from sklearn.decomposition import TruncatedSVD\n",
    "from sklearn.preprocessing import normalize\n",
    "from sklearn.feature_extraction.text import CountVectorizer\n",
    "from sklearn.manifold import TSNE\n",
    "import seaborn as sns\n",
    "from sklearn.neighbors import KNeighborsClassifier\n",
    "from sklearn.metrics import confusion_matrix\n",
    "from sklearn.metrics.classification import accuracy_score, log_loss\n",
    "from sklearn.feature_extraction.text import TfidfVectorizer\n",
    "from sklearn.linear_model import SGDClassifier\n",
    "from imblearn.over_sampling import SMOTE\n",
    "from collections import Counter\n",
    "from scipy.sparse import hstack\n",
    "from sklearn.multiclass import OneVsRestClassifier\n",
    "from sklearn.svm import SVC\n",
    "from sklearn.model_selection import StratifiedKFold \n",
    "from collections import Counter, defaultdict\n",
    "from sklearn.calibration import CalibratedClassifierCV\n",
    "from sklearn.naive_bayes import MultinomialNB\n",
    "from sklearn.naive_bayes import GaussianNB\n",
    "from sklearn.model_selection import train_test_split\n",
    "from sklearn.model_selection import GridSearchCV\n",
    "import math\n",
    "from sklearn.metrics import normalized_mutual_info_score\n",
    "from sklearn.ensemble import RandomForestClassifier\n",
    "warnings.filterwarnings(\"ignore\")\n",
    "\n",
    "from mlxtend.classifier import StackingClassifier\n",
    "\n",
    "from sklearn import model_selection\n",
    "from sklearn.linear_model import LogisticRegression\n"
   ]
  },
  {
   "cell_type": "markdown",
   "metadata": {},
   "source": [
    "<h2>3.1. Reading Data</h2>"
   ]
  },
  {
   "cell_type": "markdown",
   "metadata": {},
   "source": [
    "<h3>3.1.1. Reading Gene and Variation Data</h3>"
   ]
  },
  {
   "cell_type": "code",
   "execution_count": 2,
   "metadata": {},
   "outputs": [
    {
     "name": "stdout",
     "output_type": "stream",
     "text": [
      "Number of data points :  3321\n",
      "Number of features :  4\n",
      "Features :  ['ID' 'Gene' 'Variation' 'Class']\n"
     ]
    },
    {
     "data": {
      "text/html": [
       "<div>\n",
       "<style scoped>\n",
       "    .dataframe tbody tr th:only-of-type {\n",
       "        vertical-align: middle;\n",
       "    }\n",
       "\n",
       "    .dataframe tbody tr th {\n",
       "        vertical-align: top;\n",
       "    }\n",
       "\n",
       "    .dataframe thead th {\n",
       "        text-align: right;\n",
       "    }\n",
       "</style>\n",
       "<table border=\"1\" class=\"dataframe\">\n",
       "  <thead>\n",
       "    <tr style=\"text-align: right;\">\n",
       "      <th></th>\n",
       "      <th>ID</th>\n",
       "      <th>Gene</th>\n",
       "      <th>Variation</th>\n",
       "      <th>Class</th>\n",
       "    </tr>\n",
       "  </thead>\n",
       "  <tbody>\n",
       "    <tr>\n",
       "      <th>0</th>\n",
       "      <td>0</td>\n",
       "      <td>FAM58A</td>\n",
       "      <td>Truncating Mutations</td>\n",
       "      <td>1</td>\n",
       "    </tr>\n",
       "    <tr>\n",
       "      <th>1</th>\n",
       "      <td>1</td>\n",
       "      <td>CBL</td>\n",
       "      <td>W802*</td>\n",
       "      <td>2</td>\n",
       "    </tr>\n",
       "    <tr>\n",
       "      <th>2</th>\n",
       "      <td>2</td>\n",
       "      <td>CBL</td>\n",
       "      <td>Q249E</td>\n",
       "      <td>2</td>\n",
       "    </tr>\n",
       "    <tr>\n",
       "      <th>3</th>\n",
       "      <td>3</td>\n",
       "      <td>CBL</td>\n",
       "      <td>N454D</td>\n",
       "      <td>3</td>\n",
       "    </tr>\n",
       "    <tr>\n",
       "      <th>4</th>\n",
       "      <td>4</td>\n",
       "      <td>CBL</td>\n",
       "      <td>L399V</td>\n",
       "      <td>4</td>\n",
       "    </tr>\n",
       "  </tbody>\n",
       "</table>\n",
       "</div>"
      ],
      "text/plain": [
       "   ID    Gene             Variation  Class\n",
       "0   0  FAM58A  Truncating Mutations      1\n",
       "1   1     CBL                 W802*      2\n",
       "2   2     CBL                 Q249E      2\n",
       "3   3     CBL                 N454D      3\n",
       "4   4     CBL                 L399V      4"
      ]
     },
     "execution_count": 2,
     "metadata": {},
     "output_type": "execute_result"
    }
   ],
   "source": [
    "data = pd.read_csv('training/training_variants')\n",
    "print('Number of data points : ', data.shape[0])\n",
    "print('Number of features : ', data.shape[1])\n",
    "print('Features : ', data.columns.values)\n",
    "data.head()"
   ]
  },
  {
   "cell_type": "markdown",
   "metadata": {},
   "source": [
    "<p>\n",
    "    training/training_variants is a comma separated file containing the description of the genetic mutations used for training. <br>\n",
    "    Fields are \n",
    "    <ul>\n",
    "        <li><b>ID : </b>the id of the row used to link the mutation to the clinical evidence</li>\n",
    "        <li><b>Gene : </b>the gene where this genetic mutation is located </li>\n",
    "        <li><b>Variation : </b>the aminoacid change for this mutations </li>\n",
    "        <li><b>Class :</b> 1-9 the class this genetic mutation has been classified on</li>\n",
    "    </ul>"
   ]
  },
  {
   "cell_type": "markdown",
   "metadata": {},
   "source": [
    "<h3>3.1.2. Reading Text Data</h3>"
   ]
  },
  {
   "cell_type": "code",
   "execution_count": 3,
   "metadata": {},
   "outputs": [
    {
     "name": "stdout",
     "output_type": "stream",
     "text": [
      "Number of data points :  3321\n",
      "Number of features :  2\n",
      "Features :  ['ID' 'TEXT']\n"
     ]
    },
    {
     "data": {
      "text/html": [
       "<div>\n",
       "<style scoped>\n",
       "    .dataframe tbody tr th:only-of-type {\n",
       "        vertical-align: middle;\n",
       "    }\n",
       "\n",
       "    .dataframe tbody tr th {\n",
       "        vertical-align: top;\n",
       "    }\n",
       "\n",
       "    .dataframe thead th {\n",
       "        text-align: right;\n",
       "    }\n",
       "</style>\n",
       "<table border=\"1\" class=\"dataframe\">\n",
       "  <thead>\n",
       "    <tr style=\"text-align: right;\">\n",
       "      <th></th>\n",
       "      <th>ID</th>\n",
       "      <th>TEXT</th>\n",
       "    </tr>\n",
       "  </thead>\n",
       "  <tbody>\n",
       "    <tr>\n",
       "      <th>0</th>\n",
       "      <td>0</td>\n",
       "      <td>Cyclin-dependent kinases (CDKs) regulate a var...</td>\n",
       "    </tr>\n",
       "    <tr>\n",
       "      <th>1</th>\n",
       "      <td>1</td>\n",
       "      <td>Abstract Background  Non-small cell lung canc...</td>\n",
       "    </tr>\n",
       "    <tr>\n",
       "      <th>2</th>\n",
       "      <td>2</td>\n",
       "      <td>Abstract Background  Non-small cell lung canc...</td>\n",
       "    </tr>\n",
       "    <tr>\n",
       "      <th>3</th>\n",
       "      <td>3</td>\n",
       "      <td>Recent evidence has demonstrated that acquired...</td>\n",
       "    </tr>\n",
       "    <tr>\n",
       "      <th>4</th>\n",
       "      <td>4</td>\n",
       "      <td>Oncogenic mutations in the monomeric Casitas B...</td>\n",
       "    </tr>\n",
       "  </tbody>\n",
       "</table>\n",
       "</div>"
      ],
      "text/plain": [
       "   ID                                               TEXT\n",
       "0   0  Cyclin-dependent kinases (CDKs) regulate a var...\n",
       "1   1   Abstract Background  Non-small cell lung canc...\n",
       "2   2   Abstract Background  Non-small cell lung canc...\n",
       "3   3  Recent evidence has demonstrated that acquired...\n",
       "4   4  Oncogenic mutations in the monomeric Casitas B..."
      ]
     },
     "execution_count": 3,
     "metadata": {},
     "output_type": "execute_result"
    }
   ],
   "source": [
    "# note the seprator in this file\n",
    "data_text =pd.read_csv(\"training/training_text\",sep=\"\\|\\|\",engine=\"python\",names=[\"ID\",\"TEXT\"],skiprows=1)\n",
    "print('Number of data points : ', data_text.shape[0])\n",
    "print('Number of features : ', data_text.shape[1])\n",
    "print('Features : ', data_text.columns.values)\n",
    "data_text.head()"
   ]
  },
  {
   "cell_type": "code",
   "execution_count": 4,
   "metadata": {},
   "outputs": [
    {
     "data": {
      "text/html": [
       "<div>\n",
       "<style scoped>\n",
       "    .dataframe tbody tr th:only-of-type {\n",
       "        vertical-align: middle;\n",
       "    }\n",
       "\n",
       "    .dataframe tbody tr th {\n",
       "        vertical-align: top;\n",
       "    }\n",
       "\n",
       "    .dataframe thead th {\n",
       "        text-align: right;\n",
       "    }\n",
       "</style>\n",
       "<table border=\"1\" class=\"dataframe\">\n",
       "  <thead>\n",
       "    <tr style=\"text-align: right;\">\n",
       "      <th></th>\n",
       "      <th>ID</th>\n",
       "      <th>Gene</th>\n",
       "      <th>Variation</th>\n",
       "      <th>Class</th>\n",
       "      <th>TEXT</th>\n",
       "    </tr>\n",
       "  </thead>\n",
       "  <tbody>\n",
       "    <tr>\n",
       "      <th>0</th>\n",
       "      <td>0</td>\n",
       "      <td>FAM58A</td>\n",
       "      <td>Truncating Mutations</td>\n",
       "      <td>1</td>\n",
       "      <td>Cyclin-dependent kinases (CDKs) regulate a var...</td>\n",
       "    </tr>\n",
       "    <tr>\n",
       "      <th>1</th>\n",
       "      <td>1</td>\n",
       "      <td>CBL</td>\n",
       "      <td>W802*</td>\n",
       "      <td>2</td>\n",
       "      <td>Abstract Background  Non-small cell lung canc...</td>\n",
       "    </tr>\n",
       "    <tr>\n",
       "      <th>2</th>\n",
       "      <td>2</td>\n",
       "      <td>CBL</td>\n",
       "      <td>Q249E</td>\n",
       "      <td>2</td>\n",
       "      <td>Abstract Background  Non-small cell lung canc...</td>\n",
       "    </tr>\n",
       "    <tr>\n",
       "      <th>3</th>\n",
       "      <td>3</td>\n",
       "      <td>CBL</td>\n",
       "      <td>N454D</td>\n",
       "      <td>3</td>\n",
       "      <td>Recent evidence has demonstrated that acquired...</td>\n",
       "    </tr>\n",
       "    <tr>\n",
       "      <th>4</th>\n",
       "      <td>4</td>\n",
       "      <td>CBL</td>\n",
       "      <td>L399V</td>\n",
       "      <td>4</td>\n",
       "      <td>Oncogenic mutations in the monomeric Casitas B...</td>\n",
       "    </tr>\n",
       "  </tbody>\n",
       "</table>\n",
       "</div>"
      ],
      "text/plain": [
       "   ID    Gene             Variation  Class  \\\n",
       "0   0  FAM58A  Truncating Mutations      1   \n",
       "1   1     CBL                 W802*      2   \n",
       "2   2     CBL                 Q249E      2   \n",
       "3   3     CBL                 N454D      3   \n",
       "4   4     CBL                 L399V      4   \n",
       "\n",
       "                                                TEXT  \n",
       "0  Cyclin-dependent kinases (CDKs) regulate a var...  \n",
       "1   Abstract Background  Non-small cell lung canc...  \n",
       "2   Abstract Background  Non-small cell lung canc...  \n",
       "3  Recent evidence has demonstrated that acquired...  \n",
       "4  Oncogenic mutations in the monomeric Casitas B...  "
      ]
     },
     "execution_count": 4,
     "metadata": {},
     "output_type": "execute_result"
    }
   ],
   "source": [
    "#merging both gene_variations and text data based on ID\n",
    "result = pd.merge(data, data_text,on='ID', how='left')\n",
    "result.head()"
   ]
  },
  {
   "cell_type": "code",
   "execution_count": 5,
   "metadata": {},
   "outputs": [
    {
     "data": {
      "text/html": [
       "<div>\n",
       "<style scoped>\n",
       "    .dataframe tbody tr th:only-of-type {\n",
       "        vertical-align: middle;\n",
       "    }\n",
       "\n",
       "    .dataframe tbody tr th {\n",
       "        vertical-align: top;\n",
       "    }\n",
       "\n",
       "    .dataframe thead th {\n",
       "        text-align: right;\n",
       "    }\n",
       "</style>\n",
       "<table border=\"1\" class=\"dataframe\">\n",
       "  <thead>\n",
       "    <tr style=\"text-align: right;\">\n",
       "      <th></th>\n",
       "      <th>ID</th>\n",
       "      <th>Gene</th>\n",
       "      <th>Variation</th>\n",
       "      <th>Class</th>\n",
       "      <th>TEXT</th>\n",
       "    </tr>\n",
       "  </thead>\n",
       "  <tbody>\n",
       "    <tr>\n",
       "      <th>1109</th>\n",
       "      <td>1109</td>\n",
       "      <td>FANCA</td>\n",
       "      <td>S1088F</td>\n",
       "      <td>1</td>\n",
       "      <td>NaN</td>\n",
       "    </tr>\n",
       "    <tr>\n",
       "      <th>1277</th>\n",
       "      <td>1277</td>\n",
       "      <td>ARID5B</td>\n",
       "      <td>Truncating Mutations</td>\n",
       "      <td>1</td>\n",
       "      <td>NaN</td>\n",
       "    </tr>\n",
       "    <tr>\n",
       "      <th>1407</th>\n",
       "      <td>1407</td>\n",
       "      <td>FGFR3</td>\n",
       "      <td>K508M</td>\n",
       "      <td>6</td>\n",
       "      <td>NaN</td>\n",
       "    </tr>\n",
       "    <tr>\n",
       "      <th>1639</th>\n",
       "      <td>1639</td>\n",
       "      <td>FLT1</td>\n",
       "      <td>Amplification</td>\n",
       "      <td>6</td>\n",
       "      <td>NaN</td>\n",
       "    </tr>\n",
       "    <tr>\n",
       "      <th>2755</th>\n",
       "      <td>2755</td>\n",
       "      <td>BRAF</td>\n",
       "      <td>G596C</td>\n",
       "      <td>7</td>\n",
       "      <td>NaN</td>\n",
       "    </tr>\n",
       "  </tbody>\n",
       "</table>\n",
       "</div>"
      ],
      "text/plain": [
       "        ID    Gene             Variation  Class TEXT\n",
       "1109  1109   FANCA                S1088F      1  NaN\n",
       "1277  1277  ARID5B  Truncating Mutations      1  NaN\n",
       "1407  1407   FGFR3                 K508M      6  NaN\n",
       "1639  1639    FLT1         Amplification      6  NaN\n",
       "2755  2755    BRAF                 G596C      7  NaN"
      ]
     },
     "execution_count": 5,
     "metadata": {},
     "output_type": "execute_result"
    }
   ],
   "source": [
    "result[result.isnull().any(axis=1)]"
   ]
  },
  {
   "cell_type": "code",
   "execution_count": 6,
   "metadata": {},
   "outputs": [],
   "source": [
    "result.loc[result['TEXT'].isnull(),'TEXT'] = result['Gene'] +' '+result['Variation']"
   ]
  },
  {
   "cell_type": "code",
   "execution_count": 7,
   "metadata": {},
   "outputs": [
    {
     "data": {
      "text/html": [
       "<div>\n",
       "<style scoped>\n",
       "    .dataframe tbody tr th:only-of-type {\n",
       "        vertical-align: middle;\n",
       "    }\n",
       "\n",
       "    .dataframe tbody tr th {\n",
       "        vertical-align: top;\n",
       "    }\n",
       "\n",
       "    .dataframe thead th {\n",
       "        text-align: right;\n",
       "    }\n",
       "</style>\n",
       "<table border=\"1\" class=\"dataframe\">\n",
       "  <thead>\n",
       "    <tr style=\"text-align: right;\">\n",
       "      <th></th>\n",
       "      <th>ID</th>\n",
       "      <th>Gene</th>\n",
       "      <th>Variation</th>\n",
       "      <th>Class</th>\n",
       "      <th>TEXT</th>\n",
       "    </tr>\n",
       "  </thead>\n",
       "  <tbody>\n",
       "    <tr>\n",
       "      <th>1109</th>\n",
       "      <td>1109</td>\n",
       "      <td>FANCA</td>\n",
       "      <td>S1088F</td>\n",
       "      <td>1</td>\n",
       "      <td>FANCA S1088F</td>\n",
       "    </tr>\n",
       "  </tbody>\n",
       "</table>\n",
       "</div>"
      ],
      "text/plain": [
       "        ID   Gene Variation  Class          TEXT\n",
       "1109  1109  FANCA    S1088F      1  FANCA S1088F"
      ]
     },
     "execution_count": 7,
     "metadata": {},
     "output_type": "execute_result"
    }
   ],
   "source": [
    "result[result['ID']==1109]"
   ]
  },
  {
   "cell_type": "markdown",
   "metadata": {},
   "source": [
    "### Feature Engineering\n",
    "##### Feature engineering reference - https://www.analyticsvidhya.com/blog/2018/02/the-different-methods-deal-text-data-predictive-python/"
   ]
  },
  {
   "cell_type": "code",
   "execution_count": 8,
   "metadata": {},
   "outputs": [],
   "source": [
    "#Variation share\n",
    "result['Variation_Share'] = result.apply(lambda r: sum([1 for w in r['Variation'].split(' ') if w in r['TEXT'].split(' ')]), axis=1)\n",
    "\n",
    "#Text word count\n",
    "result[\"Text_Word_Count\"] = result[\"TEXT\"].apply(lambda x: len(x.split()))\n",
    "\n",
    "#Text Character count\n",
    "result['Text_Character_Count'] = result['TEXT'].apply(lambda x: len(str(x)))\n",
    "\n",
    "#Text average length\n",
    "result['Text_Avg_length'] = result['Text_Character_Count'] / result['Text_Word_Count']\n",
    "\n",
    "#Gene Character count\n",
    "result['Gene_Character_Count'] = result['Gene'].apply(lambda x: len(str(x)))\n",
    "\n",
    "#Variation_Character_Count\n",
    "result['Variation_Character_Count'] = result['Variation'].apply(lambda x: len(str(x)))\n",
    "\n",
    "#Var word count\n",
    "result[\"Var_Word_Count\"] = result[\"Variation\"].apply(lambda x: len(x.split()))\n",
    "\n",
    "#Var average length\n",
    "result['var_Avg_length'] = result['Variation_Character_Count'] / result['Var_Word_Count']\n",
    "\n",
    "#Stopword text count\n",
    "from nltk.corpus import stopwords\n",
    "stop = stopwords.words('english')\n",
    "\n",
    "result['stopwordst'] = result['TEXT'].apply(lambda x: len([x for x in x.split() if x in stop]))\n",
    "\n",
    "#Speacial character count\n",
    "result['hastags'] = result['TEXT'].apply(lambda x: len([x for x in x.split() if x.startswith('#')]))\n",
    "\n",
    "#Numerics count\n",
    "result['numerics'] = result['TEXT'].apply(lambda x: len([x for x in x.split() if x.isdigit()]))\n",
    "\n",
    "#Uppercase word count\n",
    "result['upper'] = result['TEXT'].apply(lambda x: len([x for x in x.split() if x.isupper()]))\n",
    "\n",
    "# label encoder\n",
    "from sklearn import preprocessing\n",
    "for c in result.columns:\n",
    "    if result[c].dtype == 'object':\n",
    "        if c == 'Gene':\n",
    "            lbl = preprocessing.LabelEncoder()\n",
    "            result[c+'_lbl_enc'] = lbl.fit_transform(result[c].values)  \n",
    "        elif c == 'Variation':\n",
    "            lbl = preprocessing.LabelEncoder()\n",
    "            result[c+'_lbl_enc'] = lbl.fit_transform(result[c].values) "
   ]
  },
  {
   "cell_type": "code",
   "execution_count": 9,
   "metadata": {},
   "outputs": [
    {
     "data": {
      "text/html": [
       "<div>\n",
       "<style scoped>\n",
       "    .dataframe tbody tr th:only-of-type {\n",
       "        vertical-align: middle;\n",
       "    }\n",
       "\n",
       "    .dataframe tbody tr th {\n",
       "        vertical-align: top;\n",
       "    }\n",
       "\n",
       "    .dataframe thead th {\n",
       "        text-align: right;\n",
       "    }\n",
       "</style>\n",
       "<table border=\"1\" class=\"dataframe\">\n",
       "  <thead>\n",
       "    <tr style=\"text-align: right;\">\n",
       "      <th></th>\n",
       "      <th>ID</th>\n",
       "      <th>Gene</th>\n",
       "      <th>Variation</th>\n",
       "      <th>Class</th>\n",
       "      <th>TEXT</th>\n",
       "      <th>Variation_Share</th>\n",
       "      <th>Text_Word_Count</th>\n",
       "      <th>Text_Character_Count</th>\n",
       "      <th>Text_Avg_length</th>\n",
       "      <th>Gene_Character_Count</th>\n",
       "      <th>Variation_Character_Count</th>\n",
       "      <th>Var_Word_Count</th>\n",
       "      <th>var_Avg_length</th>\n",
       "      <th>stopwordst</th>\n",
       "      <th>hastags</th>\n",
       "      <th>numerics</th>\n",
       "      <th>upper</th>\n",
       "      <th>Gene_lbl_enc</th>\n",
       "      <th>Variation_lbl_enc</th>\n",
       "    </tr>\n",
       "  </thead>\n",
       "  <tbody>\n",
       "    <tr>\n",
       "      <th>0</th>\n",
       "      <td>0</td>\n",
       "      <td>FAM58A</td>\n",
       "      <td>Truncating Mutations</td>\n",
       "      <td>1</td>\n",
       "      <td>Cyclin-dependent kinases (CDKs) regulate a var...</td>\n",
       "      <td>1</td>\n",
       "      <td>6089</td>\n",
       "      <td>39765</td>\n",
       "      <td>6.530629</td>\n",
       "      <td>6</td>\n",
       "      <td>20</td>\n",
       "      <td>2</td>\n",
       "      <td>10.0</td>\n",
       "      <td>1793</td>\n",
       "      <td>0</td>\n",
       "      <td>113</td>\n",
       "      <td>582</td>\n",
       "      <td>85</td>\n",
       "      <td>2629</td>\n",
       "    </tr>\n",
       "    <tr>\n",
       "      <th>1</th>\n",
       "      <td>1</td>\n",
       "      <td>CBL</td>\n",
       "      <td>W802*</td>\n",
       "      <td>2</td>\n",
       "      <td>Abstract Background  Non-small cell lung canc...</td>\n",
       "      <td>1</td>\n",
       "      <td>5722</td>\n",
       "      <td>36831</td>\n",
       "      <td>6.436735</td>\n",
       "      <td>3</td>\n",
       "      <td>5</td>\n",
       "      <td>1</td>\n",
       "      <td>5.0</td>\n",
       "      <td>1857</td>\n",
       "      <td>0</td>\n",
       "      <td>144</td>\n",
       "      <td>449</td>\n",
       "      <td>39</td>\n",
       "      <td>2856</td>\n",
       "    </tr>\n",
       "  </tbody>\n",
       "</table>\n",
       "</div>"
      ],
      "text/plain": [
       "   ID    Gene             Variation  Class  \\\n",
       "0   0  FAM58A  Truncating Mutations      1   \n",
       "1   1     CBL                 W802*      2   \n",
       "\n",
       "                                                TEXT  Variation_Share  \\\n",
       "0  Cyclin-dependent kinases (CDKs) regulate a var...                1   \n",
       "1   Abstract Background  Non-small cell lung canc...                1   \n",
       "\n",
       "   Text_Word_Count  Text_Character_Count  Text_Avg_length  \\\n",
       "0             6089                 39765         6.530629   \n",
       "1             5722                 36831         6.436735   \n",
       "\n",
       "   Gene_Character_Count  Variation_Character_Count  Var_Word_Count  \\\n",
       "0                     6                         20               2   \n",
       "1                     3                          5               1   \n",
       "\n",
       "   var_Avg_length  stopwordst  hastags  numerics  upper  Gene_lbl_enc  \\\n",
       "0            10.0        1793        0       113    582            85   \n",
       "1             5.0        1857        0       144    449            39   \n",
       "\n",
       "   Variation_lbl_enc  \n",
       "0               2629  \n",
       "1               2856  "
      ]
     },
     "execution_count": 9,
     "metadata": {},
     "output_type": "execute_result"
    }
   ],
   "source": [
    "result.head(2)"
   ]
  },
  {
   "cell_type": "markdown",
   "metadata": {},
   "source": [
    "<h3>3.1.3. Preprocessing of text</h3>"
   ]
  },
  {
   "cell_type": "code",
   "execution_count": 10,
   "metadata": {},
   "outputs": [],
   "source": [
    "# loading stop words from nltk library\n",
    "stop_words = set(stopwords.words('english'))\n",
    "\n",
    "\n",
    "def nlp_preprocessing(total_text, index, column):\n",
    "    if type(total_text) is not int:\n",
    "        string = \"\"\n",
    "        # replace every special char with space\n",
    "        total_text = re.sub('[^a-zA-Z0-9\\n]', ' ', total_text)\n",
    "        # replace multiple spaces with single space\n",
    "        total_text = re.sub('\\s+',' ', total_text)\n",
    "        # converting all the chars into lower-case.\n",
    "        total_text = total_text.lower()\n",
    "        \n",
    "        for word in total_text.split():\n",
    "        # if the word is a not a stop word then retain that word from the data\n",
    "            if not word in stop_words:\n",
    "                string += word + \" \"\n",
    "        \n",
    "        data_text[column][index] = string"
   ]
  },
  {
   "cell_type": "code",
   "execution_count": 11,
   "metadata": {},
   "outputs": [
    {
     "name": "stdout",
     "output_type": "stream",
     "text": [
      "there is no text description for id: 1109\n",
      "there is no text description for id: 1277\n",
      "there is no text description for id: 1407\n",
      "there is no text description for id: 1639\n",
      "there is no text description for id: 2755\n",
      "Time took for preprocessing the text : 121.0215206174142 seconds\n"
     ]
    }
   ],
   "source": [
    "#text processing stage.\n",
    "start_time = time.clock()\n",
    "for index, row in data_text.iterrows():\n",
    "    if type(row['TEXT']) is str:\n",
    "        nlp_preprocessing(row['TEXT'], index, 'TEXT')\n",
    "    else:\n",
    "        print(\"there is no text description for id:\",index)\n",
    "print('Time took for preprocessing the text :',time.clock() - start_time, \"seconds\")"
   ]
  },
  {
   "cell_type": "code",
   "execution_count": 12,
   "metadata": {},
   "outputs": [],
   "source": [
    "#Creating dummies for Gene_lbl_enc & Variation_lbl_enc\n",
    "result = pd.concat([result, pd.get_dummies(result['Gene_lbl_enc']).\\\n",
    "                        rename(columns=lambda x: 'Gene_lbl_enc_' + str(x))], axis=1)\n",
    "\n",
    "result = pd.concat([result, pd.get_dummies(result['Variation_lbl_enc']).\\\n",
    "                        rename(columns=lambda x: 'Variation_lbl_enc_' + str(x))], axis=1)"
   ]
  },
  {
   "cell_type": "code",
   "execution_count": 13,
   "metadata": {},
   "outputs": [
    {
     "data": {
      "text/html": [
       "<div>\n",
       "<style scoped>\n",
       "    .dataframe tbody tr th:only-of-type {\n",
       "        vertical-align: middle;\n",
       "    }\n",
       "\n",
       "    .dataframe tbody tr th {\n",
       "        vertical-align: top;\n",
       "    }\n",
       "\n",
       "    .dataframe thead th {\n",
       "        text-align: right;\n",
       "    }\n",
       "</style>\n",
       "<table border=\"1\" class=\"dataframe\">\n",
       "  <thead>\n",
       "    <tr style=\"text-align: right;\">\n",
       "      <th></th>\n",
       "      <th>ID</th>\n",
       "      <th>Gene</th>\n",
       "      <th>Variation</th>\n",
       "      <th>Class</th>\n",
       "      <th>TEXT</th>\n",
       "      <th>Variation_Share</th>\n",
       "      <th>Text_Word_Count</th>\n",
       "      <th>Text_Character_Count</th>\n",
       "      <th>Text_Avg_length</th>\n",
       "      <th>Gene_Character_Count</th>\n",
       "      <th>...</th>\n",
       "      <th>Variation_lbl_enc_2986</th>\n",
       "      <th>Variation_lbl_enc_2987</th>\n",
       "      <th>Variation_lbl_enc_2988</th>\n",
       "      <th>Variation_lbl_enc_2989</th>\n",
       "      <th>Variation_lbl_enc_2990</th>\n",
       "      <th>Variation_lbl_enc_2991</th>\n",
       "      <th>Variation_lbl_enc_2992</th>\n",
       "      <th>Variation_lbl_enc_2993</th>\n",
       "      <th>Variation_lbl_enc_2994</th>\n",
       "      <th>Variation_lbl_enc_2995</th>\n",
       "    </tr>\n",
       "  </thead>\n",
       "  <tbody>\n",
       "    <tr>\n",
       "      <th>0</th>\n",
       "      <td>0</td>\n",
       "      <td>FAM58A</td>\n",
       "      <td>Truncating Mutations</td>\n",
       "      <td>1</td>\n",
       "      <td>Cyclin-dependent kinases (CDKs) regulate a var...</td>\n",
       "      <td>1</td>\n",
       "      <td>6089</td>\n",
       "      <td>39765</td>\n",
       "      <td>6.530629</td>\n",
       "      <td>6</td>\n",
       "      <td>...</td>\n",
       "      <td>0</td>\n",
       "      <td>0</td>\n",
       "      <td>0</td>\n",
       "      <td>0</td>\n",
       "      <td>0</td>\n",
       "      <td>0</td>\n",
       "      <td>0</td>\n",
       "      <td>0</td>\n",
       "      <td>0</td>\n",
       "      <td>0</td>\n",
       "    </tr>\n",
       "    <tr>\n",
       "      <th>1</th>\n",
       "      <td>1</td>\n",
       "      <td>CBL</td>\n",
       "      <td>W802*</td>\n",
       "      <td>2</td>\n",
       "      <td>Abstract Background  Non-small cell lung canc...</td>\n",
       "      <td>1</td>\n",
       "      <td>5722</td>\n",
       "      <td>36831</td>\n",
       "      <td>6.436735</td>\n",
       "      <td>3</td>\n",
       "      <td>...</td>\n",
       "      <td>0</td>\n",
       "      <td>0</td>\n",
       "      <td>0</td>\n",
       "      <td>0</td>\n",
       "      <td>0</td>\n",
       "      <td>0</td>\n",
       "      <td>0</td>\n",
       "      <td>0</td>\n",
       "      <td>0</td>\n",
       "      <td>0</td>\n",
       "    </tr>\n",
       "  </tbody>\n",
       "</table>\n",
       "<p>2 rows × 3279 columns</p>\n",
       "</div>"
      ],
      "text/plain": [
       "   ID    Gene             Variation  Class  \\\n",
       "0   0  FAM58A  Truncating Mutations      1   \n",
       "1   1     CBL                 W802*      2   \n",
       "\n",
       "                                                TEXT  Variation_Share  \\\n",
       "0  Cyclin-dependent kinases (CDKs) regulate a var...                1   \n",
       "1   Abstract Background  Non-small cell lung canc...                1   \n",
       "\n",
       "   Text_Word_Count  Text_Character_Count  Text_Avg_length  \\\n",
       "0             6089                 39765         6.530629   \n",
       "1             5722                 36831         6.436735   \n",
       "\n",
       "   Gene_Character_Count           ...            Variation_lbl_enc_2986  \\\n",
       "0                     6           ...                                 0   \n",
       "1                     3           ...                                 0   \n",
       "\n",
       "   Variation_lbl_enc_2987  Variation_lbl_enc_2988  Variation_lbl_enc_2989  \\\n",
       "0                       0                       0                       0   \n",
       "1                       0                       0                       0   \n",
       "\n",
       "   Variation_lbl_enc_2990  Variation_lbl_enc_2991  Variation_lbl_enc_2992  \\\n",
       "0                       0                       0                       0   \n",
       "1                       0                       0                       0   \n",
       "\n",
       "   Variation_lbl_enc_2993  Variation_lbl_enc_2994  Variation_lbl_enc_2995  \n",
       "0                       0                       0                       0  \n",
       "1                       0                       0                       0  \n",
       "\n",
       "[2 rows x 3279 columns]"
      ]
     },
     "execution_count": 13,
     "metadata": {},
     "output_type": "execute_result"
    }
   ],
   "source": [
    "result.head(2)"
   ]
  },
  {
   "cell_type": "markdown",
   "metadata": {},
   "source": [
    "#### Checking feature importance of only newly created variables using Random Forest"
   ]
  },
  {
   "cell_type": "code",
   "execution_count": 117,
   "metadata": {},
   "outputs": [],
   "source": [
    "temp_y=result[['Class']]\n",
    "temp_train=result.drop(['ID','Gene','Variation','Class','TEXT','Gene_lbl_enc','Variation_lbl_enc'],axis=1)"
   ]
  },
  {
   "cell_type": "code",
   "execution_count": 118,
   "metadata": {},
   "outputs": [
    {
     "data": {
      "text/plain": [
       "RandomForestClassifier(bootstrap=True, class_weight=None, criterion='gini',\n",
       "            max_depth=None, max_features='auto', max_leaf_nodes=None,\n",
       "            min_impurity_decrease=0.0, min_impurity_split=None,\n",
       "            min_samples_leaf=1, min_samples_split=2,\n",
       "            min_weight_fraction_leaf=0.0, n_estimators=10, n_jobs=None,\n",
       "            oob_score=False, random_state=None, verbose=0,\n",
       "            warm_start=False)"
      ]
     },
     "execution_count": 118,
     "metadata": {},
     "output_type": "execute_result"
    }
   ],
   "source": [
    "## Import the random forest model.\n",
    "from sklearn.ensemble import RandomForestClassifier \n",
    "## This line instantiates the model. \n",
    "rf = RandomForestClassifier() \n",
    "## Fit the model on your training data.\n",
    "rf.fit(temp_train, temp_y) "
   ]
  },
  {
   "cell_type": "code",
   "execution_count": 119,
   "metadata": {},
   "outputs": [],
   "source": [
    "import pandas as pd\n",
    "feature_importances = pd.DataFrame(rf.feature_importances_,\n",
    "                                   index = temp_train.columns,\n",
    "                                    columns=['importance']).sort_values('importance',ascending=False)"
   ]
  },
  {
   "cell_type": "code",
   "execution_count": 180,
   "metadata": {},
   "outputs": [
    {
     "data": {
      "text/html": [
       "<div>\n",
       "<style scoped>\n",
       "    .dataframe tbody tr th:only-of-type {\n",
       "        vertical-align: middle;\n",
       "    }\n",
       "\n",
       "    .dataframe tbody tr th {\n",
       "        vertical-align: top;\n",
       "    }\n",
       "\n",
       "    .dataframe thead th {\n",
       "        text-align: right;\n",
       "    }\n",
       "</style>\n",
       "<table border=\"1\" class=\"dataframe\">\n",
       "  <thead>\n",
       "    <tr style=\"text-align: right;\">\n",
       "      <th></th>\n",
       "      <th>importance</th>\n",
       "    </tr>\n",
       "  </thead>\n",
       "  <tbody>\n",
       "    <tr>\n",
       "      <th>stopwordst</th>\n",
       "      <td>0.053990</td>\n",
       "    </tr>\n",
       "    <tr>\n",
       "      <th>numerics</th>\n",
       "      <td>0.053875</td>\n",
       "    </tr>\n",
       "    <tr>\n",
       "      <th>Text_Word_Count</th>\n",
       "      <td>0.052921</td>\n",
       "    </tr>\n",
       "    <tr>\n",
       "      <th>Text_Avg_length</th>\n",
       "      <td>0.051516</td>\n",
       "    </tr>\n",
       "    <tr>\n",
       "      <th>upper</th>\n",
       "      <td>0.051413</td>\n",
       "    </tr>\n",
       "    <tr>\n",
       "      <th>Text_Character_Count</th>\n",
       "      <td>0.049281</td>\n",
       "    </tr>\n",
       "    <tr>\n",
       "      <th>var_Avg_length</th>\n",
       "      <td>0.030022</td>\n",
       "    </tr>\n",
       "    <tr>\n",
       "      <th>Variation_Character_Count</th>\n",
       "      <td>0.028296</td>\n",
       "    </tr>\n",
       "    <tr>\n",
       "      <th>Gene_Character_Count</th>\n",
       "      <td>0.023299</td>\n",
       "    </tr>\n",
       "    <tr>\n",
       "      <th>Variation_Share</th>\n",
       "      <td>0.018827</td>\n",
       "    </tr>\n",
       "    <tr>\n",
       "      <th>Gene_lbl_enc_31</th>\n",
       "      <td>0.015835</td>\n",
       "    </tr>\n",
       "    <tr>\n",
       "      <th>hastags</th>\n",
       "      <td>0.015086</td>\n",
       "    </tr>\n",
       "    <tr>\n",
       "      <th>Gene_lbl_enc_252</th>\n",
       "      <td>0.013824</td>\n",
       "    </tr>\n",
       "    <tr>\n",
       "      <th>Gene_lbl_enc_196</th>\n",
       "      <td>0.013398</td>\n",
       "    </tr>\n",
       "    <tr>\n",
       "      <th>Variation_lbl_enc_2629</th>\n",
       "      <td>0.012533</td>\n",
       "    </tr>\n",
       "  </tbody>\n",
       "</table>\n",
       "</div>"
      ],
      "text/plain": [
       "                           importance\n",
       "stopwordst                   0.053990\n",
       "numerics                     0.053875\n",
       "Text_Word_Count              0.052921\n",
       "Text_Avg_length              0.051516\n",
       "upper                        0.051413\n",
       "Text_Character_Count         0.049281\n",
       "var_Avg_length               0.030022\n",
       "Variation_Character_Count    0.028296\n",
       "Gene_Character_Count         0.023299\n",
       "Variation_Share              0.018827\n",
       "Gene_lbl_enc_31              0.015835\n",
       "hastags                      0.015086\n",
       "Gene_lbl_enc_252             0.013824\n",
       "Gene_lbl_enc_196             0.013398\n",
       "Variation_lbl_enc_2629       0.012533"
      ]
     },
     "execution_count": 180,
     "metadata": {},
     "output_type": "execute_result"
    }
   ],
   "source": [
    "#Feature importance of newly created variables\n",
    "feature_importances[:15]"
   ]
  },
  {
   "cell_type": "markdown",
   "metadata": {},
   "source": [
    "<h3>3.1.4. Test, Train and Cross Validation Split</h3>"
   ]
  },
  {
   "cell_type": "markdown",
   "metadata": {},
   "source": [
    "<h4>3.1.4.1. Splitting data into train, test and cross validation (64:20:16)</h4>"
   ]
  },
  {
   "cell_type": "code",
   "execution_count": 14,
   "metadata": {},
   "outputs": [],
   "source": [
    "y_true = result['Class'].values\n",
    "result.Gene      = result.Gene.str.replace('\\s+', '_')\n",
    "result.Variation = result.Variation.str.replace('\\s+', '_')\n",
    "\n",
    "# split the data into test and train by maintaining same distribution of output varaible 'y_true' [stratify=y_true]\n",
    "X_train, test_df, y_train, y_test = train_test_split(result, y_true, stratify=y_true, test_size=0.2)\n",
    "# split the train data into train and cross validation by maintaining same distribution of output varaible 'y_train' [stratify=y_train]\n",
    "train_df, cv_df, y_train, y_cv = train_test_split(X_train, y_train, stratify=y_train, test_size=0.2)"
   ]
  },
  {
   "cell_type": "markdown",
   "metadata": {},
   "source": [
    "<p> We split the data into train, test and cross validation data sets, preserving the ratio of class distribution in the original data set  </p>"
   ]
  },
  {
   "cell_type": "code",
   "execution_count": 15,
   "metadata": {},
   "outputs": [
    {
     "name": "stdout",
     "output_type": "stream",
     "text": [
      "Number of data points in train data: 2124\n",
      "Number of data points in test data: 665\n",
      "Number of data points in cross validation data: 532\n"
     ]
    }
   ],
   "source": [
    "print('Number of data points in train data:', train_df.shape[0])\n",
    "print('Number of data points in test data:', test_df.shape[0])\n",
    "print('Number of data points in cross validation data:', cv_df.shape[0])"
   ]
  },
  {
   "cell_type": "markdown",
   "metadata": {},
   "source": [
    "<h4>3.1.4.2. Distribution of y_i's in Train, Test and Cross Validation datasets</h4>"
   ]
  },
  {
   "cell_type": "code",
   "execution_count": 16,
   "metadata": {},
   "outputs": [
    {
     "data": {
      "image/png": "[encoded data removed]",
      "text/plain": [
       "<Figure size 432x288 with 1 Axes>"
      ]
     },
     "metadata": {},
     "output_type": "display_data"
    },
    {
     "name": "stdout",
     "output_type": "stream",
     "text": [
      "Number of data points in class 7 : 609 ( 28.672 %)\n",
      "Number of data points in class 4 : 439 ( 20.669 %)\n",
      "Number of data points in class 1 : 363 ( 17.09 %)\n",
      "Number of data points in class 2 : 289 ( 13.606 %)\n",
      "Number of data points in class 6 : 176 ( 8.286 %)\n",
      "Number of data points in class 5 : 155 ( 7.298 %)\n",
      "Number of data points in class 3 : 57 ( 2.684 %)\n",
      "Number of data points in class 9 : 24 ( 1.13 %)\n",
      "Number of data points in class 8 : 12 ( 0.565 %)\n",
      "--------------------------------------------------------------------------------\n"
     ]
    },
    {
     "data": {
      "image/png": "[encoded data removed]",
      "text/plain": [
       "<Figure size 432x288 with 1 Axes>"
      ]
     },
     "metadata": {},
     "output_type": "display_data"
    },
    {
     "name": "stdout",
     "output_type": "stream",
     "text": [
      "Number of data points in class 7 : 191 ( 28.722 %)\n",
      "Number of data points in class 4 : 137 ( 20.602 %)\n",
      "Number of data points in class 1 : 114 ( 17.143 %)\n",
      "Number of data points in class 2 : 91 ( 13.684 %)\n",
      "Number of data points in class 6 : 55 ( 8.271 %)\n",
      "Number of data points in class 5 : 48 ( 7.218 %)\n",
      "Number of data points in class 3 : 18 ( 2.707 %)\n",
      "Number of data points in class 9 : 7 ( 1.053 %)\n",
      "Number of data points in class 8 : 4 ( 0.602 %)\n",
      "--------------------------------------------------------------------------------\n"
     ]
    },
    {
     "data": {
      "image/png": "[encoded data removed]",
      "text/plain": [
       "<Figure size 432x288 with 1 Axes>"
      ]
     },
     "metadata": {},
     "output_type": "display_data"
    },
    {
     "name": "stdout",
     "output_type": "stream",
     "text": [
      "Number of data points in class 7 : 153 ( 28.759 %)\n",
      "Number of data points in class 4 : 110 ( 20.677 %)\n",
      "Number of data points in class 1 : 91 ( 17.105 %)\n",
      "Number of data points in class 2 : 72 ( 13.534 %)\n",
      "Number of data points in class 6 : 44 ( 8.271 %)\n",
      "Number of data points in class 5 : 39 ( 7.331 %)\n",
      "Number of data points in class 3 : 14 ( 2.632 %)\n",
      "Number of data points in class 9 : 6 ( 1.128 %)\n",
      "Number of data points in class 8 : 3 ( 0.564 %)\n"
     ]
    }
   ],
   "source": [
    "# it returns a dict, keys as class labels and values as the number of data points in that class\n",
    "train_class_distribution = train_df['Class'].value_counts().sortlevel()\n",
    "test_class_distribution = test_df['Class'].value_counts().sortlevel()\n",
    "cv_class_distribution = cv_df['Class'].value_counts().sortlevel()\n",
    "\n",
    "my_colors = 'rgbkymc'\n",
    "train_class_distribution.plot(kind='bar')\n",
    "plt.xlabel('Class')\n",
    "plt.ylabel('Data points per Class')\n",
    "plt.title('Distribution of yi in train data')\n",
    "plt.grid()\n",
    "plt.show()\n",
    "\n",
    "# ref: argsort https://docs.scipy.org/doc/numpy/reference/generated/numpy.argsort.html\n",
    "# -(train_class_distribution.values): the minus sign will give us in decreasing order\n",
    "sorted_yi = np.argsort(-train_class_distribution.values)\n",
    "for i in sorted_yi:\n",
    "    print('Number of data points in class', i+1, ':',train_class_distribution.values[i], '(', np.round((train_class_distribution.values[i]/train_df.shape[0]*100), 3), '%)')\n",
    "\n",
    "    \n",
    "print('-'*80)\n",
    "my_colors = 'rgbkymc'\n",
    "test_class_distribution.plot(kind='bar')\n",
    "plt.xlabel('Class')\n",
    "plt.ylabel('Data points per Class')\n",
    "plt.title('Distribution of yi in test data')\n",
    "plt.grid()\n",
    "plt.show()\n",
    "\n",
    "# ref: argsort https://docs.scipy.org/doc/numpy/reference/generated/numpy.argsort.html\n",
    "# -(train_class_distribution.values): the minus sign will give us in decreasing order\n",
    "sorted_yi = np.argsort(-test_class_distribution.values)\n",
    "for i in sorted_yi:\n",
    "    print('Number of data points in class', i+1, ':',test_class_distribution.values[i], '(', np.round((test_class_distribution.values[i]/test_df.shape[0]*100), 3), '%)')\n",
    "\n",
    "print('-'*80)\n",
    "my_colors = 'rgbkymc'\n",
    "cv_class_distribution.plot(kind='bar')\n",
    "plt.xlabel('Class')\n",
    "plt.ylabel('Data points per Class')\n",
    "plt.title('Distribution of yi in cross validation data')\n",
    "plt.grid()\n",
    "plt.show()\n",
    "\n",
    "# ref: argsort https://docs.scipy.org/doc/numpy/reference/generated/numpy.argsort.html\n",
    "# -(train_class_distribution.values): the minus sign will give us in decreasing order\n",
    "sorted_yi = np.argsort(-train_class_distribution.values)\n",
    "for i in sorted_yi:\n",
    "    print('Number of data points in class', i+1, ':',cv_class_distribution.values[i], '(', np.round((cv_class_distribution.values[i]/cv_df.shape[0]*100), 3), '%)')\n"
   ]
  },
  {
   "cell_type": "markdown",
   "metadata": {},
   "source": [
    "<h2>3.2 Prediction using a 'Random' Model</h2>"
   ]
  },
  {
   "cell_type": "markdown",
   "metadata": {},
   "source": [
    "<p style=\"font-size:16px\"> In a 'Random' Model, we generate the NINE class probabilites randomly such that they sum to 1. </p>"
   ]
  },
  {
   "cell_type": "code",
   "execution_count": 17,
   "metadata": {},
   "outputs": [],
   "source": [
    "# This function plots the confusion matrices given y_i, y_i_hat.\n",
    "def plot_confusion_matrix(test_y, predict_y):\n",
    "    C = confusion_matrix(test_y, predict_y)\n",
    "    # C = 9,9 matrix, each cell (i,j) represents number of points of class i are predicted class j\n",
    "    \n",
    "    A =(((C.T)/(C.sum(axis=1))).T)\n",
    "    #divid each element of the confusion matrix with the sum of elements in that column\n",
    "    \n",
    "    # C = [[1, 2],\n",
    "    #     [3, 4]]\n",
    "    # C.T = [[1, 3],\n",
    "    #        [2, 4]]\n",
    "    # C.sum(axis = 1)  axis=0 corresonds to columns and axis=1 corresponds to rows in two diamensional array\n",
    "    # C.sum(axix =1) = [[3, 7]]\n",
    "    # ((C.T)/(C.sum(axis=1))) = [[1/3, 3/7]\n",
    "    #                           [2/3, 4/7]]\n",
    "\n",
    "    # ((C.T)/(C.sum(axis=1))).T = [[1/3, 2/3]\n",
    "    #                           [3/7, 4/7]]\n",
    "    # sum of row elements = 1\n",
    "    \n",
    "    B =(C/C.sum(axis=0))\n",
    "    #divid each element of the confusion matrix with the sum of elements in that row\n",
    "    # C = [[1, 2],\n",
    "    #     [3, 4]]\n",
    "    # C.sum(axis = 0)  axis=0 corresonds to columns and axis=1 corresponds to rows in two diamensional array\n",
    "    # C.sum(axix =0) = [[4, 6]]\n",
    "    # (C/C.sum(axis=0)) = [[1/4, 2/6],\n",
    "    #                      [3/4, 4/6]] \n",
    "    \n",
    "    labels = [1,2,3,4,5,6,7,8,9]\n",
    "    # representing A in heatmap format\n",
    "    print(\"-\"*20, \"Confusion matrix\", \"-\"*20)\n",
    "    plt.figure(figsize=(20,7))\n",
    "    sns.heatmap(C, annot=True, cmap=\"YlGnBu\", fmt=\".3f\", xticklabels=labels, yticklabels=labels)\n",
    "    plt.xlabel('Predicted Class')\n",
    "    plt.ylabel('Original Class')\n",
    "    plt.show()\n",
    "\n",
    "    print(\"-\"*20, \"Precision matrix (Columm Sum=1)\", \"-\"*20)\n",
    "    plt.figure(figsize=(20,7))\n",
    "    sns.heatmap(B, annot=True, cmap=\"YlGnBu\", fmt=\".3f\", xticklabels=labels, yticklabels=labels)\n",
    "    plt.xlabel('Predicted Class')\n",
    "    plt.ylabel('Original Class')\n",
    "    plt.show()\n",
    "    \n",
    "    # representing B in heatmap format\n",
    "    print(\"-\"*20, \"Recall matrix (Row sum=1)\", \"-\"*20)\n",
    "    plt.figure(figsize=(20,7))\n",
    "    sns.heatmap(A, annot=True, cmap=\"YlGnBu\", fmt=\".3f\", xticklabels=labels, yticklabels=labels)\n",
    "    plt.xlabel('Predicted Class')\n",
    "    plt.ylabel('Original Class')\n",
    "    plt.show()"
   ]
  },
  {
   "cell_type": "code",
   "execution_count": 18,
   "metadata": {},
   "outputs": [
    {
     "name": "stdout",
     "output_type": "stream",
     "text": [
      "Log loss on Cross Validation Data using Random Model 2.503089399222508\n",
      "Log loss on Test Data using Random Model 2.4987970579719736\n",
      "-------------------- Confusion matrix --------------------\n"
     ]
    },
    {
     "data": {
      "image/png": "[encoded data removed]",
      "text/plain": [
       "<Figure size 1440x504 with 2 Axes>"
      ]
     },
     "metadata": {},
     "output_type": "display_data"
    },
    {
     "name": "stdout",
     "output_type": "stream",
     "text": [
      "-------------------- Precision matrix (Columm Sum=1) --------------------\n"
     ]
    },
    {
     "data": {
      "image/png": "[encoded data removed]",
      "text/plain": [
       "<Figure size 1440x504 with 2 Axes>"
      ]
     },
     "metadata": {},
     "output_type": "display_data"
    },
    {
     "name": "stdout",
     "output_type": "stream",
     "text": [
      "-------------------- Recall matrix (Row sum=1) --------------------\n"
     ]
    },
    {
     "data": {
      "image/png": "[encoded data removed]",
      "text/plain": [
       "<Figure size 1440x504 with 2 Axes>"
      ]
     },
     "metadata": {},
     "output_type": "display_data"
    }
   ],
   "source": [
    "# we need to generate 9 numbers and the sum of numbers should be 1\n",
    "# one solution is to genarate 9 numbers and divide each of the numbers by their sum\n",
    "# ref: https://stackoverflow.com/a/18662466/4084039\n",
    "test_data_len = test_df.shape[0]\n",
    "cv_data_len = cv_df.shape[0]\n",
    "\n",
    "# we create a output array that has exactly same size as the CV data\n",
    "cv_predicted_y = np.zeros((cv_data_len,9))\n",
    "for i in range(cv_data_len):\n",
    "    rand_probs = np.random.rand(1,9)\n",
    "    cv_predicted_y[i] = ((rand_probs/sum(sum(rand_probs)))[0])\n",
    "print(\"Log loss on Cross Validation Data using Random Model\",log_loss(y_cv,cv_predicted_y, eps=1e-15))\n",
    "\n",
    "\n",
    "# Test-Set error.\n",
    "#we create a output array that has exactly same as the test data\n",
    "test_predicted_y = np.zeros((test_data_len,9))\n",
    "for i in range(test_data_len):\n",
    "    rand_probs = np.random.rand(1,9)\n",
    "    test_predicted_y[i] = ((rand_probs/sum(sum(rand_probs)))[0])\n",
    "print(\"Log loss on Test Data using Random Model\",log_loss(y_test,test_predicted_y, eps=1e-15))\n",
    "\n",
    "predicted_y =np.argmax(test_predicted_y, axis=1)\n",
    "plot_confusion_matrix(y_test, predicted_y+1)"
   ]
  },
  {
   "cell_type": "markdown",
   "metadata": {},
   "source": [
    "<h2>3.3 Univariate Analysis</h2>"
   ]
  },
  {
   "cell_type": "code",
   "execution_count": 19,
   "metadata": {},
   "outputs": [],
   "source": [
    "# code for response coding with Laplace smoothing.\n",
    "# alpha : used for laplace smoothing\n",
    "# feature: ['gene', 'variation']\n",
    "# df: ['train_df', 'test_df', 'cv_df']\n",
    "# algorithm\n",
    "# ----------\n",
    "# Consider all unique values and the number of occurances of given feature in train data dataframe\n",
    "# build a vector (1*9) , the first element = (number of times it occured in class1 + 10*alpha / number of time it occurred in total data+90*alpha)\n",
    "# gv_dict is like a look up table, for every gene it store a (1*9) representation of it\n",
    "# for a value of feature in df:\n",
    "# if it is in train data:\n",
    "# we add the vector that was stored in 'gv_dict' look up table to 'gv_fea'\n",
    "# if it is not there is train:\n",
    "# we add [1/9, 1/9, 1/9, 1/9,1/9, 1/9, 1/9, 1/9, 1/9] to 'gv_fea'\n",
    "# return 'gv_fea'\n",
    "# ----------------------\n",
    "\n",
    "# get_gv_fea_dict: Get Gene varaition Feature Dict\n",
    "def get_gv_fea_dict(alpha, feature, df):\n",
    "    # value_count: it contains a dict like\n",
    "    # print(train_df['Gene'].value_counts())\n",
    "    # output:\n",
    "    #        {BRCA1      174\n",
    "    #         TP53       106\n",
    "    #         EGFR        86\n",
    "    #         BRCA2       75\n",
    "    #         PTEN        69\n",
    "    #         KIT         61\n",
    "    #         BRAF        60\n",
    "    #         ERBB2       47\n",
    "    #         PDGFRA      46\n",
    "    #         ...}\n",
    "    # print(train_df['Variation'].value_counts())\n",
    "    # output:\n",
    "    # {\n",
    "    # Truncating_Mutations                     63\n",
    "    # Deletion                                 43\n",
    "    # Amplification                            43\n",
    "    # Fusions                                  22\n",
    "    # Overexpression                            3\n",
    "    # E17K                                      3\n",
    "    # Q61L                                      3\n",
    "    # S222D                                     2\n",
    "    # P130S                                     2\n",
    "    # ...\n",
    "    # }\n",
    "    value_count = train_df[feature].value_counts()\n",
    "    \n",
    "    # gv_dict : Gene Variation Dict, which contains the probability array for each gene/variation\n",
    "    gv_dict = dict()\n",
    "    \n",
    "    # denominator will contain the number of time that particular feature occured in whole data\n",
    "    for i, denominator in value_count.items():\n",
    "        # vec will contain (p(yi==1/Gi) probability of gene/variation belongs to perticular class\n",
    "        # vec is 9 diamensional vector\n",
    "        vec = []\n",
    "        for k in range(1,10):\n",
    "            # print(train_df.loc[(train_df['Class']==1) & (train_df['Gene']=='BRCA1')])\n",
    "            #         ID   Gene             Variation  Class  \n",
    "            # 2470  2470  BRCA1                S1715C      1   \n",
    "            # 2486  2486  BRCA1                S1841R      1   \n",
    "            # 2614  2614  BRCA1                   M1R      1   \n",
    "            # 2432  2432  BRCA1                L1657P      1   \n",
    "            # 2567  2567  BRCA1                T1685A      1   \n",
    "            # 2583  2583  BRCA1                E1660G      1   \n",
    "            # 2634  2634  BRCA1                W1718L      1   \n",
    "            # cls_cnt.shape[0] will return the number of rows\n",
    "\n",
    "            cls_cnt = train_df.loc[(train_df['Class']==k) & (train_df[feature]==i)]\n",
    "            \n",
    "            # cls_cnt.shape[0](numerator) will contain the number of time that particular feature occured in whole data\n",
    "            vec.append((cls_cnt.shape[0] + alpha*10)/ (denominator + 90*alpha))\n",
    "\n",
    "        # we are adding the gene/variation to the dict as key and vec as value\n",
    "        gv_dict[i]=vec\n",
    "    return gv_dict\n",
    "\n",
    "# Get Gene variation feature\n",
    "def get_gv_feature(alpha, feature, df):\n",
    "    # print(gv_dict)\n",
    "    #     {'BRCA1': [0.20075757575757575, 0.03787878787878788, 0.068181818181818177, 0.13636363636363635, 0.25, 0.19318181818181818, 0.03787878787878788, 0.03787878787878788, 0.03787878787878788], \n",
    "    #      'TP53': [0.32142857142857145, 0.061224489795918366, 0.061224489795918366, 0.27040816326530615, 0.061224489795918366, 0.066326530612244902, 0.051020408163265307, 0.051020408163265307, 0.056122448979591837], \n",
    "    #      'EGFR': [0.056818181818181816, 0.21590909090909091, 0.0625, 0.068181818181818177, 0.068181818181818177, 0.0625, 0.34659090909090912, 0.0625, 0.056818181818181816], \n",
    "    #      'BRCA2': [0.13333333333333333, 0.060606060606060608, 0.060606060606060608, 0.078787878787878782, 0.1393939393939394, 0.34545454545454546, 0.060606060606060608, 0.060606060606060608, 0.060606060606060608], \n",
    "    #      'PTEN': [0.069182389937106917, 0.062893081761006289, 0.069182389937106917, 0.46540880503144655, 0.075471698113207544, 0.062893081761006289, 0.069182389937106917, 0.062893081761006289, 0.062893081761006289], \n",
    "    #      'KIT': [0.066225165562913912, 0.25165562913907286, 0.072847682119205295, 0.072847682119205295, 0.066225165562913912, 0.066225165562913912, 0.27152317880794702, 0.066225165562913912, 0.066225165562913912], \n",
    "    #      'BRAF': [0.066666666666666666, 0.17999999999999999, 0.073333333333333334, 0.073333333333333334, 0.093333333333333338, 0.080000000000000002, 0.29999999999999999, 0.066666666666666666, 0.066666666666666666],\n",
    "    #      ...\n",
    "    #     }\n",
    "    gv_dict = get_gv_fea_dict(alpha, feature, df)\n",
    "    # value_count is similar in get_gv_fea_dict\n",
    "    value_count = train_df[feature].value_counts()\n",
    "    \n",
    "    # gv_fea: Gene_variation feature, it will contain the feature for each feature value in the data\n",
    "    gv_fea = []\n",
    "    # for every feature values in the given data frame we will check if it is there in the train data then we will add the feature to gv_fea\n",
    "    # if not we will add [1/9,1/9,1/9,1/9,1/9,1/9,1/9,1/9,1/9] to gv_fea\n",
    "    for index, row in df.iterrows():\n",
    "        if row[feature] in dict(value_count).keys():\n",
    "            gv_fea.append(gv_dict[row[feature]])\n",
    "        else:\n",
    "            gv_fea.append([1/9,1/9,1/9,1/9,1/9,1/9,1/9,1/9,1/9])\n",
    "#             gv_fea.append([-1,-1,-1,-1,-1,-1,-1,-1,-1])\n",
    "    return gv_fea"
   ]
  },
  {
   "cell_type": "markdown",
   "metadata": {},
   "source": [
    "when we caculate the probability of a feature belongs to any particular class, we apply laplace smoothing\n",
    "<li>(numerator + 10\\*alpha) / (denominator + 90\\*alpha) </li>"
   ]
  },
  {
   "cell_type": "markdown",
   "metadata": {},
   "source": [
    "<h3>3.2.1 Univariate Analysis on Gene Feature</h3>"
   ]
  },
  {
   "cell_type": "markdown",
   "metadata": {},
   "source": [
    "<p style=\"font-size:18px;\"> <b>Q1.</b> Gene, What type of feature it is ?</p>\n",
    "<p style=\"font-size:16px;\"><b>Ans.</b> Gene is a categorical variable </p>\n",
    "<p style=\"font-size:18px;\"> <b>Q2.</b> How many categories are there and How they are distributed?</p>"
   ]
  },
  {
   "cell_type": "code",
   "execution_count": 20,
   "metadata": {},
   "outputs": [
    {
     "name": "stdout",
     "output_type": "stream",
     "text": [
      "Number of Unique Genes : 227\n",
      "BRCA1     172\n",
      "TP53      107\n",
      "EGFR       92\n",
      "BRCA2      87\n",
      "PTEN       84\n",
      "KIT        68\n",
      "BRAF       58\n",
      "ERBB2      46\n",
      "PDGFRA     40\n",
      "ALK        39\n",
      "Name: Gene, dtype: int64\n"
     ]
    }
   ],
   "source": [
    "unique_genes = train_df['Gene'].value_counts()\n",
    "print('Number of Unique Genes :', unique_genes.shape[0])\n",
    "# the top 10 genes that occured most\n",
    "print(unique_genes.head(10))"
   ]
  },
  {
   "cell_type": "code",
   "execution_count": 21,
   "metadata": {
    "scrolled": true
   },
   "outputs": [
    {
     "name": "stdout",
     "output_type": "stream",
     "text": [
      "Ans: There are 227 different categories of genes in the train data, and they are distibuted as follows\n"
     ]
    }
   ],
   "source": [
    "print(\"Ans: There are\", unique_genes.shape[0] ,\"different categories of genes in the train data, and they are distibuted as follows\",)"
   ]
  },
  {
   "cell_type": "code",
   "execution_count": 22,
   "metadata": {},
   "outputs": [
    {
     "data": {
      "image/png": "[encoded data removed]",
      "text/plain": [
       "<Figure size 432x288 with 1 Axes>"
      ]
     },
     "metadata": {},
     "output_type": "display_data"
    }
   ],
   "source": [
    "s = sum(unique_genes.values);\n",
    "h = unique_genes.values/s;\n",
    "plt.plot(h, label=\"Histrogram of Genes\")\n",
    "plt.xlabel('Index of a Gene')\n",
    "plt.ylabel('Number of Occurances')\n",
    "plt.legend()\n",
    "plt.grid()\n",
    "plt.show()\n"
   ]
  },
  {
   "cell_type": "code",
   "execution_count": 23,
   "metadata": {},
   "outputs": [
    {
     "data": {
      "image/png": "[encoded data removed]",
      "text/plain": [
       "<Figure size 432x288 with 1 Axes>"
      ]
     },
     "metadata": {},
     "output_type": "display_data"
    }
   ],
   "source": [
    "c = np.cumsum(h)\n",
    "plt.plot(c,label='Cumulative distribution of Genes')\n",
    "plt.grid()\n",
    "plt.legend()\n",
    "plt.show()"
   ]
  },
  {
   "cell_type": "markdown",
   "metadata": {},
   "source": [
    "<p style=\"font-size:18px;\"> <b>Q3.</b> How to featurize this Gene feature ?</p>\n",
    "\n",
    "<p style=\"font-size:16px;\"><b>Ans.</b>there are two ways we can featurize this variable\n",
    "check out this video: https://www.appliedaicourse.com/course/applied-ai-course-online/lessons/handling-categorical-and-numerical-features/\n",
    "<ol><li>One hot Encoding</li><li>Response coding</li></ol></p>\n",
    "<p> We will choose the appropriate featurization based on the ML model we use.  For this problem of multi-class classification with categorical features, one-hot encoding is better for Logistic regression while response coding is better for Random Forests. </p>"
   ]
  },
  {
   "cell_type": "code",
   "execution_count": 24,
   "metadata": {},
   "outputs": [],
   "source": [
    "#response-coding of the Gene feature\n",
    "# alpha is used for laplace smoothing\n",
    "alpha = 1\n",
    "# train gene feature\n",
    "train_gene_feature_responseCoding = np.array(get_gv_feature(alpha, \"Gene\", train_df))\n",
    "# test gene feature\n",
    "test_gene_feature_responseCoding = np.array(get_gv_feature(alpha, \"Gene\", test_df))\n",
    "# cross validation gene feature\n",
    "cv_gene_feature_responseCoding = np.array(get_gv_feature(alpha, \"Gene\", cv_df))"
   ]
  },
  {
   "cell_type": "code",
   "execution_count": 25,
   "metadata": {},
   "outputs": [
    {
     "name": "stdout",
     "output_type": "stream",
     "text": [
      "train_gene_feature_responseCoding is converted feature using respone coding method. The shape of gene feature: (2124, 9)\n"
     ]
    }
   ],
   "source": [
    "print(\"train_gene_feature_responseCoding is converted feature using respone coding method. The shape of gene feature:\", train_gene_feature_responseCoding.shape)"
   ]
  },
  {
   "cell_type": "code",
   "execution_count": 26,
   "metadata": {},
   "outputs": [],
   "source": [
    "# one-hot encoding of Gene feature.\n",
    "gene_vectorizer = CountVectorizer()\n",
    "train_gene_feature_onehotCoding = gene_vectorizer.fit_transform(train_df['Gene'])\n",
    "test_gene_feature_onehotCoding = gene_vectorizer.transform(test_df['Gene'])\n",
    "cv_gene_feature_onehotCoding = gene_vectorizer.transform(cv_df['Gene'])"
   ]
  },
  {
   "cell_type": "code",
   "execution_count": 27,
   "metadata": {},
   "outputs": [
    {
     "data": {
      "text/plain": [
       "2065      SOX9\n",
       "2327      JAK2\n",
       "953     PDGFRB\n",
       "1028      TSC2\n",
       "1794        AR\n",
       "Name: Gene, dtype: object"
      ]
     },
     "execution_count": 27,
     "metadata": {},
     "output_type": "execute_result"
    }
   ],
   "source": [
    "train_df['Gene'].head()"
   ]
  },
  {
   "cell_type": "code",
   "execution_count": 28,
   "metadata": {},
   "outputs": [
    {
     "data": {
      "text/plain": [
       "['abl1',\n",
       " 'acvr1',\n",
       " 'ago2',\n",
       " 'akt1',\n",
       " 'akt2',\n",
       " 'akt3',\n",
       " 'alk',\n",
       " 'apc',\n",
       " 'ar',\n",
       " 'araf',\n",
       " 'arid1a',\n",
       " 'arid2',\n",
       " 'arid5b',\n",
       " 'asxl1',\n",
       " 'asxl2',\n",
       " 'atm',\n",
       " 'atrx',\n",
       " 'aurka',\n",
       " 'aurkb',\n",
       " 'axl',\n",
       " 'b2m',\n",
       " 'bap1',\n",
       " 'bard1',\n",
       " 'bcl10',\n",
       " 'bcor',\n",
       " 'braf',\n",
       " 'brca1',\n",
       " 'brca2',\n",
       " 'brd4',\n",
       " 'brip1',\n",
       " 'btk',\n",
       " 'card11',\n",
       " 'carm1',\n",
       " 'casp8',\n",
       " 'cbl',\n",
       " 'ccnd1',\n",
       " 'ccnd3',\n",
       " 'ccne1',\n",
       " 'cdh1',\n",
       " 'cdk12',\n",
       " 'cdk4',\n",
       " 'cdk6',\n",
       " 'cdk8',\n",
       " 'cdkn1a',\n",
       " 'cdkn1b',\n",
       " 'cdkn2a',\n",
       " 'cdkn2b',\n",
       " 'cdkn2c',\n",
       " 'cebpa',\n",
       " 'chek2',\n",
       " 'cic',\n",
       " 'crebbp',\n",
       " 'ctcf',\n",
       " 'ctnnb1',\n",
       " 'ddr2',\n",
       " 'dicer1',\n",
       " 'dnmt3a',\n",
       " 'dnmt3b',\n",
       " 'egfr',\n",
       " 'eif1ax',\n",
       " 'elf3',\n",
       " 'ep300',\n",
       " 'epas1',\n",
       " 'epcam',\n",
       " 'erbb2',\n",
       " 'erbb3',\n",
       " 'erbb4',\n",
       " 'ercc2',\n",
       " 'ercc3',\n",
       " 'ercc4',\n",
       " 'erg',\n",
       " 'esr1',\n",
       " 'etv1',\n",
       " 'etv6',\n",
       " 'ewsr1',\n",
       " 'ezh2',\n",
       " 'fam58a',\n",
       " 'fanca',\n",
       " 'fancc',\n",
       " 'fat1',\n",
       " 'fbxw7',\n",
       " 'fgf19',\n",
       " 'fgfr1',\n",
       " 'fgfr2',\n",
       " 'fgfr3',\n",
       " 'fgfr4',\n",
       " 'flt1',\n",
       " 'flt3',\n",
       " 'foxa1',\n",
       " 'foxl2',\n",
       " 'foxo1',\n",
       " 'foxp1',\n",
       " 'gata3',\n",
       " 'gli1',\n",
       " 'gnas',\n",
       " 'hist1h1c',\n",
       " 'hla',\n",
       " 'hras',\n",
       " 'idh1',\n",
       " 'idh2',\n",
       " 'igf1r',\n",
       " 'ikzf1',\n",
       " 'il7r',\n",
       " 'jak1',\n",
       " 'jak2',\n",
       " 'jun',\n",
       " 'kdm5a',\n",
       " 'kdm5c',\n",
       " 'kdm6a',\n",
       " 'kdr',\n",
       " 'keap1',\n",
       " 'kit',\n",
       " 'kmt2a',\n",
       " 'kmt2b',\n",
       " 'kmt2c',\n",
       " 'kmt2d',\n",
       " 'knstrn',\n",
       " 'kras',\n",
       " 'lats1',\n",
       " 'map2k1',\n",
       " 'map2k2',\n",
       " 'map2k4',\n",
       " 'map3k1',\n",
       " 'mapk1',\n",
       " 'mdm2',\n",
       " 'med12',\n",
       " 'mef2b',\n",
       " 'met',\n",
       " 'mga',\n",
       " 'mlh1',\n",
       " 'mpl',\n",
       " 'msh2',\n",
       " 'msh6',\n",
       " 'mtor',\n",
       " 'myc',\n",
       " 'myd88',\n",
       " 'myod1',\n",
       " 'nf1',\n",
       " 'nf2',\n",
       " 'nfe2l2',\n",
       " 'nfkbia',\n",
       " 'nkx2',\n",
       " 'notch1',\n",
       " 'notch2',\n",
       " 'npm1',\n",
       " 'nras',\n",
       " 'nsd1',\n",
       " 'ntrk1',\n",
       " 'ntrk2',\n",
       " 'ntrk3',\n",
       " 'pbrm1',\n",
       " 'pdgfra',\n",
       " 'pdgfrb',\n",
       " 'pik3ca',\n",
       " 'pik3cb',\n",
       " 'pik3cd',\n",
       " 'pik3r1',\n",
       " 'pik3r2',\n",
       " 'pim1',\n",
       " 'pms1',\n",
       " 'pms2',\n",
       " 'pole',\n",
       " 'ppm1d',\n",
       " 'ppp2r1a',\n",
       " 'ppp6c',\n",
       " 'prdm1',\n",
       " 'ptch1',\n",
       " 'pten',\n",
       " 'ptpn11',\n",
       " 'ptprd',\n",
       " 'ptprt',\n",
       " 'rab35',\n",
       " 'rac1',\n",
       " 'rad21',\n",
       " 'rad50',\n",
       " 'rad51c',\n",
       " 'rad51d',\n",
       " 'rad54l',\n",
       " 'raf1',\n",
       " 'rasa1',\n",
       " 'rb1',\n",
       " 'rbm10',\n",
       " 'ret',\n",
       " 'rheb',\n",
       " 'rhoa',\n",
       " 'rictor',\n",
       " 'rit1',\n",
       " 'rnf43',\n",
       " 'ros1',\n",
       " 'runx1',\n",
       " 'rxra',\n",
       " 'rybp',\n",
       " 'setd2',\n",
       " 'sf3b1',\n",
       " 'shoc2',\n",
       " 'shq1',\n",
       " 'smad2',\n",
       " 'smad3',\n",
       " 'smad4',\n",
       " 'smarca4',\n",
       " 'smarcb1',\n",
       " 'smo',\n",
       " 'sos1',\n",
       " 'sox9',\n",
       " 'spop',\n",
       " 'src',\n",
       " 'stat3',\n",
       " 'stk11',\n",
       " 'tcf3',\n",
       " 'tert',\n",
       " 'tet1',\n",
       " 'tet2',\n",
       " 'tgfbr1',\n",
       " 'tgfbr2',\n",
       " 'tmprss2',\n",
       " 'tp53',\n",
       " 'tp53bp1',\n",
       " 'tsc1',\n",
       " 'tsc2',\n",
       " 'u2af1',\n",
       " 'vegfa',\n",
       " 'vhl',\n",
       " 'whsc1',\n",
       " 'xpo1',\n",
       " 'xrcc2',\n",
       " 'yap1']"
      ]
     },
     "execution_count": 28,
     "metadata": {},
     "output_type": "execute_result"
    }
   ],
   "source": [
    "gene_vectorizer.get_feature_names()"
   ]
  },
  {
   "cell_type": "code",
   "execution_count": 29,
   "metadata": {},
   "outputs": [
    {
     "name": "stdout",
     "output_type": "stream",
     "text": [
      "train_gene_feature_onehotCoding is converted feature using one-hot encoding method. The shape of gene feature: (2124, 226)\n"
     ]
    }
   ],
   "source": [
    "print(\"train_gene_feature_onehotCoding is converted feature using one-hot encoding method. The shape of gene feature:\", train_gene_feature_onehotCoding.shape)"
   ]
  },
  {
   "cell_type": "markdown",
   "metadata": {},
   "source": [
    "<p style=\"font-size:18px;\"> <b>Q4.</b> How good is this gene feature  in predicting y_i?</p>"
   ]
  },
  {
   "cell_type": "markdown",
   "metadata": {},
   "source": [
    "There are many ways to estimate how good a feature is, in predicting y_i. One of the good methods is to build a proper ML model using just this feature. In this case, we will build a logistic regression model using only Gene feature (one hot encoded) to predict y_i."
   ]
  },
  {
   "cell_type": "code",
   "execution_count": 30,
   "metadata": {},
   "outputs": [
    {
     "name": "stdout",
     "output_type": "stream",
     "text": [
      "For values of alpha =  1e-05 The log loss is: 1.4522395212582269\n",
      "For values of alpha =  0.0001 The log loss is: 1.2765937139984063\n",
      "For values of alpha =  0.001 The log loss is: 1.2973227647270822\n",
      "For values of alpha =  0.01 The log loss is: 1.4314445419857231\n",
      "For values of alpha =  0.1 The log loss is: 1.5149362420219377\n",
      "For values of alpha =  1 The log loss is: 1.5461036406063464\n"
     ]
    },
    {
     "data": {
      "image/png": "[encoded data removed]",
      "text/plain": [
       "<Figure size 432x288 with 1 Axes>"
      ]
     },
     "metadata": {},
     "output_type": "display_data"
    },
    {
     "name": "stdout",
     "output_type": "stream",
     "text": [
      "For values of best alpha =  0.0001 The train log loss is: 1.0441095122666129\n",
      "For values of best alpha =  0.0001 The cross validation log loss is: 1.2765937139984063\n",
      "For values of best alpha =  0.0001 The test log loss is: 1.223038923188658\n"
     ]
    }
   ],
   "source": [
    "alpha = [10 ** x for x in range(-5, 1)] # hyperparam for SGD classifier.\n",
    "\n",
    "# read more about SGDClassifier() at http://scikit-learn.org/stable/modules/generated/sklearn.linear_model.SGDClassifier.html\n",
    "# ------------------------------\n",
    "# default parameters\n",
    "# SGDClassifier(loss=’hinge’, penalty=’l2’, alpha=0.0001, l1_ratio=0.15, fit_intercept=True, max_iter=None, tol=None, \n",
    "# shuffle=True, verbose=0, epsilon=0.1, n_jobs=1, random_state=None, learning_rate=’optimal’, eta0=0.0, power_t=0.5, \n",
    "# class_weight=None, warm_start=False, average=False, n_iter=None)\n",
    "\n",
    "# some of methods\n",
    "# fit(X, y[, coef_init, intercept_init, …])\tFit linear model with Stochastic Gradient Descent.\n",
    "# predict(X)\tPredict class labels for samples in X.\n",
    "\n",
    "#-------------------------------\n",
    "# video link: \n",
    "#------------------------------\n",
    "\n",
    "\n",
    "cv_log_error_array=[]\n",
    "for i in alpha:\n",
    "    clf = SGDClassifier(alpha=i, penalty='l2', loss='log', random_state=42)\n",
    "    clf.fit(train_gene_feature_onehotCoding, y_train)\n",
    "    sig_clf = CalibratedClassifierCV(clf, method=\"sigmoid\")\n",
    "    sig_clf.fit(train_gene_feature_onehotCoding, y_train)\n",
    "    predict_y = sig_clf.predict_proba(cv_gene_feature_onehotCoding)\n",
    "    cv_log_error_array.append(log_loss(y_cv, predict_y, labels=clf.classes_, eps=1e-15))\n",
    "    print('For values of alpha = ', i, \"The log loss is:\",log_loss(y_cv, predict_y, labels=clf.classes_, eps=1e-15))\n",
    "\n",
    "fig, ax = plt.subplots()\n",
    "ax.plot(alpha, cv_log_error_array,c='g')\n",
    "for i, txt in enumerate(np.round(cv_log_error_array,3)):\n",
    "    ax.annotate((alpha[i],np.round(txt,3)), (alpha[i],cv_log_error_array[i]))\n",
    "plt.grid()\n",
    "plt.title(\"Cross Validation Error for each alpha\")\n",
    "plt.xlabel(\"Alpha i's\")\n",
    "plt.ylabel(\"Error measure\")\n",
    "plt.show()\n",
    "\n",
    "\n",
    "best_alpha = np.argmin(cv_log_error_array)\n",
    "clf = SGDClassifier(alpha=alpha[best_alpha], penalty='l2', loss='log', random_state=42)\n",
    "clf.fit(train_gene_feature_onehotCoding, y_train)\n",
    "sig_clf = CalibratedClassifierCV(clf, method=\"sigmoid\")\n",
    "sig_clf.fit(train_gene_feature_onehotCoding, y_train)\n",
    "\n",
    "predict_y = sig_clf.predict_proba(train_gene_feature_onehotCoding)\n",
    "print('For values of best alpha = ', alpha[best_alpha], \"The train log loss is:\",log_loss(y_train, predict_y, labels=clf.classes_, eps=1e-15))\n",
    "predict_y = sig_clf.predict_proba(cv_gene_feature_onehotCoding)\n",
    "print('For values of best alpha = ', alpha[best_alpha], \"The cross validation log loss is:\",log_loss(y_cv, predict_y, labels=clf.classes_, eps=1e-15))\n",
    "predict_y = sig_clf.predict_proba(test_gene_feature_onehotCoding)\n",
    "print('For values of best alpha = ', alpha[best_alpha], \"The test log loss is:\",log_loss(y_test, predict_y, labels=clf.classes_, eps=1e-15))\n"
   ]
  },
  {
   "cell_type": "markdown",
   "metadata": {},
   "source": [
    "<p style=\"font-size:18px;\"> <b>Q5.</b> Is the Gene feature stable across all the data sets (Test, Train, Cross validation)?</p>\n",
    "<p style=\"font-size:16px;\"> <b>Ans.</b> Yes, it is. Otherwise, the CV and Test errors would be significantly more than train error. </p>"
   ]
  },
  {
   "cell_type": "code",
   "execution_count": 31,
   "metadata": {},
   "outputs": [
    {
     "name": "stdout",
     "output_type": "stream",
     "text": [
      "Q6. How many data points in Test and CV datasets are covered by the  227  genes in train dataset?\n",
      "Ans\n",
      "1. In test data 638 out of 665 : 95.93984962406014\n",
      "2. In cross validation data 513 out of  532 : 96.42857142857143\n"
     ]
    }
   ],
   "source": [
    "print(\"Q6. How many data points in Test and CV datasets are covered by the \", unique_genes.shape[0], \" genes in train dataset?\")\n",
    "\n",
    "test_coverage=test_df[test_df['Gene'].isin(list(set(train_df['Gene'])))].shape[0]\n",
    "cv_coverage=cv_df[cv_df['Gene'].isin(list(set(train_df['Gene'])))].shape[0]\n",
    "\n",
    "print('Ans\\n1. In test data',test_coverage, 'out of',test_df.shape[0], \":\",(test_coverage/test_df.shape[0])*100)\n",
    "print('2. In cross validation data',cv_coverage, 'out of ',cv_df.shape[0],\":\" ,(cv_coverage/cv_df.shape[0])*100)"
   ]
  },
  {
   "cell_type": "markdown",
   "metadata": {},
   "source": [
    "<h3>3.2.2 Univariate Analysis on Variation Feature</h3>"
   ]
  },
  {
   "cell_type": "markdown",
   "metadata": {},
   "source": [
    "<p style=\"font-size:18px;\"> <b>Q7.</b> Variation, What type of feature is it ?</p>\n",
    "<p style=\"font-size:16px;\"><b>Ans.</b> Variation is a categorical variable </p>\n",
    "<p style=\"font-size:18px;\"> <b>Q8.</b> How many categories are there?</p>"
   ]
  },
  {
   "cell_type": "code",
   "execution_count": 32,
   "metadata": {},
   "outputs": [
    {
     "name": "stdout",
     "output_type": "stream",
     "text": [
      "Number of Unique Variations : 1932\n",
      "Deletion                52\n",
      "Truncating_Mutations    51\n",
      "Amplification           45\n",
      "Fusions                 22\n",
      "Overexpression           3\n",
      "Q61L                     3\n",
      "C618R                    2\n",
      "TMPRSS2-ETV1_Fusion      2\n",
      "G67R                     2\n",
      "G12C                     2\n",
      "Name: Variation, dtype: int64\n"
     ]
    }
   ],
   "source": [
    "unique_variations = train_df['Variation'].value_counts()\n",
    "print('Number of Unique Variations :', unique_variations.shape[0])\n",
    "# the top 10 variations that occured most\n",
    "print(unique_variations.head(10))"
   ]
  },
  {
   "cell_type": "code",
   "execution_count": 33,
   "metadata": {
    "scrolled": true
   },
   "outputs": [
    {
     "name": "stdout",
     "output_type": "stream",
     "text": [
      "Ans: There are 1932 different categories of variations in the train data, and they are distibuted as follows\n"
     ]
    }
   ],
   "source": [
    "print(\"Ans: There are\", unique_variations.shape[0] ,\"different categories of variations in the train data, and they are distibuted as follows\",)"
   ]
  },
  {
   "cell_type": "code",
   "execution_count": 34,
   "metadata": {},
   "outputs": [
    {
     "data": {
      "image/png": "[encoded data removed]",
      "text/plain": [
       "<Figure size 432x288 with 1 Axes>"
      ]
     },
     "metadata": {},
     "output_type": "display_data"
    }
   ],
   "source": [
    "s = sum(unique_variations.values);\n",
    "h = unique_variations.values/s;\n",
    "plt.plot(h, label=\"Histrogram of Variations\")\n",
    "plt.xlabel('Index of a Variation')\n",
    "plt.ylabel('Number of Occurances')\n",
    "plt.legend()\n",
    "plt.grid()\n",
    "plt.show()"
   ]
  },
  {
   "cell_type": "code",
   "execution_count": 35,
   "metadata": {},
   "outputs": [
    {
     "name": "stdout",
     "output_type": "stream",
     "text": [
      "[0.02448211 0.04849341 0.06967985 ... 0.99905838 0.99952919 1.        ]\n"
     ]
    },
    {
     "data": {
      "image/png": "[encoded data removed]",
      "text/plain": [
       "<Figure size 432x288 with 1 Axes>"
      ]
     },
     "metadata": {},
     "output_type": "display_data"
    }
   ],
   "source": [
    "c = np.cumsum(h)\n",
    "print(c)\n",
    "plt.plot(c,label='Cumulative distribution of Variations')\n",
    "plt.grid()\n",
    "plt.legend()\n",
    "plt.show()"
   ]
  },
  {
   "cell_type": "markdown",
   "metadata": {},
   "source": [
    "<p style=\"font-size:18px;\"> <b>Q9.</b> How to featurize this Variation feature ?</p>\n",
    "\n",
    "<p style=\"font-size:16px;\"><b>Ans.</b>There are two ways we can featurize this variable\n",
    "check out this video: https://www.appliedaicourse.com/course/applied-ai-course-online/lessons/handling-categorical-and-numerical-features/\n",
    "<ol><li>One hot Encoding</li><li>Response coding</li></ol></p>\n",
    "<p> We will be using both these methods to featurize the Variation Feature </p>"
   ]
  },
  {
   "cell_type": "code",
   "execution_count": 36,
   "metadata": {},
   "outputs": [],
   "source": [
    "# alpha is used for laplace smoothing\n",
    "alpha = 1\n",
    "# train gene feature\n",
    "train_variation_feature_responseCoding = np.array(get_gv_feature(alpha, \"Variation\", train_df))\n",
    "# test gene feature\n",
    "test_variation_feature_responseCoding = np.array(get_gv_feature(alpha, \"Variation\", test_df))\n",
    "# cross validation gene feature\n",
    "cv_variation_feature_responseCoding = np.array(get_gv_feature(alpha, \"Variation\", cv_df))"
   ]
  },
  {
   "cell_type": "code",
   "execution_count": 37,
   "metadata": {},
   "outputs": [
    {
     "name": "stdout",
     "output_type": "stream",
     "text": [
      "train_variation_feature_responseCoding is a converted feature using the response coding method. The shape of Variation feature: (2124, 9)\n"
     ]
    }
   ],
   "source": [
    "print(\"train_variation_feature_responseCoding is a converted feature using the response coding method. The shape of Variation feature:\", train_variation_feature_responseCoding.shape)"
   ]
  },
  {
   "cell_type": "code",
   "execution_count": 39,
   "metadata": {},
   "outputs": [],
   "source": [
    "# one-hot encoding of variation feature.\n",
    "variation_vectorizer = CountVectorizer()\n",
    "train_variation_feature_onehotCoding = variation_vectorizer.fit_transform(train_df['Variation'])\n",
    "test_variation_feature_onehotCoding = variation_vectorizer.transform(test_df['Variation'])\n",
    "cv_variation_feature_onehotCoding = variation_vectorizer.transform(cv_df['Variation'])"
   ]
  },
  {
   "cell_type": "code",
   "execution_count": 40,
   "metadata": {},
   "outputs": [
    {
     "name": "stdout",
     "output_type": "stream",
     "text": [
      "train_variation_feature_onehotEncoded is converted feature using the onne-hot encoding method. The shape of Variation feature: (2124, 1959)\n"
     ]
    }
   ],
   "source": [
    "print(\"train_variation_feature_onehotEncoded is converted feature using the onne-hot encoding method. The shape of Variation feature:\", train_variation_feature_onehotCoding.shape)"
   ]
  },
  {
   "cell_type": "markdown",
   "metadata": {},
   "source": [
    "<p style=\"font-size:18px;\"> <b>Q10.</b> How good is this Variation feature  in predicting y_i?</p>"
   ]
  },
  {
   "cell_type": "markdown",
   "metadata": {},
   "source": [
    "Let's build a model just like the earlier!"
   ]
  },
  {
   "cell_type": "code",
   "execution_count": 42,
   "metadata": {
    "scrolled": false
   },
   "outputs": [
    {
     "name": "stdout",
     "output_type": "stream",
     "text": [
      "For values of alpha =  1e-05 The log loss is: 1.720943581527042\n",
      "For values of alpha =  0.0001 The log loss is: 1.7109135510927833\n",
      "For values of alpha =  0.001 The log loss is: 1.7100790201478915\n",
      "For values of alpha =  0.01 The log loss is: 1.7210571125209235\n",
      "For values of alpha =  0.1 The log loss is: 1.7224794460396793\n",
      "For values of alpha =  1 The log loss is: 1.7233578731600068\n"
     ]
    },
    {
     "data": {
      "image/png": "[encoded data removed]",
      "text/plain": [
       "<Figure size 432x288 with 1 Axes>"
      ]
     },
     "metadata": {},
     "output_type": "display_data"
    },
    {
     "name": "stdout",
     "output_type": "stream",
     "text": [
      "For values of best alpha =  0.001 The train log loss is: 1.042227051115231\n",
      "For values of best alpha =  0.001 The cross validation log loss is: 1.7100790201478915\n",
      "For values of best alpha =  0.001 The test log loss is: 1.7012039305187143\n"
     ]
    }
   ],
   "source": [
    "alpha = [10 ** x for x in range(-5, 1)]\n",
    "\n",
    "# read more about SGDClassifier() at http://scikit-learn.org/stable/modules/generated/sklearn.linear_model.SGDClassifier.html\n",
    "# ------------------------------\n",
    "# default parameters\n",
    "# SGDClassifier(loss=’hinge’, penalty=’l2’, alpha=0.0001, l1_ratio=0.15, fit_intercept=True, max_iter=None, tol=None, \n",
    "# shuffle=True, verbose=0, epsilon=0.1, n_jobs=1, random_state=None, learning_rate=’optimal’, eta0=0.0, power_t=0.5, \n",
    "# class_weight=None, warm_start=False, average=False, n_iter=None)\n",
    "\n",
    "# some of methods\n",
    "# fit(X, y[, coef_init, intercept_init, …])\tFit linear model with Stochastic Gradient Descent.\n",
    "# predict(X)\tPredict class labels for samples in X.\n",
    "\n",
    "#-------------------------------\n",
    "# video link: \n",
    "#------------------------------\n",
    "\n",
    "\n",
    "cv_log_error_array=[]\n",
    "for i in alpha:\n",
    "    clf = SGDClassifier(alpha=i, penalty='l2', loss='log', random_state=42)\n",
    "    clf.fit(train_variation_feature_onehotCoding, y_train)\n",
    "    \n",
    "    sig_clf = CalibratedClassifierCV(clf, method=\"sigmoid\")\n",
    "    sig_clf.fit(train_variation_feature_onehotCoding, y_train)\n",
    "    predict_y = sig_clf.predict_proba(cv_variation_feature_onehotCoding)\n",
    "    \n",
    "    cv_log_error_array.append(log_loss(y_cv, predict_y, labels=clf.classes_, eps=1e-15))\n",
    "    print('For values of alpha = ', i, \"The log loss is:\",log_loss(y_cv, predict_y, labels=clf.classes_, eps=1e-15))\n",
    "\n",
    "fig, ax = plt.subplots()\n",
    "ax.plot(alpha, cv_log_error_array,c='g')\n",
    "for i, txt in enumerate(np.round(cv_log_error_array,3)):\n",
    "    ax.annotate((alpha[i],np.round(txt,3)), (alpha[i],cv_log_error_array[i]))\n",
    "plt.grid()\n",
    "plt.title(\"Cross Validation Error for each alpha\")\n",
    "plt.xlabel(\"Alpha i's\")\n",
    "plt.ylabel(\"Error measure\")\n",
    "plt.show()\n",
    "\n",
    "\n",
    "best_alpha = np.argmin(cv_log_error_array)\n",
    "clf = SGDClassifier(alpha=alpha[best_alpha], penalty='l2', loss='log', random_state=42)\n",
    "clf.fit(train_variation_feature_onehotCoding, y_train)\n",
    "sig_clf = CalibratedClassifierCV(clf, method=\"sigmoid\")\n",
    "sig_clf.fit(train_variation_feature_onehotCoding, y_train)\n",
    "\n",
    "predict_y = sig_clf.predict_proba(train_variation_feature_onehotCoding)\n",
    "print('For values of best alpha = ', alpha[best_alpha], \"The train log loss is:\",log_loss(y_train, predict_y, labels=clf.classes_, eps=1e-15))\n",
    "predict_y = sig_clf.predict_proba(cv_variation_feature_onehotCoding)\n",
    "print('For values of best alpha = ', alpha[best_alpha], \"The cross validation log loss is:\",log_loss(y_cv, predict_y, labels=clf.classes_, eps=1e-15))\n",
    "predict_y = sig_clf.predict_proba(test_variation_feature_onehotCoding)\n",
    "print('For values of best alpha = ', alpha[best_alpha], \"The test log loss is:\",log_loss(y_test, predict_y, labels=clf.classes_, eps=1e-15))\n"
   ]
  },
  {
   "cell_type": "markdown",
   "metadata": {},
   "source": [
    "<p style=\"font-size:18px;\"> <b>Q11.</b> Is the Variation feature stable across all the data sets (Test, Train, Cross validation)?</p>\n",
    "<p style=\"font-size:16px;\"> <b>Ans.</b> Not sure! But lets be very sure using the below analysis. </p>"
   ]
  },
  {
   "cell_type": "code",
   "execution_count": 43,
   "metadata": {
    "scrolled": true
   },
   "outputs": [
    {
     "name": "stdout",
     "output_type": "stream",
     "text": [
      "Q12. How many data points are covered by total  1932  genes in test and cross validation data sets?\n",
      "Ans\n",
      "1. In test data 74 out of 665 : 11.12781954887218\n",
      "2. In cross validation data 54 out of  532 : 10.150375939849624\n"
     ]
    }
   ],
   "source": [
    "print(\"Q12. How many data points are covered by total \", unique_variations.shape[0], \" genes in test and cross validation data sets?\")\n",
    "test_coverage=test_df[test_df['Variation'].isin(list(set(train_df['Variation'])))].shape[0]\n",
    "cv_coverage=cv_df[cv_df['Variation'].isin(list(set(train_df['Variation'])))].shape[0]\n",
    "print('Ans\\n1. In test data',test_coverage, 'out of',test_df.shape[0], \":\",(test_coverage/test_df.shape[0])*100)\n",
    "print('2. In cross validation data',cv_coverage, 'out of ',cv_df.shape[0],\":\" ,(cv_coverage/cv_df.shape[0])*100)"
   ]
  },
  {
   "cell_type": "markdown",
   "metadata": {},
   "source": [
    "<h3>3.2.3 Univariate Analysis on Text Feature</h3>"
   ]
  },
  {
   "cell_type": "markdown",
   "metadata": {},
   "source": [
    "1. How many unique words are present in train data?\n",
    "2. How are word frequencies distributed?\n",
    "3. How to featurize text field?\n",
    "4. Is the text feature useful in predicitng y_i?\n",
    "5. Is the text feature stable across train, test and CV datasets?"
   ]
  },
  {
   "cell_type": "code",
   "execution_count": 44,
   "metadata": {},
   "outputs": [],
   "source": [
    "# cls_text is a data frame\n",
    "# for every row in data fram consider the 'TEXT'\n",
    "# split the words by space\n",
    "# make a dict with those words\n",
    "# increment its count whenever we see that word\n",
    "\n",
    "def extract_dictionary_paddle(cls_text):\n",
    "    dictionary = defaultdict(int)\n",
    "    for index, row in cls_text.iterrows():\n",
    "        for word in row['TEXT'].split():\n",
    "            dictionary[word] +=1\n",
    "    return dictionary"
   ]
  },
  {
   "cell_type": "code",
   "execution_count": 45,
   "metadata": {},
   "outputs": [],
   "source": [
    "import math\n",
    "#https://stackoverflow.com/a/1602964\n",
    "def get_text_responsecoding(df):\n",
    "    text_feature_responseCoding = np.zeros((df.shape[0],9))\n",
    "    for i in range(0,9):\n",
    "        row_index = 0\n",
    "        for index, row in df.iterrows():\n",
    "            sum_prob = 0\n",
    "            for word in row['TEXT'].split():\n",
    "                sum_prob += math.log(((dict_list[i].get(word,0)+10 )/(total_dict.get(word,0)+90)))\n",
    "            text_feature_responseCoding[row_index][i] = math.exp(sum_prob/len(row['TEXT'].split()))\n",
    "            row_index += 1\n",
    "    return text_feature_responseCoding"
   ]
  },
  {
   "cell_type": "code",
   "execution_count": 46,
   "metadata": {},
   "outputs": [
    {
     "name": "stdout",
     "output_type": "stream",
     "text": [
      "Total number of unique words in train data : 134512\n"
     ]
    }
   ],
   "source": [
    "# building a CountVectorizer with all the words that occured minimum 3 times in train data\n",
    "text_vectorizer = CountVectorizer()\n",
    "train_text_feature_onehotCoding = text_vectorizer.fit_transform(train_df['TEXT'])\n",
    "# getting all the feature names (words)\n",
    "train_text_features= text_vectorizer.get_feature_names()\n",
    "\n",
    "# train_text_feature_onehotCoding.sum(axis=0).A1 will sum every row and returns (1*number of features) vector\n",
    "train_text_fea_counts = train_text_feature_onehotCoding.sum(axis=0).A1\n",
    "\n",
    "# zip(list(text_features),text_fea_counts) will zip a word with its number of times it occured\n",
    "text_fea_dict = dict(zip(list(train_text_features),train_text_fea_counts))\n",
    "\n",
    "\n",
    "print(\"Total number of unique words in train data :\", len(train_text_features))"
   ]
  },
  {
   "cell_type": "code",
   "execution_count": 47,
   "metadata": {},
   "outputs": [],
   "source": [
    "# Collecting all the genes and variations in a single list\n",
    "corpus = []\n",
    "for word in data['Gene'].values:\n",
    "    corpus.append(word)\n",
    "for word in data['Variation'].values:\n",
    "    corpus.append(word)"
   ]
  },
  {
   "cell_type": "code",
   "execution_count": 48,
   "metadata": {},
   "outputs": [],
   "source": [
    "# Training TfidfVectorizer on the 'corpus' list\n",
    "text1 = TfidfVectorizer()\n",
    "text2 = text1.fit_transform(corpus)\n",
    "text1_features = text1.get_feature_names()\n",
    "\n",
    "# Transforming the train_df['TEXT']\n",
    "train_text = text1.transform(train_df['TEXT'])\n",
    "\n",
    "# Transforming the test_df['TEXT']\n",
    "test_text = text1.transform(test_df['TEXT'])\n",
    "\n",
    "# Transforming the cv_df['TEXT']\n",
    "cv_text = text1.transform(cv_df['TEXT'])\n",
    "\n",
    "# Normalizing the train_text\n",
    "train_text = normalize(train_text,axis=0)\n",
    "\n",
    "# Normalizing the test_text\n",
    "test_text = normalize(test_text,axis=0)\n",
    "\n",
    "# Normalizing the cv_text\n",
    "cv_text = normalize(cv_text,axis=0)"
   ]
  },
  {
   "cell_type": "code",
   "execution_count": 49,
   "metadata": {},
   "outputs": [],
   "source": [
    "dict_list = []\n",
    "# dict_list =[] contains 9 dictoinaries each corresponds to a class\n",
    "for i in range(1,10):\n",
    "    cls_text = train_df[train_df['Class']==i]\n",
    "    # build a word dict based on the words in that class\n",
    "    dict_list.append(extract_dictionary_paddle(cls_text))\n",
    "    # append it to dict_list\n",
    "\n",
    "# dict_list[i] is build on i'th  class text data\n",
    "# total_dict is buid on whole training text data\n",
    "total_dict = extract_dictionary_paddle(train_df)\n",
    "\n",
    "\n",
    "confuse_array = []\n",
    "for i in train_text_features:\n",
    "    ratios = []\n",
    "    max_val = -1\n",
    "    for j in range(0,9):\n",
    "        ratios.append((dict_list[j][i]+10 )/(total_dict[i]+90))\n",
    "    confuse_array.append(ratios)\n",
    "confuse_array = np.array(confuse_array)"
   ]
  },
  {
   "cell_type": "code",
   "execution_count": 50,
   "metadata": {},
   "outputs": [],
   "source": [
    "#response coding of text features\n",
    "train_text_feature_responseCoding  = get_text_responsecoding(train_df)\n",
    "test_text_feature_responseCoding  = get_text_responsecoding(test_df)\n",
    "cv_text_feature_responseCoding  = get_text_responsecoding(cv_df)"
   ]
  },
  {
   "cell_type": "code",
   "execution_count": 51,
   "metadata": {},
   "outputs": [],
   "source": [
    "# https://stackoverflow.com/a/16202486\n",
    "# we convert each row values such that they sum to 1  \n",
    "train_text_feature_responseCoding = (train_text_feature_responseCoding.T/train_text_feature_responseCoding.sum(axis=1)).T\n",
    "test_text_feature_responseCoding = (test_text_feature_responseCoding.T/test_text_feature_responseCoding.sum(axis=1)).T\n",
    "cv_text_feature_responseCoding = (cv_text_feature_responseCoding.T/cv_text_feature_responseCoding.sum(axis=1)).T"
   ]
  },
  {
   "cell_type": "code",
   "execution_count": 52,
   "metadata": {},
   "outputs": [],
   "source": [
    "# don't forget to normalize every feature\n",
    "train_text_feature_onehotCoding = normalize(train_text_feature_onehotCoding, axis=0)\n",
    "\n",
    "# we use the same vectorizer that was trained on train data\n",
    "test_text_feature_onehotCoding = text_vectorizer.transform(test_df['TEXT'])\n",
    "# don't forget to normalize every feature\n",
    "test_text_feature_onehotCoding = normalize(test_text_feature_onehotCoding, axis=0)\n",
    "\n",
    "# we use the same vectorizer that was trained on train data\n",
    "cv_text_feature_onehotCoding = text_vectorizer.transform(cv_df['TEXT'])\n",
    "# don't forget to normalize every feature\n",
    "cv_text_feature_onehotCoding = normalize(cv_text_feature_onehotCoding, axis=0)"
   ]
  },
  {
   "cell_type": "code",
   "execution_count": 53,
   "metadata": {},
   "outputs": [],
   "source": [
    "#https://stackoverflow.com/a/2258273/4084039\n",
    "sorted_text_fea_dict = dict(sorted(text_fea_dict.items(), key=lambda x: x[1] , reverse=True))\n",
    "sorted_text_occur = np.array(list(sorted_text_fea_dict.values()))"
   ]
  },
  {
   "cell_type": "code",
   "execution_count": 54,
   "metadata": {},
   "outputs": [
    {
     "name": "stdout",
     "output_type": "stream",
     "text": [
      "Counter({1: 46690, 2: 19055, 3: 8600, 4: 7286, 5: 4351, 6: 4332, 8: 2740, 7: 2498, 9: 2351, 10: 2004, 12: 1537, 11: 1486, 15: 1095, 14: 1095, 16: 1040, 13: 928, 18: 892, 17: 738, 20: 706, 19: 623, 21: 557, 22: 540, 48: 536, 24: 526, 30: 483, 23: 474, 25: 454, 26: 435, 32: 419, 28: 402, 27: 367, 33: 319, 36: 295, 51: 292, 29: 288, 34: 287, 31: 285, 40: 265, 35: 243, 38: 231, 42: 226, 37: 223, 44: 208, 45: 201, 39: 201, 50: 195, 41: 194, 54: 189, 49: 184, 52: 182, 46: 176, 55: 167, 57: 161, 43: 161, 64: 151, 60: 147, 56: 143, 53: 141, 47: 139, 58: 138, 63: 125, 62: 120, 72: 115, 65: 114, 61: 114, 59: 113, 66: 112, 69: 110, 68: 109, 70: 104, 96: 103, 80: 96, 67: 95, 71: 91, 78: 89, 83: 86, 73: 84, 84: 82, 75: 81, 90: 80, 102: 77, 74: 77, 86: 75, 76: 74, 79: 72, 100: 70, 77: 70, 98: 69, 87: 68, 89: 67, 91: 66, 85: 66, 88: 65, 112: 64, 93: 64, 81: 64, 99: 61, 92: 60, 144: 59, 103: 58, 82: 58, 108: 56, 113: 53, 105: 53, 94: 53, 107: 50, 114: 49, 128: 48, 109: 48, 95: 48, 120: 47, 101: 47, 106: 45, 147: 44, 126: 44, 119: 44, 104: 44, 118: 43, 110: 43, 131: 42, 97: 42, 152: 41, 136: 41, 135: 40, 134: 40, 130: 40, 125: 40, 115: 40, 140: 39, 132: 39, 111: 39, 133: 38, 148: 37, 146: 37, 139: 37, 123: 37, 121: 37, 164: 36, 143: 36, 116: 36, 155: 35, 141: 35, 127: 35, 117: 35, 149: 34, 153: 33, 138: 33, 185: 32, 184: 32, 122: 32, 151: 30, 145: 30, 129: 30, 181: 29, 174: 29, 150: 29, 124: 29, 179: 28, 170: 28, 216: 27, 210: 27, 187: 27, 183: 27, 175: 27, 162: 27, 171: 26, 160: 26, 156: 26, 142: 26, 223: 25, 206: 25, 200: 25, 182: 25, 177: 25, 167: 25, 178: 24, 165: 24, 154: 24, 228: 23, 195: 23, 186: 23, 180: 23, 176: 23, 245: 22, 235: 22, 205: 22, 203: 22, 168: 22, 157: 22, 240: 21, 202: 21, 201: 21, 199: 21, 198: 21, 172: 21, 166: 21, 161: 21, 158: 21, 288: 20, 268: 20, 254: 20, 233: 20, 222: 20, 215: 20, 211: 20, 192: 20, 191: 20, 188: 20, 274: 19, 250: 19, 249: 19, 217: 19, 214: 19, 212: 19, 209: 19, 207: 19, 159: 19, 277: 18, 260: 18, 258: 18, 255: 18, 234: 18, 221: 18, 220: 18, 194: 18, 190: 18, 163: 18, 395: 17, 264: 17, 262: 17, 241: 17, 239: 17, 208: 17, 196: 17, 169: 17, 137: 17, 285: 16, 282: 16, 237: 16, 231: 16, 224: 16, 193: 16, 400: 15, 267: 15, 266: 15, 252: 15, 246: 15, 244: 15, 242: 15, 230: 15, 225: 15, 219: 15, 189: 15, 173: 15, 371: 14, 298: 14, 294: 14, 291: 14, 276: 14, 269: 14, 248: 14, 236: 14, 227: 14, 226: 14, 204: 14, 394: 13, 375: 13, 342: 13, 328: 13, 317: 13, 314: 13, 305: 13, 275: 13, 259: 13, 256: 13, 232: 13, 354: 12, 345: 12, 340: 12, 325: 12, 324: 12, 311: 12, 303: 12, 299: 12, 281: 12, 278: 12, 271: 12, 263: 12, 261: 12, 251: 12, 229: 12, 213: 12, 197: 12, 636: 11, 447: 11, 411: 11, 403: 11, 399: 11, 387: 11, 386: 11, 335: 11, 322: 11, 308: 11, 302: 11, 300: 11, 297: 11, 296: 11, 295: 11, 292: 11, 279: 11, 253: 11, 238: 11, 491: 10, 465: 10, 438: 10, 396: 10, 384: 10, 379: 10, 369: 10, 346: 10, 334: 10, 312: 10, 301: 10, 287: 10, 286: 10, 265: 10, 247: 10, 243: 10, 218: 10, 414: 9, 401: 9, 381: 9, 352: 9, 343: 9, 341: 9, 337: 9, 336: 9, 330: 9, 321: 9, 315: 9, 309: 9, 306: 9, 289: 9, 280: 9, 712: 8, 634: 8, 541: 8, 502: 8, 485: 8, 483: 8, 477: 8, 462: 8, 459: 8, 456: 8, 453: 8, 439: 8, 437: 8, 423: 8, 404: 8, 397: 8, 391: 8, 390: 8, 380: 8, 365: 8, 364: 8, 358: 8, 357: 8, 355: 8, 347: 8, 339: 8, 319: 8, 318: 8, 316: 8, 310: 8, 304: 8, 290: 8, 273: 8, 257: 8, 942: 7, 932: 7, 811: 7, 684: 7, 642: 7, 612: 7, 598: 7, 585: 7, 568: 7, 561: 7, 533: 7, 520: 7, 494: 7, 486: 7, 481: 7, 478: 7, 474: 7, 473: 7, 466: 7, 464: 7, 463: 7, 455: 7, 441: 7, 436: 7, 434: 7, 433: 7, 431: 7, 425: 7, 406: 7, 377: 7, 368: 7, 366: 7, 360: 7, 356: 7, 350: 7, 331: 7, 323: 7, 313: 7, 307: 7, 284: 7, 283: 7, 272: 7, 270: 7, 1531: 6, 871: 6, 798: 6, 745: 6, 691: 6, 686: 6, 670: 6, 659: 6, 657: 6, 646: 6, 632: 6, 631: 6, 624: 6, 613: 6, 608: 6, 596: 6, 593: 6, 579: 6, 577: 6, 571: 6, 564: 6, 560: 6, 551: 6, 537: 6, 536: 6, 534: 6, 528: 6, 511: 6, 504: 6, 499: 6, 471: 6, 467: 6, 451: 6, 448: 6, 446: 6, 443: 6, 428: 6, 424: 6, 422: 6, 421: 6, 416: 6, 415: 6, 409: 6, 408: 6, 405: 6, 398: 6, 389: 6, 382: 6, 378: 6, 376: 6, 370: 6, 359: 6, 353: 6, 344: 6, 332: 6, 326: 6, 1321: 5, 1256: 5, 1099: 5, 1043: 5, 970: 5, 963: 5, 953: 5, 912: 5, 866: 5, 824: 5, 808: 5, 741: 5, 739: 5, 734: 5, 731: 5, 710: 5, 705: 5, 687: 5, 685: 5, 681: 5, 644: 5, 643: 5, 637: 5, 630: 5, 606: 5, 599: 5, 591: 5, 574: 5, 565: 5, 550: 5, 549: 5, 538: 5, 531: 5, 530: 5, 529: 5, 526: 5, 525: 5, 519: 5, 518: 5, 517: 5, 513: 5, 508: 5, 498: 5, 496: 5, 495: 5, 493: 5, 488: 5, 484: 5, 480: 5, 470: 5, 461: 5, 460: 5, 452: 5, 432: 5, 429: 5, 420: 5, 412: 5, 407: 5, 402: 5, 393: 5, 392: 5, 385: 5, 374: 5, 373: 5, 363: 5, 362: 5, 361: 5, 351: 5, 348: 5, 338: 5, 333: 5, 329: 5, 327: 5, 293: 5, 2187: 4, 2059: 4, 1691: 4, 1685: 4, 1568: 4, 1324: 4, 1295: 4, 1280: 4, 1231: 4, 1204: 4, 1151: 4, 1149: 4, 1124: 4, 1094: 4, 1080: 4, 1039: 4, 1022: 4, 986: 4, 980: 4, 974: 4, 964: 4, 954: 4, 946: 4, 939: 4, 937: 4, 931: 4, 888: 4, 881: 4, 855: 4, 837: 4, 832: 4, 828: 4, 818: 4, 812: 4, 803: 4, 795: 4, 790: 4, 788: 4, 782: 4, 774: 4, 771: 4, 767: 4, 764: 4, 762: 4, 761: 4, 759: 4, 758: 4, 757: 4, 754: 4, 742: 4, 729: 4, 723: 4, 719: 4, 718: 4, 709: 4, 706: 4, 697: 4, 694: 4, 693: 4, 682: 4, 679: 4, 676: 4, 667: 4, 663: 4, 650: 4, 649: 4, 648: 4, 635: 4, 629: 4, 628: 4, 626: 4, 621: 4, 618: 4, 614: 4, 609: 4, 602: 4, 595: 4, 587: 4, 583: 4, 581: 4, 572: 4, 562: 4, 558: 4, 556: 4, 554: 4, 553: 4, 552: 4, 548: 4, 545: 4, 523: 4, 521: 4, 510: 4, 507: 4, 503: 4, 501: 4, 497: 4, 479: 4, 468: 4, 458: 4, 450: 4, 449: 4, 444: 4, 435: 4, 427: 4, 426: 4, 419: 4, 413: 4, 410: 4, 388: 4, 383: 4, 349: 4, 320: 4, 4342: 3, 4097: 3, 3482: 3, 3409: 3, 2854: 3, 2815: 3, 2451: 3, 2355: 3, 2215: 3, 2127: 3, 1893: 3, 1892: 3, 1880: 3, 1877: 3, 1825: 3, 1742: 3, 1711: 3, 1704: 3, 1692: 3, 1669: 3, 1651: 3, 1635: 3, 1604: 3, 1602: 3, 1599: 3, 1587: 3, 1576: 3, 1572: 3, 1556: 3, 1519: 3, 1518: 3, 1501: 3, 1467: 3, 1460: 3, 1448: 3, 1437: 3, 1429: 3, 1421: 3, 1388: 3, 1382: 3, 1375: 3, 1374: 3, 1329: 3, 1318: 3, 1304: 3, 1301: 3, 1289: 3, 1288: 3, 1287: 3, 1284: 3, 1267: 3, 1260: 3, 1255: 3, 1221: 3, 1216: 3, 1214: 3, 1207: 3, 1206: 3, 1203: 3, 1196: 3, 1194: 3, 1191: 3, 1188: 3, 1187: 3, 1186: 3, 1154: 3, 1145: 3, 1144: 3, 1140: 3, 1127: 3, 1119: 3, 1117: 3, 1112: 3, 1110: 3, 1103: 3, 1091: 3, 1087: 3, 1086: 3, 1076: 3, 1073: 3, 1053: 3, 1052: 3, 1035: 3, 1034: 3, 1027: 3, 1004: 3, 996: 3, 991: 3, 987: 3, 981: 3, 979: 3, 966: 3, 957: 3, 955: 3, 952: 3, 948: 3, 940: 3, 938: 3, 933: 3, 930: 3, 923: 3, 919: 3, 908: 3, 903: 3, 894: 3, 892: 3, 890: 3, 884: 3, 867: 3, 859: 3, 853: 3, 847: 3, 839: 3, 826: 3, 825: 3, 821: 3, 819: 3, 814: 3, 800: 3, 786: 3, 785: 3, 781: 3, 778: 3, 755: 3, 752: 3, 751: 3, 750: 3, 747: 3, 733: 3, 730: 3, 720: 3, 711: 3, 703: 3, 700: 3, 698: 3, 677: 3, 675: 3, 673: 3, 669: 3, 664: 3, 662: 3, 661: 3, 658: 3, 655: 3, 654: 3, 651: 3, 647: 3, 641: 3, 640: 3, 639: 3, 627: 3, 623: 3, 622: 3, 616: 3, 611: 3, 600: 3, 597: 3, 592: 3, 589: 3, 584: 3, 582: 3, 576: 3, 570: 3, 569: 3, 563: 3, 547: 3, 543: 3, 527: 3, 522: 3, 516: 3, 515: 3, 505: 3, 500: 3, 492: 3, 490: 3, 489: 3, 482: 3, 476: 3, 475: 3, 472: 3, 445: 3, 442: 3, 440: 3, 430: 3, 418: 3, 372: 3, 10534: 2, 9792: 2, 9783: 2, 7828: 2, 5939: 2, 5699: 2, 5173: 2, 4966: 2, 4965: 2, 4848: 2, 4811: 2, 4808: 2, 4803: 2, 4676: 2, 4362: 2, 4317: 2, 4237: 2, 4233: 2, 4193: 2, 4008: 2, 3851: 2, 3848: 2, 3821: 2, 3815: 2, 3716: 2, 3622: 2, 3577: 2, 3525: 2, 3460: 2, 3449: 2, 3351: 2, 3304: 2, 3295: 2, 3262: 2, 3241: 2, 3194: 2, 3185: 2, 3123: 2, 3119: 2, 3115: 2, 3112: 2, 3089: 2, 3047: 2, 2958: 2, 2897: 2, 2862: 2, 2839: 2, 2793: 2, 2731: 2, 2725: 2, 2705: 2, 2701: 2, 2696: 2, 2660: 2, 2658: 2, 2614: 2, 2610: 2, 2599: 2, 2587: 2, 2575: 2, 2548: 2, 2500: 2, 2498: 2, 2473: 2, 2457: 2, 2443: 2, 2442: 2, 2415: 2, 2413: 2, 2399: 2, 2397: 2, 2393: 2, 2383: 2, 2372: 2, 2358: 2, 2349: 2, 2336: 2, 2313: 2, 2279: 2, 2278: 2, 2251: 2, 2241: 2, 2228: 2, 2166: 2, 2131: 2, 2104: 2, 2099: 2, 2096: 2, 2078: 2, 2075: 2, 2069: 2, 2067: 2, 2051: 2, 2047: 2, 2002: 2, 1986: 2, 1976: 2, 1972: 2, 1958: 2, 1957: 2, 1944: 2, 1925: 2, 1924: 2, 1900: 2, 1899: 2, 1897: 2, 1889: 2, 1874: 2, 1871: 2, 1844: 2, 1835: 2, 1834: 2, 1823: 2, 1816: 2, 1811: 2, 1804: 2, 1800: 2, 1793: 2, 1780: 2, 1762: 2, 1757: 2, 1755: 2, 1746: 2, 1736: 2, 1727: 2, 1724: 2, 1718: 2, 1717: 2, 1706: 2, 1703: 2, 1700: 2, 1688: 2, 1684: 2, 1682: 2, 1676: 2, 1673: 2, 1671: 2, 1655: 2, 1633: 2, 1631: 2, 1629: 2, 1628: 2, 1618: 2, 1610: 2, 1605: 2, 1601: 2, 1585: 2, 1558: 2, 1551: 2, 1550: 2, 1546: 2, 1532: 2, 1530: 2, 1516: 2, 1509: 2, 1493: 2, 1487: 2, 1485: 2, 1478: 2, 1461: 2, 1459: 2, 1456: 2, 1441: 2, 1439: 2, 1438: 2, 1434: 2, 1432: 2, 1424: 2, 1420: 2, 1418: 2, 1416: 2, 1410: 2, 1406: 2, 1404: 2, 1391: 2, 1390: 2, 1389: 2, 1373: 2, 1367: 2, 1366: 2, 1364: 2, 1361: 2, 1360: 2, 1350: 2, 1346: 2, 1344: 2, 1340: 2, 1337: 2, 1331: 2, 1323: 2, 1316: 2, 1309: 2, 1308: 2, 1300: 2, 1296: 2, 1291: 2, 1286: 2, 1283: 2, 1281: 2, 1279: 2, 1277: 2, 1274: 2, 1271: 2, 1269: 2, 1268: 2, 1258: 2, 1257: 2, 1254: 2, 1249: 2, 1245: 2, 1244: 2, 1242: 2, 1240: 2, 1238: 2, 1232: 2, 1227: 2, 1223: 2, 1220: 2, 1215: 2, 1213: 2, 1211: 2, 1210: 2, 1199: 2, 1195: 2, 1192: 2, 1181: 2, 1180: 2, 1178: 2, 1177: 2, 1173: 2, 1172: 2, 1171: 2, 1167: 2, 1166: 2, 1159: 2, 1155: 2, 1153: 2, 1147: 2, 1142: 2, 1137: 2, 1135: 2, 1134: 2, 1128: 2, 1123: 2, 1115: 2, 1107: 2, 1106: 2, 1098: 2, 1088: 2, 1083: 2, 1079: 2, 1071: 2, 1066: 2, 1061: 2, 1060: 2, 1059: 2, 1049: 2, 1037: 2, 1033: 2, 1032: 2, 1029: 2, 1017: 2, 1016: 2, 1012: 2, 1011: 2, 1005: 2, 1002: 2, 1001: 2, 1000: 2, 999: 2, 998: 2, 997: 2, 995: 2, 994: 2, 990: 2, 988: 2, 983: 2, 978: 2, 977: 2, 975: 2, 972: 2, 968: 2, 967: 2, 962: 2, 961: 2, 958: 2, 947: 2, 929: 2, 926: 2, 925: 2, 924: 2, 921: 2, 916: 2, 915: 2, 913: 2, 909: 2, 905: 2, 904: 2, 898: 2, 897: 2, 895: 2, 887: 2, 883: 2, 882: 2, 880: 2, 874: 2, 872: 2, 870: 2, 868: 2, 865: 2, 863: 2, 862: 2, 861: 2, 858: 2, 856: 2, 852: 2, 851: 2, 849: 2, 848: 2, 846: 2, 845: 2, 844: 2, 842: 2, 841: 2, 838: 2, 836: 2, 831: 2, 830: 2, 823: 2, 820: 2, 816: 2, 815: 2, 813: 2, 810: 2, 805: 2, 804: 2, 802: 2, 797: 2, 791: 2, 789: 2, 784: 2, 777: 2, 776: 2, 772: 2, 769: 2, 768: 2, 765: 2, 763: 2, 756: 2, 749: 2, 746: 2, 744: 2, 738: 2, 736: 2, 735: 2, 732: 2, 726: 2, 725: 2, 721: 2, 717: 2, 714: 2, 713: 2, 704: 2, 702: 2, 699: 2, 696: 2, 692: 2, 690: 2, 683: 2, 680: 2, 678: 2, 674: 2, 672: 2, 671: 2, 666: 2, 656: 2, 645: 2, 633: 2, 625: 2, 619: 2, 617: 2, 610: 2, 604: 2, 603: 2, 601: 2, 594: 2, 586: 2, 580: 2, 575: 2, 573: 2, 566: 2, 544: 2, 540: 2, 535: 2, 532: 2, 524: 2, 512: 2, 469: 2, 457: 2, 454: 2, 367: 2, 953589: 1, 781361: 1, 586190: 1, 574593: 1, 355374: 1, 243185: 1, 182074: 1, 173778: 1, 162608: 1, 149100: 1, 135103: 1, 133968: 1, 132227: 1, 122607: 1, 115837: 1, 104269: 1, 93433: 1, 87629: 1, 83525: 1, 81696: 1, 77108: 1, 74161: 1, 71804: 1, 71520: 1, 66196: 1, 65295: 1, 65257: 1, 64372: 1, 64277: 1, 62164: 1, 62093: 1, 60781: 1, 56626: 1, 53986: 1, 51899: 1, 51020: 1, 48927: 1, 48261: 1, 47460: 1, 46219: 1, 44205: 1, 43494: 1, 42135: 1, 41388: 1, 41147: 1, 40945: 1, 40556: 1, 39838: 1, 39460: 1, 39113: 1, 39056: 1, 38710: 1, 38191: 1, 36927: 1, 36001: 1, 34762: 1, 34194: 1, 32894: 1, 32879: 1, 32758: 1, 32609: 1, 32346: 1, 31673: 1, 31240: 1, 30899: 1, 30457: 1, 29299: 1, 29181: 1, 28864: 1, 28499: 1, 27896: 1, 27372: 1, 26647: 1, 26333: 1, 26177: 1, 25570: 1, 25495: 1, 25465: 1, 25464: 1, 25240: 1, 24976: 1, 24140: 1, 24108: 1, 23713: 1, 23655: 1, 23494: 1, 23409: 1, 23367: 1, 23330: 1, 22925: 1, 22615: 1, 22123: 1, 21964: 1, 21935: 1, 21553: 1, 21535: 1, 21376: 1, 21031: 1, 20857: 1, 20738: 1, 20632: 1, 20451: 1, 20392: 1, 20319: 1, 20086: 1, 19960: 1, 19778: 1, 19645: 1, 19421: 1, 19352: 1, 19198: 1, 19134: 1, 19122: 1, 18886: 1, 18693: 1, 18658: 1, 18638: 1, 18633: 1, 18390: 1, 18213: 1, 18116: 1, 18044: 1, 17839: 1, 17827: 1, 17753: 1, 17744: 1, 17699: 1, 17561: 1, 17319: 1, 17316: 1, 17288: 1, 17059: 1, 17048: 1, 17010: 1, 16926: 1, 16699: 1, 16694: 1, 16627: 1, 16591: 1, 16541: 1, 16522: 1, 16472: 1, 16253: 1, 16192: 1, 16087: 1, 15426: 1, 15299: 1, 15288: 1, 15283: 1, 15282: 1, 15193: 1, 15133: 1, 15082: 1, 14987: 1, 14905: 1, 14901: 1, 14758: 1, 14697: 1, 14415: 1, 14327: 1, 14322: 1, 14314: 1, 14225: 1, 13966: 1, 13741: 1, 13732: 1, 13656: 1, 13569: 1, 13525: 1, 13458: 1, 13288: 1, 13089: 1, 13080: 1, 13043: 1, 12958: 1, 12914: 1, 12895: 1, 12838: 1, 12793: 1, 12757: 1, 12699: 1, 12686: 1, 12646: 1, 12592: 1, 12525: 1, 12498: 1, 12479: 1, 12464: 1, 12431: 1, 12376: 1, 12301: 1, 12188: 1, 12183: 1, 12171: 1, 12135: 1, 12134: 1, 12129: 1, 12119: 1, 12083: 1, 12067: 1, 12014: 1, 11984: 1, 11983: 1, 11973: 1, 11964: 1, 11915: 1, 11903: 1, 11837: 1, 11830: 1, 11755: 1, 11702: 1, 11684: 1, 11679: 1, 11669: 1, 11628: 1, 11624: 1, 11608: 1, 11604: 1, 11584: 1, 11563: 1, 11534: 1, 11514: 1, 11511: 1, 11497: 1, 11496: 1, 11474: 1, 11376: 1, 11353: 1, 11310: 1, 11058: 1, 11047: 1, 11041: 1, 11016: 1, 11010: 1, 10815: 1, 10794: 1, 10697: 1, 10664: 1, 10599: 1, 10548: 1, 10509: 1, 10480: 1, 10399: 1, 10375: 1, 10328: 1, 10284: 1, 10188: 1, 10136: 1, 10122: 1, 10120: 1, 10083: 1, 10076: 1, 10071: 1, 9997: 1, 9987: 1, 9855: 1, 9812: 1, 9766: 1, 9761: 1, 9740: 1, 9699: 1, 9648: 1, 9567: 1, 9541: 1, 9529: 1, 9492: 1, 9413: 1, 9289: 1, 9286: 1, 9266: 1, 9220: 1, 9129: 1, 9115: 1, 9060: 1, 9030: 1, 9014: 1, 8996: 1, 8991: 1, 8987: 1, 8981: 1, 8977: 1, 8962: 1, 8951: 1, 8937: 1, 8936: 1, 8928: 1, 8914: 1, 8901: 1, 8868: 1, 8853: 1, 8801: 1, 8797: 1, 8734: 1, 8728: 1, 8726: 1, 8711: 1, 8681: 1, 8673: 1, 8662: 1, 8660: 1, 8637: 1, 8615: 1, 8590: 1, 8549: 1, 8497: 1, 8429: 1, 8349: 1, 8328: 1, 8300: 1, 8222: 1, 8202: 1, 8189: 1, 8186: 1, 8128: 1, 8119: 1, 8015: 1, 8013: 1, 7999: 1, 7985: 1, 7978: 1, 7959: 1, 7936: 1, 7935: 1, 7889: 1, 7885: 1, 7869: 1, 7863: 1, 7857: 1, 7849: 1, 7841: 1, 7821: 1, 7805: 1, 7707: 1, 7684: 1, 7651: 1, 7625: 1, 7613: 1, 7612: 1, 7579: 1, 7575: 1, 7550: 1, 7515: 1, 7514: 1, 7508: 1, 7498: 1, 7444: 1, 7409: 1, 7399: 1, 7386: 1, 7381: 1, 7378: 1, 7361: 1, 7348: 1, 7334: 1, 7293: 1, 7287: 1, 7213: 1, 7185: 1, 7156: 1, 7147: 1, 7112: 1, 7109: 1, 7102: 1, 7095: 1, 7092: 1, 7078: 1, 7069: 1, 7059: 1, 7037: 1, 7023: 1, 6981: 1, 6977: 1, 6976: 1, 6974: 1, 6947: 1, 6940: 1, 6933: 1, 6929: 1, 6924: 1, 6921: 1, 6897: 1, 6883: 1, 6864: 1, 6862: 1, 6859: 1, 6800: 1, 6796: 1, 6766: 1, 6756: 1, 6753: 1, 6740: 1, 6730: 1, 6724: 1, 6718: 1, 6716: 1, 6699: 1, 6698: 1, 6677: 1, 6676: 1, 6672: 1, 6671: 1, 6665: 1, 6664: 1, 6654: 1, 6649: 1, 6622: 1, 6611: 1, 6550: 1, 6544: 1, 6543: 1, 6535: 1, 6523: 1, 6521: 1, 6518: 1, 6475: 1, 6466: 1, 6434: 1, 6414: 1, 6397: 1, 6378: 1, 6377: 1, 6344: 1, 6339: 1, 6300: 1, 6292: 1, 6277: 1, 6269: 1, 6221: 1, 6212: 1, 6191: 1, 6187: 1, 6183: 1, 6178: 1, 6147: 1, 6136: 1, 6133: 1, 6119: 1, 6117: 1, 6113: 1, 6101: 1, 6094: 1, 6071: 1, 6062: 1, 6061: 1, 6060: 1, 6053: 1, 6038: 1, 6035: 1, 6004: 1, 5998: 1, 5969: 1, 5923: 1, 5856: 1, 5837: 1, 5829: 1, 5823: 1, 5806: 1, 5804: 1, 5802: 1, 5791: 1, 5789: 1, 5785: 1, 5774: 1, 5758: 1, 5751: 1, 5728: 1, 5727: 1, 5723: 1, 5715: 1, 5632: 1, 5625: 1, 5617: 1, 5608: 1, 5603: 1, 5597: 1, 5587: 1, 5586: 1, 5585: 1, 5581: 1, 5572: 1, 5558: 1, 5545: 1, 5534: 1, 5527: 1, 5521: 1, 5492: 1, 5489: 1, 5478: 1, 5469: 1, 5464: 1, 5434: 1, 5417: 1, 5416: 1, 5402: 1, 5381: 1, 5378: 1, 5347: 1, 5343: 1, 5341: 1, 5296: 1, 5286: 1, 5285: 1, 5266: 1, 5264: 1, 5260: 1, 5254: 1, 5249: 1, 5247: 1, 5238: 1, 5224: 1, 5216: 1, 5215: 1, 5209: 1, 5197: 1, 5187: 1, 5180: 1, 5156: 1, 5137: 1, 5120: 1, 5116: 1, 5113: 1, 5110: 1, 5086: 1, 5064: 1, 5058: 1, 5049: 1, 5041: 1, 5024: 1, 5018: 1, 5015: 1, 5004: 1, 4994: 1, 4986: 1, 4971: 1, 4963: 1, 4955: 1, 4938: 1, 4924: 1, 4922: 1, 4858: 1, 4838: 1, 4837: 1, 4834: 1, 4827: 1, 4816: 1, 4813: 1, 4806: 1, 4791: 1, 4789: 1, 4788: 1, 4776: 1, 4773: 1, 4756: 1, 4755: 1, 4748: 1, 4734: 1, 4726: 1, 4723: 1, 4719: 1, 4713: 1, 4705: 1, 4698: 1, 4694: 1, 4682: 1, 4673: 1, 4672: 1, 4668: 1, 4666: 1, 4641: 1, 4629: 1, 4623: 1, 4609: 1, 4602: 1, 4597: 1, 4586: 1, 4579: 1, 4565: 1, 4558: 1, 4537: 1, 4535: 1, 4526: 1, 4523: 1, 4505: 1, 4495: 1, 4477: 1, 4467: 1, 4451: 1, 4443: 1, 4423: 1, 4419: 1, 4403: 1, 4399: 1, 4391: 1, 4386: 1, 4376: 1, 4374: 1, 4354: 1, 4352: 1, 4332: 1, 4329: 1, 4327: 1, 4308: 1, 4303: 1, 4299: 1, 4278: 1, 4276: 1, 4275: 1, 4271: 1, 4263: 1, 4250: 1, 4247: 1, 4244: 1, 4242: 1, 4232: 1, 4211: 1, 4210: 1, 4206: 1, 4201: 1, 4190: 1, 4189: 1, 4188: 1, 4187: 1, 4182: 1, 4180: 1, 4172: 1, 4146: 1, 4142: 1, 4140: 1, 4136: 1, 4135: 1, 4132: 1, 4120: 1, 4119: 1, 4105: 1, 4095: 1, 4094: 1, 4088: 1, 4083: 1, 4070: 1, 4068: 1, 4066: 1, 4059: 1, 4053: 1, 4052: 1, 4033: 1, 4015: 1, 4003: 1, 4002: 1, 3992: 1, 3984: 1, 3982: 1, 3958: 1, 3947: 1, 3938: 1, 3924: 1, 3916: 1, 3914: 1, 3897: 1, 3894: 1, 3893: 1, 3891: 1, 3881: 1, 3874: 1, 3869: 1, 3861: 1, 3855: 1, 3854: 1, 3853: 1, 3842: 1, 3841: 1, 3830: 1, 3806: 1, 3803: 1, 3798: 1, 3797: 1, 3796: 1, 3779: 1, 3777: 1, 3774: 1, 3772: 1, 3770: 1, 3767: 1, 3763: 1, 3756: 1, 3750: 1, 3734: 1, 3731: 1, 3727: 1, 3724: 1, 3707: 1, 3691: 1, 3689: 1, 3686: 1, 3673: 1, 3667: 1, 3664: 1, 3660: 1, 3656: 1, 3652: 1, 3648: 1, 3646: 1, 3644: 1, 3641: 1, 3635: 1, 3634: 1, 3633: 1, 3632: 1, 3621: 1, 3617: 1, 3613: 1, 3608: 1, 3607: 1, 3606: 1, 3594: 1, 3591: 1, 3580: 1, 3578: 1, 3576: 1, 3574: 1, 3571: 1, 3569: 1, 3567: 1, 3562: 1, 3561: 1, 3559: 1, 3558: 1, 3556: 1, 3555: 1, 3541: 1, 3538: 1, 3529: 1, 3528: 1, 3519: 1, 3518: 1, 3505: 1, 3503: 1, 3502: 1, 3501: 1, 3500: 1, 3486: 1, 3483: 1, 3481: 1, 3477: 1, 3476: 1, 3475: 1, 3474: 1, 3472: 1, 3469: 1, 3466: 1, 3446: 1, 3434: 1, 3431: 1, 3424: 1, 3422: 1, 3412: 1, 3407: 1, 3406: 1, 3401: 1, 3394: 1, 3392: 1, 3389: 1, 3385: 1, 3379: 1, 3374: 1, 3370: 1, 3367: 1, 3365: 1, 3358: 1, 3354: 1, 3352: 1, 3346: 1, 3345: 1, 3340: 1, 3339: 1, 3336: 1, 3331: 1, 3326: 1, 3317: 1, 3314: 1, 3311: 1, 3310: 1, 3307: 1, 3293: 1, 3290: 1, 3288: 1, 3284: 1, 3283: 1, 3267: 1, 3264: 1, 3261: 1, 3260: 1, 3256: 1, 3251: 1, 3246: 1, 3245: 1, 3244: 1, 3243: 1, 3240: 1, 3235: 1, 3231: 1, 3230: 1, 3221: 1, 3206: 1, 3201: 1, 3199: 1, 3189: 1, 3182: 1, 3175: 1, 3173: 1, 3171: 1, 3168: 1, 3165: 1, 3163: 1, 3155: 1, 3141: 1, 3140: 1, 3135: 1, 3127: 1, 3117: 1, 3116: 1, 3113: 1, 3109: 1, 3088: 1, 3085: 1, 3081: 1, 3072: 1, 3067: 1, 3064: 1, 3062: 1, 3060: 1, 3058: 1, 3055: 1, 3054: 1, 3048: 1, 3040: 1, 3038: 1, 3033: 1, 3031: 1, 3029: 1, 3028: 1, 3022: 1, 3017: 1, 3012: 1, 3011: 1, 2998: 1, 2991: 1, 2985: 1, 2980: 1, 2976: 1, 2974: 1, 2973: 1, 2969: 1, 2961: 1, 2952: 1, 2950: 1, 2949: 1, 2948: 1, 2945: 1, 2938: 1, 2931: 1, 2930: 1, 2922: 1, 2919: 1, 2915: 1, 2910: 1, 2901: 1, 2895: 1, 2892: 1, 2890: 1, 2886: 1, 2882: 1, 2879: 1, 2861: 1, 2859: 1, 2846: 1, 2845: 1, 2830: 1, 2824: 1, 2819: 1, 2816: 1, 2812: 1, 2811: 1, 2806: 1, 2805: 1, 2801: 1, 2791: 1, 2789: 1, 2788: 1, 2783: 1, 2781: 1, 2776: 1, 2775: 1, 2774: 1, 2768: 1, 2764: 1, 2760: 1, 2751: 1, 2733: 1, 2720: 1, 2716: 1, 2712: 1, 2707: 1, 2706: 1, 2703: 1, 2698: 1, 2687: 1, 2685: 1, 2673: 1, 2672: 1, 2671: 1, 2662: 1, 2659: 1, 2651: 1, 2640: 1, 2633: 1, 2631: 1, 2628: 1, 2624: 1, 2620: 1, 2611: 1, 2608: 1, 2607: 1, 2604: 1, 2603: 1, 2600: 1, 2597: 1, 2596: 1, 2592: 1, 2591: 1, 2572: 1, 2570: 1, 2564: 1, 2558: 1, 2554: 1, 2551: 1, 2544: 1, 2543: 1, 2542: 1, 2540: 1, 2538: 1, 2537: 1, 2535: 1, 2534: 1, 2527: 1, 2519: 1, 2517: 1, 2515: 1, 2511: 1, 2510: 1, 2508: 1, 2506: 1, 2503: 1, 2501: 1, 2495: 1, 2490: 1, 2489: 1, 2481: 1, 2479: 1, 2475: 1, 2474: 1, 2466: 1, 2456: 1, 2455: 1, 2453: 1, 2449: 1, 2448: 1, 2441: 1, 2437: 1, 2436: 1, 2433: 1, 2430: 1, 2425: 1, 2423: 1, 2419: 1, 2416: 1, 2414: 1, 2412: 1, 2409: 1, 2407: 1, 2398: 1, 2395: 1, 2394: 1, 2392: 1, 2389: 1, 2385: 1, 2382: 1, 2381: 1, 2378: 1, 2376: 1, 2370: 1, 2369: 1, 2364: 1, 2363: 1, 2362: 1, 2357: 1, 2356: 1, 2354: 1, 2351: 1, 2350: 1, 2348: 1, 2347: 1, 2344: 1, 2342: 1, 2341: 1, 2340: 1, 2338: 1, 2332: 1, 2325: 1, 2324: 1, 2320: 1, 2311: 1, 2308: 1, 2306: 1, 2304: 1, 2303: 1, 2300: 1, 2295: 1, 2291: 1, 2288: 1, 2287: 1, 2285: 1, 2281: 1, 2276: 1, 2270: 1, 2262: 1, 2259: 1, 2256: 1, 2252: 1, 2247: 1, 2239: 1, 2237: 1, 2226: 1, 2225: 1, 2220: 1, 2217: 1, 2216: 1, 2214: 1, 2212: 1, 2211: 1, 2209: 1, 2205: 1, 2202: 1, 2201: 1, 2200: 1, 2199: 1, 2198: 1, 2197: 1, 2196: 1, 2192: 1, 2184: 1, 2178: 1, 2176: 1, 2175: 1, 2169: 1, 2165: 1, 2161: 1, 2154: 1, 2151: 1, 2150: 1, 2149: 1, 2146: 1, 2144: 1, 2141: 1, 2138: 1, 2134: 1, 2128: 1, 2126: 1, 2125: 1, 2123: 1, 2122: 1, 2120: 1, 2118: 1, 2111: 1, 2110: 1, 2107: 1, 2102: 1, 2100: 1, 2092: 1, 2091: 1, 2090: 1, 2081: 1, 2079: 1, 2070: 1, 2065: 1, 2064: 1, 2060: 1, 2053: 1, 2052: 1, 2048: 1, 2046: 1, 2045: 1, 2042: 1, 2037: 1, 2036: 1, 2034: 1, 2033: 1, 2031: 1, 2030: 1, 2028: 1, 2026: 1, 2025: 1, 2020: 1, 2018: 1, 2016: 1, 2011: 1, 2010: 1, 2005: 1, 2003: 1, 2001: 1, 2000: 1, 1997: 1, 1996: 1, 1995: 1, 1994: 1, 1993: 1, 1991: 1, 1989: 1, 1988: 1, 1984: 1, 1982: 1, 1979: 1, 1975: 1, 1969: 1, 1965: 1, 1964: 1, 1961: 1, 1960: 1, 1959: 1, 1956: 1, 1955: 1, 1953: 1, 1952: 1, 1949: 1, 1946: 1, 1945: 1, 1940: 1, 1935: 1, 1931: 1, 1930: 1, 1929: 1, 1926: 1, 1923: 1, 1920: 1, 1917: 1, 1915: 1, 1912: 1, 1908: 1, 1907: 1, 1906: 1, 1896: 1, 1886: 1, 1885: 1, 1884: 1, 1883: 1, 1881: 1, 1879: 1, 1878: 1, 1872: 1, 1869: 1, 1862: 1, 1860: 1, 1857: 1, 1856: 1, 1855: 1, 1852: 1, 1851: 1, 1849: 1, 1848: 1, 1846: 1, 1845: 1, 1843: 1, 1838: 1, 1837: 1, 1836: 1, 1832: 1, 1829: 1, 1828: 1, 1826: 1, 1824: 1, 1820: 1, 1819: 1, 1814: 1, 1813: 1, 1812: 1, 1808: 1, 1807: 1, 1795: 1, 1789: 1, 1788: 1, 1786: 1, 1785: 1, 1784: 1, 1782: 1, 1781: 1, 1778: 1, 1777: 1, 1776: 1, 1773: 1, 1772: 1, 1770: 1, 1769: 1, 1768: 1, 1763: 1, 1759: 1, 1756: 1, 1753: 1, 1749: 1, 1748: 1, 1745: 1, 1737: 1, 1734: 1, 1733: 1, 1723: 1, 1722: 1, 1716: 1, 1715: 1, 1714: 1, 1713: 1, 1710: 1, 1708: 1, 1697: 1, 1696: 1, 1695: 1, 1693: 1, 1689: 1, 1686: 1, 1681: 1, 1680: 1, 1679: 1, 1678: 1, 1677: 1, 1668: 1, 1664: 1, 1662: 1, 1661: 1, 1660: 1, 1657: 1, 1656: 1, 1652: 1, 1649: 1, 1644: 1, 1641: 1, 1640: 1, 1636: 1, 1632: 1, 1630: 1, 1627: 1, 1623: 1, 1620: 1, 1617: 1, 1615: 1, 1614: 1, 1612: 1, 1611: 1, 1606: 1, 1598: 1, 1596: 1, 1594: 1, 1590: 1, 1589: 1, 1588: 1, 1583: 1, 1582: 1, 1578: 1, 1574: 1, 1570: 1, 1565: 1, 1562: 1, 1561: 1, 1560: 1, 1559: 1, 1554: 1, 1547: 1, 1544: 1, 1543: 1, 1541: 1, 1540: 1, 1538: 1, 1536: 1, 1535: 1, 1533: 1, 1524: 1, 1520: 1, 1514: 1, 1511: 1, 1510: 1, 1508: 1, 1507: 1, 1506: 1, 1505: 1, 1504: 1, 1503: 1, 1496: 1, 1492: 1, 1490: 1, 1481: 1, 1480: 1, 1477: 1, 1475: 1, 1472: 1, 1471: 1, 1470: 1, 1469: 1, 1468: 1, 1465: 1, 1464: 1, 1463: 1, 1457: 1, 1455: 1, 1452: 1, 1449: 1, 1446: 1, 1445: 1, 1440: 1, 1436: 1, 1425: 1, 1423: 1, 1417: 1, 1414: 1, 1412: 1, 1409: 1, 1408: 1, 1405: 1, 1403: 1, 1400: 1, 1398: 1, 1393: 1, 1392: 1, 1387: 1, 1386: 1, 1385: 1, 1383: 1, 1381: 1, 1380: 1, 1377: 1, 1370: 1, 1369: 1, 1368: 1, 1365: 1, 1363: 1, 1362: 1, 1359: 1, 1357: 1, 1355: 1, 1353: 1, 1345: 1, 1342: 1, 1341: 1, 1334: 1, 1333: 1, 1332: 1, 1328: 1, 1326: 1, 1325: 1, 1320: 1, 1319: 1, 1317: 1, 1314: 1, 1313: 1, 1312: 1, 1311: 1, 1307: 1, 1305: 1, 1299: 1, 1293: 1, 1292: 1, 1290: 1, 1276: 1, 1273: 1, 1266: 1, 1265: 1, 1262: 1, 1261: 1, 1252: 1, 1251: 1, 1248: 1, 1247: 1, 1243: 1, 1239: 1, 1233: 1, 1229: 1, 1226: 1, 1225: 1, 1219: 1, 1217: 1, 1212: 1, 1208: 1, 1205: 1, 1202: 1, 1201: 1, 1200: 1, 1184: 1, 1183: 1, 1182: 1, 1176: 1, 1174: 1, 1169: 1, 1162: 1, 1160: 1, 1158: 1, 1157: 1, 1156: 1, 1152: 1, 1148: 1, 1141: 1, 1139: 1, 1136: 1, 1133: 1, 1132: 1, 1126: 1, 1122: 1, 1121: 1, 1120: 1, 1118: 1, 1116: 1, 1114: 1, 1109: 1, 1105: 1, 1092: 1, 1090: 1, 1089: 1, 1085: 1, 1082: 1, 1081: 1, 1078: 1, 1074: 1, 1067: 1, 1064: 1, 1063: 1, 1062: 1, 1058: 1, 1057: 1, 1056: 1, 1055: 1, 1051: 1, 1048: 1, 1047: 1, 1046: 1, 1045: 1, 1044: 1, 1041: 1, 1040: 1, 1038: 1, 1036: 1, 1030: 1, 1026: 1, 1025: 1, 1020: 1, 1018: 1, 1015: 1, 1014: 1, 1013: 1, 1010: 1, 1007: 1, 1003: 1, 992: 1, 989: 1, 985: 1, 984: 1, 982: 1, 973: 1, 965: 1, 960: 1, 959: 1, 956: 1, 951: 1, 949: 1, 945: 1, 941: 1, 936: 1, 928: 1, 922: 1, 918: 1, 917: 1, 914: 1, 910: 1, 902: 1, 891: 1, 885: 1, 878: 1, 876: 1, 875: 1, 869: 1, 864: 1, 860: 1, 857: 1, 854: 1, 850: 1, 843: 1, 834: 1, 829: 1, 822: 1, 817: 1, 809: 1, 807: 1, 806: 1, 801: 1, 799: 1, 796: 1, 794: 1, 793: 1, 792: 1, 780: 1, 779: 1, 775: 1, 773: 1, 770: 1, 766: 1, 753: 1, 748: 1, 743: 1, 728: 1, 727: 1, 724: 1, 716: 1, 707: 1, 701: 1, 695: 1, 689: 1, 660: 1, 653: 1, 652: 1, 620: 1, 607: 1, 590: 1, 588: 1, 578: 1, 567: 1, 559: 1, 557: 1, 555: 1, 546: 1, 539: 1, 506: 1, 487: 1, 417: 1})\n"
     ]
    }
   ],
   "source": [
    "# Number of words for a given frequency.\n",
    "print(Counter(sorted_text_occur))"
   ]
  },
  {
   "cell_type": "code",
   "execution_count": 55,
   "metadata": {},
   "outputs": [
    {
     "name": "stdout",
     "output_type": "stream",
     "text": [
      "For values of alpha =  1e-05 The log loss is: 1.409032667418594\n",
      "For values of alpha =  0.0001 The log loss is: 1.373092662164093\n",
      "For values of alpha =  0.001 The log loss is: 1.212596575674792\n",
      "For values of alpha =  0.01 The log loss is: 1.2665052982158738\n",
      "For values of alpha =  0.1 The log loss is: 1.4314377504358973\n",
      "For values of alpha =  1 The log loss is: 1.6211856455279456\n"
     ]
    },
    {
     "data": {
      "image/png": "[encoded data removed]",
      "text/plain": [
       "<Figure size 432x288 with 1 Axes>"
      ]
     },
     "metadata": {},
     "output_type": "display_data"
    },
    {
     "name": "stdout",
     "output_type": "stream",
     "text": [
      "For values of best alpha =  0.001 The train log loss is: 0.7909988562287417\n",
      "For values of best alpha =  0.001 The cross validation log loss is: 1.212596575674792\n",
      "For values of best alpha =  0.001 The test log loss is: 1.226921695988835\n"
     ]
    }
   ],
   "source": [
    "# Train a Logistic regression+Calibration model using text features whicha re on-hot encoded\n",
    "alpha = [10 ** x for x in range(-5, 1)]\n",
    "\n",
    "# read more about SGDClassifier() at http://scikit-learn.org/stable/modules/generated/sklearn.linear_model.SGDClassifier.html\n",
    "# ------------------------------\n",
    "# default parameters\n",
    "# SGDClassifier(loss=’hinge’, penalty=’l2’, alpha=0.0001, l1_ratio=0.15, fit_intercept=True, max_iter=None, tol=None, \n",
    "# shuffle=True, verbose=0, epsilon=0.1, n_jobs=1, random_state=None, learning_rate=’optimal’, eta0=0.0, power_t=0.5, \n",
    "# class_weight=None, warm_start=False, average=False, n_iter=None)\n",
    "\n",
    "# some of methods\n",
    "# fit(X, y[, coef_init, intercept_init, …])\tFit linear model with Stochastic Gradient Descent.\n",
    "# predict(X)\tPredict class labels for samples in X.\n",
    "\n",
    "#-------------------------------\n",
    "# video link: \n",
    "#------------------------------\n",
    "\n",
    "\n",
    "cv_log_error_array=[]\n",
    "for i in alpha:\n",
    "    clf = SGDClassifier(alpha=i, penalty='l2', loss='log', random_state=42)\n",
    "    clf.fit(train_text_feature_onehotCoding, y_train)\n",
    "    \n",
    "    sig_clf = CalibratedClassifierCV(clf, method=\"sigmoid\")\n",
    "    sig_clf.fit(train_text_feature_onehotCoding, y_train)\n",
    "    predict_y = sig_clf.predict_proba(cv_text_feature_onehotCoding)\n",
    "    cv_log_error_array.append(log_loss(y_cv, predict_y, labels=clf.classes_, eps=1e-15))\n",
    "    print('For values of alpha = ', i, \"The log loss is:\",log_loss(y_cv, predict_y, labels=clf.classes_, eps=1e-15))\n",
    "\n",
    "fig, ax = plt.subplots()\n",
    "ax.plot(alpha, cv_log_error_array,c='g')\n",
    "for i, txt in enumerate(np.round(cv_log_error_array,3)):\n",
    "    ax.annotate((alpha[i],np.round(txt,3)), (alpha[i],cv_log_error_array[i]))\n",
    "plt.grid()\n",
    "plt.title(\"Cross Validation Error for each alpha\")\n",
    "plt.xlabel(\"Alpha i's\")\n",
    "plt.ylabel(\"Error measure\")\n",
    "plt.show()\n",
    "\n",
    "\n",
    "best_alpha = np.argmin(cv_log_error_array)\n",
    "clf = SGDClassifier(alpha=alpha[best_alpha], penalty='l2', loss='log', random_state=42)\n",
    "clf.fit(train_text_feature_onehotCoding, y_train)\n",
    "sig_clf = CalibratedClassifierCV(clf, method=\"sigmoid\")\n",
    "sig_clf.fit(train_text_feature_onehotCoding, y_train)\n",
    "\n",
    "predict_y = sig_clf.predict_proba(train_text_feature_onehotCoding)\n",
    "print('For values of best alpha = ', alpha[best_alpha], \"The train log loss is:\",log_loss(y_train, predict_y, labels=clf.classes_, eps=1e-15))\n",
    "predict_y = sig_clf.predict_proba(cv_text_feature_onehotCoding)\n",
    "print('For values of best alpha = ', alpha[best_alpha], \"The cross validation log loss is:\",log_loss(y_cv, predict_y, labels=clf.classes_, eps=1e-15))\n",
    "predict_y = sig_clf.predict_proba(test_text_feature_onehotCoding)\n",
    "print('For values of best alpha = ', alpha[best_alpha], \"The test log loss is:\",log_loss(y_test, predict_y, labels=clf.classes_, eps=1e-15))\n"
   ]
  },
  {
   "cell_type": "markdown",
   "metadata": {},
   "source": [
    "<p style=\"font-size:18px;\"> <b>Q.</b> Is the Text feature stable across all the data sets (Test, Train, Cross validation)?</p>\n",
    "<p style=\"font-size:16px;\"> <b>Ans.</b> Yes, it seems like! </p>"
   ]
  },
  {
   "cell_type": "code",
   "execution_count": 56,
   "metadata": {},
   "outputs": [],
   "source": [
    "def get_intersec_text(df):\n",
    "    df_text_vec = CountVectorizer()\n",
    "    df_text_fea = df_text_vec.fit_transform(df['TEXT'])\n",
    "    df_text_features = df_text_vec.get_feature_names()\n",
    "\n",
    "    df_text_fea_counts = df_text_fea.sum(axis=0).A1\n",
    "    df_text_fea_dict = dict(zip(list(df_text_features),df_text_fea_counts))\n",
    "    len1 = len(set(df_text_features))\n",
    "    len2 = len(set(train_text_features) & set(df_text_features))\n",
    "    return len1,len2"
   ]
  },
  {
   "cell_type": "code",
   "execution_count": 57,
   "metadata": {},
   "outputs": [
    {
     "name": "stdout",
     "output_type": "stream",
     "text": [
      "79.069 % of word of test data appeared in train data\n",
      "79.153 % of word of Cross Validation appeared in train data\n"
     ]
    }
   ],
   "source": [
    "len1,len2 = get_intersec_text(test_df)\n",
    "print(np.round((len2/len1)*100, 3), \"% of word of test data appeared in train data\")\n",
    "len1,len2 = get_intersec_text(cv_df)\n",
    "print(np.round((len2/len1)*100, 3), \"% of word of Cross Validation appeared in train data\")"
   ]
  },
  {
   "cell_type": "markdown",
   "metadata": {},
   "source": [
    "<h1>4. Machine Learning Models</h1>"
   ]
  },
  {
   "cell_type": "code",
   "execution_count": 58,
   "metadata": {},
   "outputs": [],
   "source": [
    "#Data preparation for ML models.\n",
    "\n",
    "#Misc. functionns for ML models\n",
    "\n",
    "\n",
    "def predict_and_plot_confusion_matrix(train_x, train_y,test_x, test_y, clf):\n",
    "    clf.fit(train_x, train_y)\n",
    "    sig_clf = CalibratedClassifierCV(clf, method=\"sigmoid\")\n",
    "    sig_clf.fit(train_x, train_y)\n",
    "    pred_y = sig_clf.predict(test_x)\n",
    "\n",
    "    # for calculating log_loss we willl provide the array of probabilities belongs to each class\n",
    "    print(\"Log loss :\",log_loss(test_y, sig_clf.predict_proba(test_x)))\n",
    "    # calculating the number of data points that are misclassified\n",
    "    print(\"Number of mis-classified points :\", np.count_nonzero((pred_y- test_y))/test_y.shape[0])\n",
    "    plot_confusion_matrix(test_y, pred_y)"
   ]
  },
  {
   "cell_type": "code",
   "execution_count": 59,
   "metadata": {},
   "outputs": [],
   "source": [
    "def report_log_loss(train_x, train_y, test_x, test_y,  clf):\n",
    "    clf.fit(train_x, train_y)\n",
    "    sig_clf = CalibratedClassifierCV(clf, method=\"sigmoid\")\n",
    "    sig_clf.fit(train_x, train_y)\n",
    "    sig_clf_probs = sig_clf.predict_proba(test_x)\n",
    "    return log_loss(test_y, sig_clf_probs, eps=1e-15)"
   ]
  },
  {
   "cell_type": "code",
   "execution_count": 60,
   "metadata": {},
   "outputs": [],
   "source": [
    "# this function will be used just for naive bayes\n",
    "# for the given indices, we will print the name of the features\n",
    "# and we will check whether the feature present in the test point text or not\n",
    "def get_impfeature_names(indices, text, gene, var, no_features):\n",
    "    gene_count_vec = CountVectorizer()\n",
    "    var_count_vec = CountVectorizer()\n",
    "    text_count_vec = CountVectorizer()\n",
    "    \n",
    "    gene_vec = gene_count_vec.fit(train_df['Gene'])\n",
    "    var_vec  = var_count_vec.fit(train_df['Variation'])\n",
    "    text_vec = text_count_vec.fit(train_df['TEXT'])\n",
    "    \n",
    "    fea1_len = len(gene_vec.get_feature_names())\n",
    "    fea2_len = len(var_count_vec.get_feature_names())\n",
    "    \n",
    "    word_present = 0\n",
    "    for i,v in enumerate(indices):\n",
    "        if (v < fea1_len):\n",
    "            word = gene_vec.get_feature_names()[v]\n",
    "            yes_no = True if word == gene else False\n",
    "            if yes_no:\n",
    "                word_present += 1\n",
    "                print(i, \"Gene feature [{}] present in test data point [{}]\".format(word,yes_no))\n",
    "        elif (v < fea1_len+fea2_len):\n",
    "            word = var_vec.get_feature_names()[v-(fea1_len)]\n",
    "            yes_no = True if word == var else False\n",
    "            if yes_no:\n",
    "                word_present += 1\n",
    "                print(i, \"variation feature [{}] present in test data point [{}]\".format(word,yes_no))\n",
    "        else:\n",
    "            word = text_vec.get_feature_names()[v-(fea1_len+fea2_len)]\n",
    "            yes_no = True if word in text.split() else False\n",
    "            if yes_no:\n",
    "                word_present += 1\n",
    "                print(i, \"Text feature [{}] present in test data point [{}]\".format(word,yes_no))\n",
    "\n",
    "    print(\"Out of the top \",no_features,\" features \", word_present, \"are present in query point\")"
   ]
  },
  {
   "cell_type": "markdown",
   "metadata": {},
   "source": [
    "Keeping top 15 created variables based on feature importance of Random Forest"
   ]
  },
  {
   "cell_type": "code",
   "execution_count": 61,
   "metadata": {},
   "outputs": [],
   "source": [
    "#Keeping separate dataset for newly created feaures \n",
    "train_df_other_feat=train_df[[\"stopwordst\",\t\"numerics\",\t\"Text_Word_Count\",\t\"Text_Avg_length\",\t\"upper\",\t\"Text_Character_Count\",\t\"var_Avg_length\",\t\"Variation_Character_Count\",\t\"Gene_Character_Count\",\t\"Variation_Share\",\t\"Gene_lbl_enc_31\",\t\"hastags\",\t\"Gene_lbl_enc_252\",\t\"Gene_lbl_enc_196\",\t\"Variation_lbl_enc_2629\"]]\n",
    "test_df_other_feat=test_df[[\"stopwordst\",\t\"numerics\",\t\"Text_Word_Count\",\t\"Text_Avg_length\",\t\"upper\",\t\"Text_Character_Count\",\t\"var_Avg_length\",\t\"Variation_Character_Count\",\t\"Gene_Character_Count\",\t\"Variation_Share\",\t\"Gene_lbl_enc_31\",\t\"hastags\",\t\"Gene_lbl_enc_252\",\t\"Gene_lbl_enc_196\",\t\"Variation_lbl_enc_2629\"]]\n",
    "cv_df_other_feat=cv_df[[\"stopwordst\",\t\"numerics\",\t\"Text_Word_Count\",\t\"Text_Avg_length\",\t\"upper\",\t\"Text_Character_Count\",\t\"var_Avg_length\",\t\"Variation_Character_Count\",\t\"Gene_Character_Count\",\t\"Variation_Share\",\t\"Gene_lbl_enc_31\",\t\"hastags\",\t\"Gene_lbl_enc_252\",\t\"Gene_lbl_enc_196\",\t\"Variation_lbl_enc_2629\"]]"
   ]
  },
  {
   "cell_type": "code",
   "execution_count": 62,
   "metadata": {},
   "outputs": [
    {
     "data": {
      "text/html": [
       "<div>\n",
       "<style scoped>\n",
       "    .dataframe tbody tr th:only-of-type {\n",
       "        vertical-align: middle;\n",
       "    }\n",
       "\n",
       "    .dataframe tbody tr th {\n",
       "        vertical-align: top;\n",
       "    }\n",
       "\n",
       "    .dataframe thead th {\n",
       "        text-align: right;\n",
       "    }\n",
       "</style>\n",
       "<table border=\"1\" class=\"dataframe\">\n",
       "  <thead>\n",
       "    <tr style=\"text-align: right;\">\n",
       "      <th></th>\n",
       "      <th>stopwordst</th>\n",
       "      <th>numerics</th>\n",
       "      <th>Text_Word_Count</th>\n",
       "      <th>Text_Avg_length</th>\n",
       "      <th>upper</th>\n",
       "      <th>Text_Character_Count</th>\n",
       "      <th>var_Avg_length</th>\n",
       "      <th>Variation_Character_Count</th>\n",
       "      <th>Gene_Character_Count</th>\n",
       "      <th>Variation_Share</th>\n",
       "      <th>Gene_lbl_enc_31</th>\n",
       "      <th>hastags</th>\n",
       "      <th>Gene_lbl_enc_252</th>\n",
       "      <th>Gene_lbl_enc_196</th>\n",
       "      <th>Variation_lbl_enc_2629</th>\n",
       "    </tr>\n",
       "  </thead>\n",
       "  <tbody>\n",
       "    <tr>\n",
       "      <th>2065</th>\n",
       "      <td>2609</td>\n",
       "      <td>84</td>\n",
       "      <td>7461</td>\n",
       "      <td>6.129875</td>\n",
       "      <td>812</td>\n",
       "      <td>45735</td>\n",
       "      <td>4.0</td>\n",
       "      <td>4</td>\n",
       "      <td>4</td>\n",
       "      <td>1</td>\n",
       "      <td>0</td>\n",
       "      <td>0</td>\n",
       "      <td>0</td>\n",
       "      <td>0</td>\n",
       "      <td>0</td>\n",
       "    </tr>\n",
       "    <tr>\n",
       "      <th>2327</th>\n",
       "      <td>6524</td>\n",
       "      <td>383</td>\n",
       "      <td>22515</td>\n",
       "      <td>6.917877</td>\n",
       "      <td>1968</td>\n",
       "      <td>155756</td>\n",
       "      <td>7.5</td>\n",
       "      <td>15</td>\n",
       "      <td>4</td>\n",
       "      <td>2</td>\n",
       "      <td>0</td>\n",
       "      <td>1</td>\n",
       "      <td>0</td>\n",
       "      <td>0</td>\n",
       "      <td>0</td>\n",
       "    </tr>\n",
       "    <tr>\n",
       "      <th>953</th>\n",
       "      <td>1468</td>\n",
       "      <td>73</td>\n",
       "      <td>4217</td>\n",
       "      <td>6.782073</td>\n",
       "      <td>191</td>\n",
       "      <td>28600</td>\n",
       "      <td>5.0</td>\n",
       "      <td>5</td>\n",
       "      <td>6</td>\n",
       "      <td>0</td>\n",
       "      <td>0</td>\n",
       "      <td>0</td>\n",
       "      <td>0</td>\n",
       "      <td>0</td>\n",
       "      <td>0</td>\n",
       "    </tr>\n",
       "    <tr>\n",
       "      <th>1028</th>\n",
       "      <td>1612</td>\n",
       "      <td>79</td>\n",
       "      <td>5158</td>\n",
       "      <td>6.701047</td>\n",
       "      <td>577</td>\n",
       "      <td>34564</td>\n",
       "      <td>6.0</td>\n",
       "      <td>6</td>\n",
       "      <td>4</td>\n",
       "      <td>0</td>\n",
       "      <td>0</td>\n",
       "      <td>0</td>\n",
       "      <td>0</td>\n",
       "      <td>0</td>\n",
       "      <td>0</td>\n",
       "    </tr>\n",
       "    <tr>\n",
       "      <th>1794</th>\n",
       "      <td>7504</td>\n",
       "      <td>510</td>\n",
       "      <td>25294</td>\n",
       "      <td>6.767573</td>\n",
       "      <td>1711</td>\n",
       "      <td>171179</td>\n",
       "      <td>13.0</td>\n",
       "      <td>13</td>\n",
       "      <td>2</td>\n",
       "      <td>1</td>\n",
       "      <td>0</td>\n",
       "      <td>0</td>\n",
       "      <td>0</td>\n",
       "      <td>0</td>\n",
       "      <td>0</td>\n",
       "    </tr>\n",
       "  </tbody>\n",
       "</table>\n",
       "</div>"
      ],
      "text/plain": [
       "      stopwordst  numerics  Text_Word_Count  Text_Avg_length  upper  \\\n",
       "2065        2609        84             7461         6.129875    812   \n",
       "2327        6524       383            22515         6.917877   1968   \n",
       "953         1468        73             4217         6.782073    191   \n",
       "1028        1612        79             5158         6.701047    577   \n",
       "1794        7504       510            25294         6.767573   1711   \n",
       "\n",
       "      Text_Character_Count  var_Avg_length  Variation_Character_Count  \\\n",
       "2065                 45735             4.0                          4   \n",
       "2327                155756             7.5                         15   \n",
       "953                  28600             5.0                          5   \n",
       "1028                 34564             6.0                          6   \n",
       "1794                171179            13.0                         13   \n",
       "\n",
       "      Gene_Character_Count  Variation_Share  Gene_lbl_enc_31  hastags  \\\n",
       "2065                     4                1                0        0   \n",
       "2327                     4                2                0        1   \n",
       "953                      6                0                0        0   \n",
       "1028                     4                0                0        0   \n",
       "1794                     2                1                0        0   \n",
       "\n",
       "      Gene_lbl_enc_252  Gene_lbl_enc_196  Variation_lbl_enc_2629  \n",
       "2065                 0                 0                       0  \n",
       "2327                 0                 0                       0  \n",
       "953                  0                 0                       0  \n",
       "1028                 0                 0                       0  \n",
       "1794                 0                 0                       0  "
      ]
     },
     "execution_count": 62,
     "metadata": {},
     "output_type": "execute_result"
    }
   ],
   "source": [
    "train_df_other_feat.head(5)"
   ]
  },
  {
   "cell_type": "code",
   "execution_count": 63,
   "metadata": {},
   "outputs": [],
   "source": [
    "from sklearn.preprocessing import MinMaxScaler\n",
    "sc=MinMaxScaler()\n",
    "\n",
    "train_df_other_feat=sc.fit_transform(train_df_other_feat)\n",
    "test_df_other_feat=sc.transform(test_df_other_feat)\n",
    "cv_df_other_feat=sc.transform(cv_df_other_feat)"
   ]
  },
  {
   "cell_type": "markdown",
   "metadata": {},
   "source": [
    "<p style=\"font-size:24px;text-align:Center\"> <b>Stacking the three types of features </b><p>"
   ]
  },
  {
   "cell_type": "code",
   "execution_count": 64,
   "metadata": {},
   "outputs": [],
   "source": [
    "# merging gene, variance and text features\n",
    "\n",
    "# building train, test and cross validation data sets\n",
    "# a = [[1, 2], \n",
    "#      [3, 4]]\n",
    "# b = [[4, 5], \n",
    "#      [6, 7]]\n",
    "# hstack(a, b) = [[1, 2, 4, 5],\n",
    "#                [ 3, 4, 6, 7]]\n",
    "\n",
    "train_gene_var_onehotCoding = hstack((train_gene_feature_onehotCoding,train_variation_feature_onehotCoding))\n",
    "test_gene_var_onehotCoding = hstack((test_gene_feature_onehotCoding,test_variation_feature_onehotCoding))\n",
    "cv_gene_var_onehotCoding = hstack((cv_gene_feature_onehotCoding,cv_variation_feature_onehotCoding))\n",
    "\n",
    "train_x_onehotCoding = hstack((train_gene_var_onehotCoding, train_text_feature_onehotCoding)).tocsr()\n",
    "train_y = np.array(list(train_df['Class']))\n",
    "\n",
    "test_x_onehotCoding = hstack((test_gene_var_onehotCoding, test_text_feature_onehotCoding)).tocsr()\n",
    "test_y = np.array(list(test_df['Class']))\n",
    "\n",
    "cv_x_onehotCoding = hstack((cv_gene_var_onehotCoding, cv_text_feature_onehotCoding)).tocsr()\n",
    "cv_y = np.array(list(cv_df['Class']))"
   ]
  },
  {
   "cell_type": "code",
   "execution_count": 65,
   "metadata": {},
   "outputs": [],
   "source": [
    "train_x_onehotCoding=hstack((train_x_onehotCoding,train_df_other_feat)).tocsr()\n",
    "test_x_onehotCoding = hstack((test_x_onehotCoding, test_df_other_feat)).tocsr()\n",
    "cv_x_onehotCoding = hstack((cv_x_onehotCoding, cv_df_other_feat)).tocsr()"
   ]
  },
  {
   "cell_type": "code",
   "execution_count": 66,
   "metadata": {},
   "outputs": [
    {
     "name": "stdout",
     "output_type": "stream",
     "text": [
      "One hot encoding features :\n",
      "(number of data points * number of features) in train data =  (2124, 136712)\n",
      "(number of data points * number of features) in test data =  (665, 136712)\n",
      "(number of data points * number of features) in cross validation data = (532, 136712)\n"
     ]
    }
   ],
   "source": [
    "print(\"One hot encoding features :\")\n",
    "print(\"(number of data points * number of features) in train data = \", train_x_onehotCoding.shape)\n",
    "print(\"(number of data points * number of features) in test data = \", test_x_onehotCoding.shape)\n",
    "print(\"(number of data points * number of features) in cross validation data =\", cv_x_onehotCoding.shape)"
   ]
  },
  {
   "cell_type": "markdown",
   "metadata": {},
   "source": [
    "<h2>4.3. Logistic Regression</h2>"
   ]
  },
  {
   "cell_type": "markdown",
   "metadata": {},
   "source": [
    "<h3>4.3.1. With Class balancing</h3>"
   ]
  },
  {
   "cell_type": "markdown",
   "metadata": {},
   "source": [
    "<h4>4.3.1.1. Hyper paramter tuning</h4>"
   ]
  },
  {
   "cell_type": "code",
   "execution_count": 69,
   "metadata": {},
   "outputs": [
    {
     "name": "stdout",
     "output_type": "stream",
     "text": [
      "for alpha = 1e-08\n",
      "Log Loss : 1.3508842922170041\n",
      "for alpha = 1e-07\n",
      "Log Loss : 1.35447047561646\n",
      "for alpha = 1e-06\n",
      "Log Loss : 1.3790610180468985\n",
      "for alpha = 1e-05\n",
      "Log Loss : 1.3565433625500933\n",
      "for alpha = 0.0001\n",
      "Log Loss : 1.3281267828415615\n",
      "for alpha = 0.001\n",
      "Log Loss : 1.0897809375901875\n",
      "for alpha = 0.01\n",
      "Log Loss : 1.090672560148139\n",
      "for alpha = 0.1\n",
      "Log Loss : 1.309603200733344\n",
      "for alpha = 1\n",
      "Log Loss : 1.6446133724366971\n",
      "for alpha = 10\n",
      "Log Loss : 1.6947507654550469\n",
      "for alpha = 100\n",
      "Log Loss : 1.7004145691906267\n"
     ]
    },
    {
     "data": {
      "image/png": "[encoded data removed]",
      "text/plain": [
       "<Figure size 432x288 with 1 Axes>"
      ]
     },
     "metadata": {},
     "output_type": "display_data"
    },
    {
     "name": "stdout",
     "output_type": "stream",
     "text": [
      "For values of best alpha =  0.001 The train log loss is: 0.6604857780958183\n",
      "For values of best alpha =  0.001 The cross validation log loss is: 1.0897809375901875\n",
      "For values of best alpha =  0.001 The test log loss is: 1.1094426053084374\n"
     ]
    }
   ],
   "source": [
    "\n",
    "# read more about SGDClassifier() at http://scikit-learn.org/stable/modules/generated/sklearn.linear_model.SGDClassifier.html\n",
    "# ------------------------------\n",
    "# default parameters\n",
    "# SGDClassifier(loss=’hinge’, penalty=’l2’, alpha=0.0001, l1_ratio=0.15, fit_intercept=True, max_iter=None, tol=None, \n",
    "# shuffle=True, verbose=0, epsilon=0.1, n_jobs=1, random_state=None, learning_rate=’optimal’, eta0=0.0, power_t=0.5, \n",
    "# class_weight=None, warm_start=False, average=False, n_iter=None)\n",
    "\n",
    "# some of methods\n",
    "# fit(X, y[, coef_init, intercept_init, …])\tFit linear model with Stochastic Gradient Descent.\n",
    "# predict(X)\tPredict class labels for samples in X.\n",
    "\n",
    "#-------------------------------\n",
    "# video link: https://www.appliedaicourse.com/course/applied-ai-course-online/lessons/geometric-intuition-1/\n",
    "#------------------------------\n",
    "\n",
    "\n",
    "# find more about CalibratedClassifierCV here at http://scikit-learn.org/stable/modules/generated/sklearn.calibration.CalibratedClassifierCV.html\n",
    "# ----------------------------\n",
    "# default paramters\n",
    "# sklearn.calibration.CalibratedClassifierCV(base_estimator=None, method=’sigmoid’, cv=3)\n",
    "#\n",
    "# some of the methods of CalibratedClassifierCV()\n",
    "# fit(X, y[, sample_weight])\tFit the calibrated model\n",
    "# get_params([deep])\tGet parameters for this estimator.\n",
    "# predict(X)\tPredict the target of new samples.\n",
    "# predict_proba(X)\tPosterior probabilities of classification\n",
    "#-------------------------------------\n",
    "# video link:\n",
    "#-------------------------------------\n",
    "\n",
    "alpha = [10 ** x for x in range(-8, 3)]\n",
    "cv_log_error_array = []\n",
    "for i in alpha:\n",
    "    print(\"for alpha =\", i)\n",
    "    clf = SGDClassifier(class_weight='balanced', alpha=i, penalty='l2', loss='log', random_state=42)\n",
    "    clf.fit(train_x_onehotCoding, train_y)\n",
    "    sig_clf = CalibratedClassifierCV(clf, method=\"sigmoid\")\n",
    "    sig_clf.fit(train_x_onehotCoding, train_y)\n",
    "    sig_clf_probs = sig_clf.predict_proba(cv_x_onehotCoding)\n",
    "    cv_log_error_array.append(log_loss(cv_y, sig_clf_probs, labels=clf.classes_, eps=1e-15))\n",
    "    # to avoid rounding error while multiplying probabilites we use log-probability estimates\n",
    "    print(\"Log Loss :\",log_loss(cv_y, sig_clf_probs)) \n",
    "\n",
    "fig, ax = plt.subplots()\n",
    "ax.plot(alpha, cv_log_error_array,c='g')\n",
    "for i, txt in enumerate(np.round(cv_log_error_array,3)):\n",
    "    ax.annotate((alpha[i],str(txt)), (alpha[i],cv_log_error_array[i]))\n",
    "plt.grid()\n",
    "plt.title(\"Cross Validation Error for each alpha\")\n",
    "plt.xlabel(\"Alpha i's\")\n",
    "plt.ylabel(\"Error measure\")\n",
    "plt.show()\n",
    "\n",
    "\n",
    "best_alpha = np.argmin(cv_log_error_array)\n",
    "clf = SGDClassifier(class_weight='balanced', alpha=alpha[best_alpha], penalty='l2', loss='log', random_state=42)\n",
    "clf.fit(train_x_onehotCoding, train_y)\n",
    "sig_clf = CalibratedClassifierCV(clf, method=\"sigmoid\")\n",
    "sig_clf.fit(train_x_onehotCoding, train_y)\n",
    "\n",
    "predict_y = sig_clf.predict_proba(train_x_onehotCoding)\n",
    "print('For values of best alpha = ', alpha[best_alpha], \"The train log loss is:\",log_loss(y_train, predict_y, labels=clf.classes_, eps=1e-15))\n",
    "predict_y = sig_clf.predict_proba(cv_x_onehotCoding)\n",
    "print('For values of best alpha = ', alpha[best_alpha], \"The cross validation log loss is:\",log_loss(y_cv, predict_y, labels=clf.classes_, eps=1e-15))\n",
    "predict_y = sig_clf.predict_proba(test_x_onehotCoding)\n",
    "print('For values of best alpha = ', alpha[best_alpha], \"The test log loss is:\",log_loss(y_test, predict_y, labels=clf.classes_, eps=1e-15))"
   ]
  },
  {
   "cell_type": "markdown",
   "metadata": {},
   "source": [
    "<h4>4.3.1.2. Testing the model with best hyper paramters</h4>"
   ]
  },
  {
   "cell_type": "code",
   "execution_count": 70,
   "metadata": {
    "scrolled": false
   },
   "outputs": [
    {
     "name": "stdout",
     "output_type": "stream",
     "text": [
      "Log loss : 1.0897809375901875\n",
      "Number of mis-classified points : 0.37030075187969924\n",
      "-------------------- Confusion matrix --------------------\n"
     ]
    },
    {
     "data": {
      "image/png": "[encoded data removed]",
      "text/plain": [
       "<Figure size 1440x504 with 2 Axes>"
      ]
     },
     "metadata": {},
     "output_type": "display_data"
    },
    {
     "name": "stdout",
     "output_type": "stream",
     "text": [
      "-------------------- Precision matrix (Columm Sum=1) --------------------\n"
     ]
    },
    {
     "data": {
      "image/png": "[encoded data removed]",
      "text/plain": [
       "<Figure size 1440x504 with 2 Axes>"
      ]
     },
     "metadata": {},
     "output_type": "display_data"
    },
    {
     "name": "stdout",
     "output_type": "stream",
     "text": [
      "-------------------- Recall matrix (Row sum=1) --------------------\n"
     ]
    },
    {
     "data": {
      "image/png": "[encoded data removed]",
      "text/plain": [
       "<Figure size 1440x504 with 2 Axes>"
      ]
     },
     "metadata": {},
     "output_type": "display_data"
    }
   ],
   "source": [
    "# read more about SGDClassifier() at http://scikit-learn.org/stable/modules/generated/sklearn.linear_model.SGDClassifier.html\n",
    "# ------------------------------\n",
    "# default parameters\n",
    "# SGDClassifier(loss=’hinge’, penalty=’l2’, alpha=0.0001, l1_ratio=0.15, fit_intercept=True, max_iter=None, tol=None, \n",
    "# shuffle=True, verbose=0, epsilon=0.1, n_jobs=1, random_state=None, learning_rate=’optimal’, eta0=0.0, power_t=0.5, \n",
    "# class_weight=None, warm_start=False, average=False, n_iter=None)\n",
    "\n",
    "# some of methods\n",
    "# fit(X, y[, coef_init, intercept_init, …])\tFit linear model with Stochastic Gradient Descent.\n",
    "# predict(X)\tPredict class labels for samples in X.\n",
    "\n",
    "#-------------------------------\n",
    "# video link: https://www.appliedaicourse.com/course/applied-ai-course-online/lessons/geometric-intuition-1/\n",
    "#------------------------------\n",
    "clf = SGDClassifier(class_weight='balanced', alpha=alpha[best_alpha], penalty='l2', loss='log', random_state=42)\n",
    "predict_and_plot_confusion_matrix(train_x_onehotCoding, train_y, cv_x_onehotCoding, cv_y, clf)"
   ]
  },
  {
   "cell_type": "markdown",
   "metadata": {},
   "source": [
    "<h4>4.3.1.3. Feature Importance</h4>"
   ]
  },
  {
   "cell_type": "code",
   "execution_count": 96,
   "metadata": {},
   "outputs": [],
   "source": [
    "def get_imp_feature_names(text, indices, removed_ind = []):\n",
    "    word_present = 0\n",
    "    tabulte_list = []\n",
    "    incresingorder_ind = 0\n",
    "    for i in indices:\n",
    "        if i < train_gene_feature_onehotCoding.shape[1]:\n",
    "            tabulte_list.append([incresingorder_ind, \"Gene\", \"Yes\"])\n",
    "        elif i< 18:\n",
    "            tabulte_list.append([incresingorder_ind,\"Variation\", \"Yes\"])\n",
    "        if ((i > 17) & (i not in removed_ind)) :\n",
    "            word = train_text_features[i]\n",
    "            yes_no = True if word in text.split() else False\n",
    "            if yes_no:\n",
    "                word_present += 1\n",
    "            tabulte_list.append([incresingorder_ind,train_text_features[i], yes_no])\n",
    "        incresingorder_ind += 1\n",
    "    print(word_present, \"most importent features are present in our query point\")\n",
    "    print(\"-\"*50)\n",
    "    print(\"The features that are most importent of the \",predicted_cls[0],\" class:\")\n",
    "    print (tabulate(tabulte_list, headers=[\"Index\",'Feature name', 'Present or Not']))"
   ]
  },
  {
   "cell_type": "markdown",
   "metadata": {},
   "source": [
    "<h5>4.3.1.3.1. Correctly Classified point</h5>"
   ]
  },
  {
   "cell_type": "code",
   "execution_count": 79,
   "metadata": {
    "scrolled": false
   },
   "outputs": [
    {
     "name": "stdout",
     "output_type": "stream",
     "text": [
      "Predicted Class : 7\n",
      "Predicted Class Probabilities: [[0.0045 0.1905 0.0012 0.0012 0.0047 0.0014 0.7872 0.0076 0.0017]]\n",
      "Actual Class : 7\n",
      "--------------------------------------------------\n",
      "23 Text feature [constitutively] present in test data point [True]\n",
      "39 Text feature [flt1] present in test data point [True]\n",
      "79 Text feature [oncogene] present in test data point [True]\n",
      "80 Text feature [oncogenes] present in test data point [True]\n",
      "84 Text feature [cysteine] present in test data point [True]\n",
      "89 Text feature [inhibited] present in test data point [True]\n",
      "137 Text feature [technology] present in test data point [True]\n",
      "160 Text feature [dramatic] present in test data point [True]\n",
      "162 Text feature [gaiix] present in test data point [True]\n",
      "166 Text feature [ligand] present in test data point [True]\n",
      "177 Text feature [downstream] present in test data point [True]\n",
      "181 Text feature [concentrations] present in test data point [True]\n",
      "182 Text feature [thyroid] present in test data point [True]\n",
      "187 Text feature [expressing] present in test data point [True]\n",
      "217 Text feature [activating] present in test data point [True]\n",
      "241 Text feature [cdnas] present in test data point [True]\n",
      "250 Text feature [manageable] present in test data point [True]\n",
      "265 Text feature [axilla] present in test data point [True]\n",
      "302 Text feature [inhibitor] present in test data point [True]\n",
      "311 Text feature [cot] present in test data point [True]\n",
      "313 Text feature [viability] present in test data point [True]\n",
      "334 Text feature [activation] present in test data point [True]\n",
      "352 Text feature [forced] present in test data point [True]\n",
      "368 Text feature [subcutaneous] present in test data point [True]\n",
      "371 Text feature [melanocyte] present in test data point [True]\n",
      "376 Text feature [erk1] present in test data point [True]\n",
      "388 Text feature [hours] present in test data point [True]\n",
      "446 Text feature [procure] present in test data point [True]\n",
      "448 Text feature [doses] present in test data point [True]\n",
      "480 Text feature [mapk] present in test data point [True]\n",
      "Out of the top  500  features  30 are present in query point\n"
     ]
    }
   ],
   "source": [
    "# from tabulate import tabulate\n",
    "clf = SGDClassifier(class_weight='balanced', alpha=alpha[best_alpha], penalty='l2', loss='log', random_state=42)\n",
    "clf.fit(train_x_onehotCoding,train_y)\n",
    "test_point_index = 1\n",
    "no_feature = 500\n",
    "predicted_cls = sig_clf.predict(test_x_onehotCoding[test_point_index])\n",
    "print(\"Predicted Class :\", predicted_cls[0])\n",
    "print(\"Predicted Class Probabilities:\", np.round(sig_clf.predict_proba(test_x_onehotCoding[test_point_index]),4))\n",
    "print(\"Actual Class :\", test_y[test_point_index])\n",
    "indices = np.argsort(-clf.coef_)[predicted_cls-1][:,:no_feature]\n",
    "print(\"-\"*50)\n",
    "get_impfeature_names(indices[0], test_df['TEXT'].iloc[test_point_index],test_df['Gene'].iloc[test_point_index],test_df['Variation'].iloc[test_point_index], no_feature)"
   ]
  },
  {
   "cell_type": "markdown",
   "metadata": {},
   "source": [
    "<h5>4.3.1.3.2. Incorrectly Classified point</h5>"
   ]
  },
  {
   "cell_type": "code",
   "execution_count": 80,
   "metadata": {},
   "outputs": [
    {
     "name": "stdout",
     "output_type": "stream",
     "text": [
      "Predicted Class : 7\n",
      "Predicted Class Probabilities: [[0.0482 0.2032 0.0108 0.0446 0.071  0.0164 0.5932 0.0078 0.0046]]\n",
      "Actual Class : 7\n",
      "--------------------------------------------------\n",
      "23 Text feature [constitutively] present in test data point [True]\n",
      "29 Text feature [constitutive] present in test data point [True]\n",
      "47 Text feature [activated] present in test data point [True]\n",
      "79 Text feature [oncogene] present in test data point [True]\n",
      "89 Text feature [inhibited] present in test data point [True]\n",
      "93 Text feature [transforming] present in test data point [True]\n",
      "108 Text feature [transform] present in test data point [True]\n",
      "148 Text feature [receptors] present in test data point [True]\n",
      "177 Text feature [downstream] present in test data point [True]\n",
      "210 Text feature [isozyme] present in test data point [True]\n",
      "217 Text feature [activating] present in test data point [True]\n",
      "232 Text feature [exchange] present in test data point [True]\n",
      "326 Text feature [murine] present in test data point [True]\n",
      "333 Text feature [agar] present in test data point [True]\n",
      "334 Text feature [activation] present in test data point [True]\n",
      "Out of the top  500  features  15 are present in query point\n"
     ]
    }
   ],
   "source": [
    "test_point_index = 100\n",
    "no_feature = 500\n",
    "predicted_cls = sig_clf.predict(test_x_onehotCoding[test_point_index])\n",
    "print(\"Predicted Class :\", predicted_cls[0])\n",
    "print(\"Predicted Class Probabilities:\", np.round(sig_clf.predict_proba(test_x_onehotCoding[test_point_index]),4))\n",
    "print(\"Actual Class :\", test_y[test_point_index])\n",
    "indices = np.argsort(-clf.coef_)[predicted_cls-1][:,:no_feature]\n",
    "print(\"-\"*50)\n",
    "get_impfeature_names(indices[0], test_df['TEXT'].iloc[test_point_index],test_df['Gene'].iloc[test_point_index],test_df['Variation'].iloc[test_point_index], no_feature)"
   ]
  },
  {
   "cell_type": "markdown",
   "metadata": {},
   "source": [
    "<h3>4.3.2. Without Class balancing</h3>"
   ]
  },
  {
   "cell_type": "markdown",
   "metadata": {},
   "source": [
    "<h4>4.3.2.1. Hyper paramter tuning</h4>"
   ]
  },
  {
   "cell_type": "code",
   "execution_count": 71,
   "metadata": {},
   "outputs": [
    {
     "name": "stdout",
     "output_type": "stream",
     "text": [
      "for alpha = 1e-08\n",
      "Log Loss : 1.301898440354458\n",
      "for alpha = 1e-07\n",
      "Log Loss : 1.3171176156919957\n",
      "for alpha = 1e-06\n",
      "Log Loss : 1.3074648254683952\n",
      "for alpha = 1e-05\n",
      "Log Loss : 1.2778335725673895\n",
      "for alpha = 0.0001\n",
      "Log Loss : 1.2718700994639265\n",
      "for alpha = 0.001\n",
      "Log Loss : 1.1014973044058862\n",
      "for alpha = 0.01\n",
      "Log Loss : 1.1110127984170965\n",
      "for alpha = 0.1\n",
      "Log Loss : 1.2501172885189447\n",
      "for alpha = 1\n",
      "Log Loss : 1.5380488780721915\n",
      "for alpha = 10\n",
      "Log Loss : 1.6162602554168248\n",
      "for alpha = 100\n",
      "Log Loss : 1.6245371194726435\n"
     ]
    },
    {
     "data": {
      "image/png": "[encoded data removed]",
      "text/plain": [
       "<Figure size 432x288 with 1 Axes>"
      ]
     },
     "metadata": {},
     "output_type": "display_data"
    },
    {
     "name": "stdout",
     "output_type": "stream",
     "text": [
      "For values of best alpha =  0.001 The train log loss is: 0.648003444102412\n",
      "For values of best alpha =  0.001 The cross validation log loss is: 1.1014973044058862\n",
      "For values of best alpha =  0.001 The test log loss is: 1.1079192403984552\n"
     ]
    }
   ],
   "source": [
    "# read more about SGDClassifier() at http://scikit-learn.org/stable/modules/generated/sklearn.linear_model.SGDClassifier.html\n",
    "# ------------------------------\n",
    "# default parameters\n",
    "# SGDClassifier(loss=’hinge’, penalty=’l2’, alpha=0.0001, l1_ratio=0.15, fit_intercept=True, max_iter=None, tol=None, \n",
    "# shuffle=True, verbose=0, epsilon=0.1, n_jobs=1, random_state=None, learning_rate=’optimal’, eta0=0.0, power_t=0.5, \n",
    "# class_weight=None, warm_start=False, average=False, n_iter=None)\n",
    "\n",
    "# some of methods\n",
    "# fit(X, y[, coef_init, intercept_init, …])\tFit linear model with Stochastic Gradient Descent.\n",
    "# predict(X)\tPredict class labels for samples in X.\n",
    "\n",
    "#-------------------------------\n",
    "# video link: https://www.appliedaicourse.com/course/applied-ai-course-online/lessons/geometric-intuition-1/\n",
    "#------------------------------\n",
    "\n",
    "\n",
    "\n",
    "# find more about CalibratedClassifierCV here at http://scikit-learn.org/stable/modules/generated/sklearn.calibration.CalibratedClassifierCV.html\n",
    "# ----------------------------\n",
    "# default paramters\n",
    "# sklearn.calibration.CalibratedClassifierCV(base_estimator=None, method=’sigmoid’, cv=3)\n",
    "#\n",
    "# some of the methods of CalibratedClassifierCV()\n",
    "# fit(X, y[, sample_weight])\tFit the calibrated model\n",
    "# get_params([deep])\tGet parameters for this estimator.\n",
    "# predict(X)\tPredict the target of new samples.\n",
    "# predict_proba(X)\tPosterior probabilities of classification\n",
    "#-------------------------------------\n",
    "# video link:\n",
    "#-------------------------------------\n",
    "\n",
    "alpha = [10 ** x for x in range(-8, 3)]\n",
    "cv_log_error_array = []\n",
    "for i in alpha:\n",
    "    print(\"for alpha =\", i)\n",
    "    clf = SGDClassifier(alpha=i, penalty='l2', loss='log', random_state=42)\n",
    "    clf.fit(train_x_onehotCoding, train_y)\n",
    "    sig_clf = CalibratedClassifierCV(clf, method=\"sigmoid\")\n",
    "    sig_clf.fit(train_x_onehotCoding, train_y)\n",
    "    sig_clf_probs = sig_clf.predict_proba(cv_x_onehotCoding)\n",
    "    cv_log_error_array.append(log_loss(cv_y, sig_clf_probs, labels=clf.classes_, eps=1e-15))\n",
    "    print(\"Log Loss :\",log_loss(cv_y, sig_clf_probs)) \n",
    "\n",
    "fig, ax = plt.subplots()\n",
    "ax.plot(alpha, cv_log_error_array,c='g')\n",
    "for i, txt in enumerate(np.round(cv_log_error_array,3)):\n",
    "    ax.annotate((alpha[i],str(txt)), (alpha[i],cv_log_error_array[i]))\n",
    "plt.grid()\n",
    "plt.title(\"Cross Validation Error for each alpha\")\n",
    "plt.xlabel(\"Alpha i's\")\n",
    "plt.ylabel(\"Error measure\")\n",
    "plt.show()\n",
    "\n",
    "\n",
    "best_alpha = np.argmin(cv_log_error_array)\n",
    "clf = SGDClassifier(alpha=alpha[best_alpha], penalty='l2', loss='log', random_state=42)\n",
    "clf.fit(train_x_onehotCoding, train_y)\n",
    "sig_clf = CalibratedClassifierCV(clf, method=\"sigmoid\")\n",
    "sig_clf.fit(train_x_onehotCoding, train_y)\n",
    "\n",
    "predict_y = sig_clf.predict_proba(train_x_onehotCoding)\n",
    "print('For values of best alpha = ', alpha[best_alpha], \"The train log loss is:\",log_loss(y_train, predict_y, labels=clf.classes_, eps=1e-15))\n",
    "predict_y = sig_clf.predict_proba(cv_x_onehotCoding)\n",
    "print('For values of best alpha = ', alpha[best_alpha], \"The cross validation log loss is:\",log_loss(y_cv, predict_y, labels=clf.classes_, eps=1e-15))\n",
    "predict_y = sig_clf.predict_proba(test_x_onehotCoding)\n",
    "print('For values of best alpha = ', alpha[best_alpha], \"The test log loss is:\",log_loss(y_test, predict_y, labels=clf.classes_, eps=1e-15))"
   ]
  },
  {
   "cell_type": "markdown",
   "metadata": {},
   "source": [
    "<h4>4.3.2.2. Testing model with best hyper parameters</h4>"
   ]
  },
  {
   "cell_type": "code",
   "execution_count": 72,
   "metadata": {},
   "outputs": [
    {
     "name": "stdout",
     "output_type": "stream",
     "text": [
      "Log loss : 1.1014973044058862\n",
      "Number of mis-classified points : 0.3609022556390977\n",
      "-------------------- Confusion matrix --------------------\n"
     ]
    },
    {
     "data": {
      "image/png": "[encoded data removed]",
      "text/plain": [
       "<Figure size 1440x504 with 2 Axes>"
      ]
     },
     "metadata": {},
     "output_type": "display_data"
    },
    {
     "name": "stdout",
     "output_type": "stream",
     "text": [
      "-------------------- Precision matrix (Columm Sum=1) --------------------\n"
     ]
    },
    {
     "data": {
      "image/png": "[encoded data removed]",
      "text/plain": [
       "<Figure size 1440x504 with 2 Axes>"
      ]
     },
     "metadata": {},
     "output_type": "display_data"
    },
    {
     "name": "stdout",
     "output_type": "stream",
     "text": [
      "-------------------- Recall matrix (Row sum=1) --------------------\n"
     ]
    },
    {
     "data": {
      "image/png": "[encoded data removed]",
      "text/plain": [
       "<Figure size 1440x504 with 2 Axes>"
      ]
     },
     "metadata": {},
     "output_type": "display_data"
    }
   ],
   "source": [
    "# read more about SGDClassifier() at http://scikit-learn.org/stable/modules/generated/sklearn.linear_model.SGDClassifier.html\n",
    "# ------------------------------\n",
    "# default parameters\n",
    "# SGDClassifier(loss=’hinge’, penalty=’l2’, alpha=0.0001, l1_ratio=0.15, fit_intercept=True, max_iter=None, tol=None, \n",
    "# shuffle=True, verbose=0, epsilon=0.1, n_jobs=1, random_state=None, learning_rate=’optimal’, eta0=0.0, power_t=0.5, \n",
    "# class_weight=None, warm_start=False, average=False, n_iter=None)\n",
    "\n",
    "# some of methods\n",
    "# fit(X, y[, coef_init, intercept_init, …])\tFit linear model with Stochastic Gradient Descent.\n",
    "# predict(X)\tPredict class labels for samples in X.\n",
    "\n",
    "#-------------------------------\n",
    "# video link: \n",
    "#------------------------------\n",
    "\n",
    "clf = SGDClassifier(alpha=alpha[best_alpha], penalty='l2', loss='log', random_state=42)\n",
    "predict_and_plot_confusion_matrix(train_x_onehotCoding, train_y, cv_x_onehotCoding, cv_y, clf)"
   ]
  },
  {
   "cell_type": "markdown",
   "metadata": {},
   "source": [
    "<h4>4.3.2.3. Feature Importance, Correctly Classified point</h4>"
   ]
  },
  {
   "cell_type": "code",
   "execution_count": 83,
   "metadata": {
    "scrolled": false
   },
   "outputs": [
    {
     "name": "stdout",
     "output_type": "stream",
     "text": [
      "Predicted Class : 7\n",
      "Predicted Class Probabilities: [[5.100e-03 1.255e-01 2.000e-04 1.300e-03 2.300e-03 1.400e-03 8.556e-01\n",
      "  8.500e-03 1.000e-04]]\n",
      "Actual Class : 7\n",
      "--------------------------------------------------\n",
      "60 Text feature [constitutively] present in test data point [True]\n",
      "107 Text feature [flt1] present in test data point [True]\n",
      "124 Text feature [cysteine] present in test data point [True]\n",
      "157 Text feature [oncogenes] present in test data point [True]\n",
      "158 Text feature [inhibited] present in test data point [True]\n",
      "195 Text feature [activating] present in test data point [True]\n",
      "200 Text feature [ligand] present in test data point [True]\n",
      "203 Text feature [oncogene] present in test data point [True]\n",
      "204 Text feature [technology] present in test data point [True]\n",
      "257 Text feature [gaiix] present in test data point [True]\n",
      "260 Text feature [concentrations] present in test data point [True]\n",
      "265 Text feature [downstream] present in test data point [True]\n",
      "314 Text feature [hki] present in test data point [True]\n",
      "316 Text feature [dramatic] present in test data point [True]\n",
      "323 Text feature [expressing] present in test data point [True]\n",
      "371 Text feature [cdnas] present in test data point [True]\n",
      "380 Text feature [viability] present in test data point [True]\n",
      "412 Text feature [thyroid] present in test data point [True]\n",
      "459 Text feature [activation] present in test data point [True]\n",
      "461 Text feature [manageable] present in test data point [True]\n",
      "462 Text feature [ser473] present in test data point [True]\n",
      "468 Text feature [axilla] present in test data point [True]\n",
      "495 Text feature [extracellular] present in test data point [True]\n",
      "Out of the top  500  features  23 are present in query point\n"
     ]
    }
   ],
   "source": [
    "clf = SGDClassifier(alpha=alpha[best_alpha], penalty='l2', loss='log', random_state=42)\n",
    "clf.fit(train_x_onehotCoding,train_y)\n",
    "test_point_index = 1\n",
    "no_feature = 500\n",
    "predicted_cls = sig_clf.predict(test_x_onehotCoding[test_point_index])\n",
    "print(\"Predicted Class :\", predicted_cls[0])\n",
    "print(\"Predicted Class Probabilities:\", np.round(sig_clf.predict_proba(test_x_onehotCoding[test_point_index]),4))\n",
    "print(\"Actual Class :\", test_y[test_point_index])\n",
    "indices = np.argsort(-clf.coef_)[predicted_cls-1][:,:no_feature]\n",
    "print(\"-\"*50)\n",
    "get_impfeature_names(indices[0], test_df['TEXT'].iloc[test_point_index],test_df['Gene'].iloc[test_point_index],test_df['Variation'].iloc[test_point_index], no_feature)"
   ]
  },
  {
   "cell_type": "markdown",
   "metadata": {},
   "source": [
    "<h4>4.3.2.4. Feature Importance, Inorrectly Classified point</h4>"
   ]
  },
  {
   "cell_type": "code",
   "execution_count": 84,
   "metadata": {
    "scrolled": true
   },
   "outputs": [
    {
     "name": "stdout",
     "output_type": "stream",
     "text": [
      "Predicted Class : 7\n",
      "Predicted Class Probabilities: [[0.0485 0.1851 0.0052 0.0442 0.0617 0.0143 0.6317 0.0072 0.0022]]\n",
      "Actual Class : 7\n",
      "--------------------------------------------------\n",
      "60 Text feature [constitutively] present in test data point [True]\n",
      "89 Text feature [constitutive] present in test data point [True]\n",
      "116 Text feature [activated] present in test data point [True]\n",
      "158 Text feature [inhibited] present in test data point [True]\n",
      "159 Text feature [transforming] present in test data point [True]\n",
      "193 Text feature [receptors] present in test data point [True]\n",
      "195 Text feature [activating] present in test data point [True]\n",
      "203 Text feature [oncogene] present in test data point [True]\n",
      "226 Text feature [transform] present in test data point [True]\n",
      "241 Text feature [isozyme] present in test data point [True]\n",
      "265 Text feature [downstream] present in test data point [True]\n",
      "377 Text feature [agar] present in test data point [True]\n",
      "442 Text feature [interatomic] present in test data point [True]\n",
      "459 Text feature [activation] present in test data point [True]\n",
      "Out of the top  500  features  14 are present in query point\n"
     ]
    }
   ],
   "source": [
    "test_point_index = 100\n",
    "no_feature = 500\n",
    "predicted_cls = sig_clf.predict(test_x_onehotCoding[test_point_index])\n",
    "print(\"Predicted Class :\", predicted_cls[0])\n",
    "print(\"Predicted Class Probabilities:\", np.round(sig_clf.predict_proba(test_x_onehotCoding[test_point_index]),4))\n",
    "print(\"Actual Class :\", test_y[test_point_index])\n",
    "indices = np.argsort(-clf.coef_)[predicted_cls-1][:,:no_feature]\n",
    "print(\"-\"*50)\n",
    "get_impfeature_names(indices[0], test_df['TEXT'].iloc[test_point_index],test_df['Gene'].iloc[test_point_index],test_df['Variation'].iloc[test_point_index], no_feature)"
   ]
  },
  {
   "cell_type": "markdown",
   "metadata": {},
   "source": [
    "#### Summary"
   ]
  },
  {
   "cell_type": "code",
   "execution_count": 73,
   "metadata": {},
   "outputs": [
    {
     "name": "stdout",
     "output_type": "stream",
     "text": [
      "+---------------------------------------------------+------------+---------+-----------+--------------------+\n",
      "|                       Model                       | Train loss | CV loss | Test Loss | Mis-classified pts |\n",
      "+---------------------------------------------------+------------+---------+-----------+--------------------+\n",
      "|     LR(class balancing) with one hot encoding     |   0.6604   |  1.0897 |   1.1094  |       0.3703       |\n",
      "| LR(without class balancing) with one hot encoding |   0.648    |  1.1014 |   1.1079  |       0.3609       |\n",
      "+---------------------------------------------------+------------+---------+-----------+--------------------+\n"
     ]
    }
   ],
   "source": [
    "from prettytable import PrettyTable\n",
    "x=PrettyTable()\n",
    "x.field_names = [\"Model\",\"Train loss\", \"CV loss\", \"Test Loss\", \"Mis-classified pts\"]\n",
    "x.add_row([\"LR(class balancing) with one hot encoding\",0.6604,1.0897,1.1094,0.3703])\n",
    "x.add_row([\"LR(without class balancing) with one hot encoding\",0.6480,1.1014,1.1079,0.3609])\n",
    "\n",
    "print(x)"
   ]
  },
  {
   "cell_type": "markdown",
   "metadata": {},
   "source": [
    "In case of BOW LR(without class balancing) performed slightly better."
   ]
  },
  {
   "cell_type": "markdown",
   "metadata": {},
   "source": [
    "                                                "
   ]
  }
 ],
 "metadata": {
  "kernelspec": {
   "display_name": "Python 3",
   "language": "python",
   "name": "python3"
  },
  "language_info": {
   "codemirror_mode": {
    "name": "ipython",
    "version": 3
   },
   "file_extension": ".py",
   "mimetype": "text/x-python",
   "name": "python",
   "nbconvert_exporter": "python",
   "pygments_lexer": "ipython3",
   "version": "3.7.3"
  }
 },
 "nbformat": 4,
 "nbformat_minor": 2
}
